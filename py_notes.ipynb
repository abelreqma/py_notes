{
 "cells": [
  {
   "cell_type": "markdown",
   "metadata": {},
   "source": [
    "***\n",
    "\n",
    "# **Contents**\n",
    "**1. [Introduction to Computing](#intro)**\n",
    "   * [Data Types](#data_types)\n",
    "   * [Statements and Expressions](#s_e)\n",
    "   * [Operands, Mathematical Operations, and Backslash](#opmob)\n",
    "   * [Variable Naming Rules and Python Modes](#vnrpm)\n",
    "   * [Whitespace and Indentation](#wi)\n",
    "   * [Namespace and Scopes](#ns)\n",
    "   * [Importing Modules](#im)\n",
    "   * [Chapter Examples](#examples1)"
   ]
  },
  {
   "cell_type": "markdown",
   "metadata": {},
   "source": [
    "**2. [Python Basics](#basics)**\n",
    "   * [Objects and Types](#ot)\n",
    "      * [Integers](#integers)\n",
    "      * [Floats, Decimal Module, and Fraction Module](#floats)\n",
    "      * [Booleans, Strings, Lists, Dictionaries and Sets](#bslds)\n",
    "   * [Relational Operators and Boolean Operators](#reloperators)\n",
    "   * [Bitwise Operations](#bitwise)\n",
    "   * [Complex Numbers](#complex)\n",
    "   * [Statistics and Random Modules](#smandrm)\n",
    "   * [Hashing](#hashing)\n",
    "   * [Mutability](#mutability)\n",
    "   * [Iteration: Explicit Index](#index)\n",
    "   * [Iteration: range()](#range)\n",
    "   * [Iteration: enumerate()](#enum)\n",
    "   * [Copying Objects](#copy)\n",
    "   * [Chapter Examples](#examples2)"
   ]
  },
  {
   "cell_type": "markdown",
   "metadata": {},
   "source": [
    "**3. [Building Python Programs](#bpp)**\n",
    "   * [Decision Statements](#decisions)\n",
    "   * [while Statement](#while)\n",
    "      * [else and break](#eandbreak)\n",
    "      * [continue](#continue)\n",
    "      * [pass and Sentinal Loop](#passandsloop)\n",
    "   * [for Statement](#for)\n",
    "   * [The String Type](#tst)\n",
    "      * [Indexing and Slicing](#indexandslicing)\n",
    "      * [String Operations](#stringoperations)\n",
    "      * [String Functions and Methods](#stringfunctionsandmethods)\n",
    "      * [Formatted Output for Strings](#formattedo)\n",
    "   * [Files and Exceptions](#filesetexceptions)\n",
    "      * [Reading and Writing Text Files](#readingandwriting)\n",
    "      * [File Creation and Overwriting](#fcandoverwriting)\n",
    "      * [Searching a File of Words](#sfforwords)\n",
    "      * [Other File Access Methods](#fileaccessmethods)\n",
    "      * [Universal New Line Format](#unewlineformat)\n",
    "      * [Moving Around in a File](#movingaroundafile)\n",
    "      * [The with Statement and Unicode](#withandunicode)\n",
    "      * [CSV Files](#csvfiles)\n",
    "      * [Module: OS](#moduleos)"
   ]
  },
  {
   "cell_type": "markdown",
   "metadata": {},
   "source": [
    "**4. [Collections in Detail](#detailedcollections)**\n",
    "   * [Lists](#lists)\n",
    "      * [List of Lists](#listoflists)\n",
    "      * [List Indexing and Slicing](#listindexandslicing)\n",
    "      * [List Operators, Functions, and Iterations](#listoperatorsandfunctions)\n",
    "      * [List Mutability](#listmutability)\n",
    "      * [List Methods](#listmethods)\n",
    "      * [More List Methods](#morelistmethods)\n",
    "      * [List Comprehension](#listcomprehension)\n",
    "   * [Mutable Objects and References](#mutableobjectsandreferences)\n",
    "   * [Shallow Copy and Deep Copy](#shallowcopydeepcopy)\n",
    "   * [Tuples](#tuples)\n",
    "      * [Tuple Operations](#tupleoperations)\n",
    "      * [Tuples from Lists](#tuplesfromlists)\n",
    "   * [Data Structures](#datastructures)\n",
    "   * [Plotting](#plotting)\n",
    "      * [Pylab Arrays](#pylabarrays)\n",
    "      * [Broadcasting and Trigonometric Functions](#broadcastingandtrigfunctions)\n",
    "   * [Dictionaries](#dictionaries)\n",
    "      * [Dictionary Indexing and Assignment](#dictionaryindexingandassignment)\n",
    "      * [Dictionary Operators](#dictionaryoperators)\n",
    "      * [Important Dictionary Methods and Iteration](#dictionarymethods)\n",
    "      * [Dictionary Copy Method](#dictionarycopy)\n",
    "      * [Using ZIP to Create Dictionaries](#usingzip)\n",
    "   * [Sets](#sets)\n",
    "      * [Set Methods, Operators, and Functions](#setmethoperandfunctions)\n",
    "      * [More Set Methods](#moresetmethods)\n",
    "      * [Set Applications](#setapplications)\n",
    "   * [Dictionary and Set Comprehensions](#dictandsetcomprehensions)\n",
    "   * [Stacks](#stacks)\n",
    "   * [Queues](#queues)\n",
    "   * [Singly Linked List](#singlylinkedlist)\n",
    "   * [Doubly Linked List](#doublylinkedlist)"
   ]
  },
  {
   "cell_type": "markdown",
   "metadata": {},
   "source": [
    "**5. [Functions in Detail](#functionsindetail)**\n",
    "   * [Handling Errors](#handlingerrors)\n",
    "   * [The try-except Construct](#try-exceptconstruct)\n",
    "      * [Exception Example](#exceptionexample)\n",
    "      * [More on Exceptions](#moreonexceptions)\n",
    "   * [Functions](#functions)\n",
    "      * [Python Functions](#pythonfunctions)\n",
    "      * [Flow of Control with Functions](#functionflowofcontrol)\n",
    "      * [Parameter Passing](#parameterpassing)\n",
    "      * [Functions Calling Functions & When to Use a Function](#functionscallingfunctions)\n",
    "      * [Return Statements](#returnstatements)\n",
    "      * [Having a Varying Number of Parameters](#varyingnumberofparams)\n",
    "      * [Iterators and Generators](#iteratorsandgenerators)\n",
    "      * [Other Functional Programming Ideas](#otherfuncprogrammideas)\n",
    "      * [Some Functional Programming Tools](#functionalprogrammingtools)\n",
    "   * [Scope in Functions](#scopefunctions)\n",
    "      * [Arguments, Parameters, and Namespaces](#argumentsparamsandnamespaces)\n",
    "      * [Passing Mutable Objects](#passingmutableobjects)\n",
    "      * [Returning a Complex Object](#returningacomplexobj)\n",
    "   * [Default Values and Parameters as Keywords](#defaultvalsandparamsaskeywrds)\n",
    "      * [Issues with Default Values](#issueswithdv)\n",
    "   * [Functions as Objects](#functionsasobjects)\n",
    "      * [Function Annotations](#functionannotations)\n",
    "      * [Docstrings](#docstrings)\n",
    "   * [Recursion](#recursion)\n",
    "      * [Example: Reversing a String](#recursionstring)\n",
    "      * [How Recursion Works](#howrecursionworks)\n",
    "         * [Stacks and Function Calls](#stacksandfunctioncalls)"
   ]
  },
  {
   "cell_type": "markdown",
   "metadata": {},
   "source": [
    "**6. [Classes in Detail](#classesindetail)**\n",
    "   * [Introduction to Classes](#introtoclasses)\n",
    "      * [Working with OOP](#workingwithoop)\n",
    "      * [Working with Classes and Instances](#workingwithclassesandinstances)\n",
    "   * [Object Methods](#objectmethods)\n",
    "      * [Writing Methods and Self Argument](#writingmethodsandselfarg)\n",
    "   * [The Python Class Model](#classmodel)\n",
    "      * [Example Class: Explained](#newclass_ex)\n",
    "   * [Python OOP Features](#pyspecoopfeats)\n",
    "      * [Public versus Private](#pubvpriv)\n",
    "      * [Indicating Privacy with Double Underscores](#privdoubleunder)\n",
    "   * [More on Classes](#moreonclasses)\n",
    "      * [Variation on Import, from](#variationonimportfrom)\n",
    "      * [Introspection](#introspection)\n",
    "      * [Operator Overloading](#creatingoperatoroverloading)\n",
    "         * [Mapping Operators to Special Methods](#mappingopertospecmeth)\n",
    "   * [Building a Class](#buildingaclass)\n",
    "      * [Step One](#classstepone)\n",
    "      * [Step Two](#classsteptwo)\n",
    "      * [Step Three](#classstepthree)\n",
    "      * [Step Four](#classstepfour)\n",
    "      * [Step Five](#classstepfive)\n",
    "   * [Inheritance](#classinheritence)\n",
    "      * [Using Inheritance](#usinginheritance)\n",
    "   * [Program Development with Classes](#programdevwithclasses)\n",
    "      * [Simulation using OOP](#simusingoop)\n",
    "      * [The Example Classes](#animalislandclass)"
   ]
  },
  {
   "cell_type": "markdown",
   "metadata": {},
   "source": [
    "***\n",
    "<a id=\"intro\"></a>\n",
    "\n",
    "## **Introduction to Computing**\n",
    "Python is an **interpreted language**. An interpreted language is a programming language where each line of code can be executed separately by the built-in interpreter. This allows programmers to test lines of code in a shell before compiling the entire script; within a shell, it is possible to determine the value of a variable or execute one line of code instead of running the entire program. Python is also a **dynamically-typed language,** which  means that the interpreter assigns variables during the runtime; the data type does not need to be specified by the programmer."
   ]
  },
  {
   "cell_type": "markdown",
   "metadata": {},
   "source": [
    "<a id=\"data_types\"></a>\n",
    "#### **`Data Types`**\n",
    "There are two types of data types in Python:\n",
    "* **Primitive Data Types** represent single values\n",
    "   * Integers\n",
    "   * Floats\n",
    "   * Booleans\n",
    "   * Complex Numbers\n",
    "      * 1 + 2j or complex(1, 2)\n",
    "\n",
    "\n",
    "* **Collection Data Types** store multiple values together within a variable, and can hold primitive data types, collection data types, or both data types. \n",
    "   * Strings\n",
    "   * List []\n",
    "   * Tuple ()\n",
    "   * Set {}\n",
    "   * Dictionary {}\n",
    "      * Dictionaries contain key: value pairs: {\"key\":\"value\", \"key\":\"value\"}"
   ]
  },
  {
   "cell_type": "markdown",
   "metadata": {},
   "source": [
    "<a id=\"s_e\"></a>\n",
    "\n",
    "#### **`Statements and Expressions`**\n",
    "In Python, **Statements** perform a task but do not return any value. Statements can have **Side Effects,** which are indirect changes when a statement is executed. In the case of assignment statements, the side effect would be the action of assigning a value to a variable. Similarly, Python also has **Expressions,** which are a combination of values and operations that return a value."
   ]
  },
  {
   "cell_type": "code",
   "execution_count": 2,
   "metadata": {},
   "outputs": [
    {
     "data": {
      "text/plain": [
       "4.1459"
      ]
     },
     "execution_count": 2,
     "metadata": {},
     "output_type": "execute_result"
    }
   ],
   "source": [
    "# Examples of Statements and Expressions\n",
    "pi = 3.1459 # statement\n",
    "\n",
    "pi + 1 # expression"
   ]
  },
  {
   "cell_type": "markdown",
   "metadata": {},
   "source": [
    "<a id=\"opmob\"></a>\n",
    "#### **`Operands, Mathematical Operations, and Backslash`**\n",
    "* **Operands**\n",
    "   * Greater (>)\n",
    "   * Greater or Equal (=>)\n",
    "   * Less (<)\n",
    "   * Less or Equal (=<)\n",
    "   * Equals (==)\n",
    "   * Doesn't Equal (!=)\n",
    "   \n",
    "<br>\n",
    "\n",
    "Python also has **augmentated assignment operators.** These operators perform a mathematical operation to a variable and assign the value to the same variable. The variable, however, must already have a value assigned to it before using the augmentated assignment operator. For example:<br>\n",
    "* a += 1 *is really* a = a + 1\n",
    "* b -= 1 *is really* b = b - 1\n",
    "* etc\n",
    "\n",
    "<br>\n",
    "\n",
    "* **Mathematical Operations**\n",
    "   * Addition (+)\n",
    "   * Subtraction (-)\n",
    "   * Division (/)\n",
    "   * Floor (//) *performs division and rounds the result down to the nearest integer*\n",
    "   * Modulo (%) *returns the remainder of dividing the left operand by the right operand*\n",
    "   * Multiplication (*)\n",
    "   * Exponent (**)\n",
    "   * `.divmod()`\n",
    "      * combines // and %, returning the quotient (//) and the remainder (%) as a tuple\n",
    "\n",
    "In the real-world, a number with a decimal is yielded when a whole number and a non-whole number are multiplied, divided, added, or subtracted. The same is true for Python. When an integer is divided by a float, or vice-versa, the produced output will always be a float. The rules of PEMDAS also apply to Python. The following code proves this, but typically, when an larger integer is divided by a smaller integer, the result would also be an integer."
   ]
  },
  {
   "cell_type": "code",
   "execution_count": 21,
   "metadata": {},
   "outputs": [
    {
     "name": "stdout",
     "output_type": "stream",
     "text": [
      "1.6666666666666667\n",
      "1\n",
      "2\n"
     ]
    }
   ],
   "source": [
    "print(5 / 3) # Returns the result of the division as a float\n",
    "print(5 // 3) # Rounds down any float to an integer. In this case, 1.67 was rounded down to 1\n",
    "print(5 % 3) # Returns the remainder of the division. In this case, there is a remainder of 2"
   ]
  },
  {
   "cell_type": "markdown",
   "metadata": {},
   "source": [
    "\n",
    "The **Forward Slash (/)** should not be confused with the **Back Slash (\\\\)** as they have completely different uses. The back slash can have many different uses when combined with particular letters, but a back slash alone is used to wrap text on the right-hand side for statements and expressions to enhance readability. In the following example, note how \"my_var2\" is right next to the open parenthesis on the next line:"
   ]
  },
  {
   "cell_type": "code",
   "execution_count": null,
   "metadata": {},
   "outputs": [],
   "source": [
    "my_var1 = 5.0\n",
    "my_var2 = 3\n",
    "print(my_var1 % \\\n",
    "      my_var2) "
   ]
  },
  {
   "cell_type": "markdown",
   "metadata": {},
   "source": [
    "<a id=\"vnrpm\"></a>\n",
    "#### **`Variable Naming Rules and Python Modes`**\n",
    "There are rules in naming variables:\n",
    "* Must start with letter or _\n",
    "* Cannot start with number\n",
    "* Case sensitive\n",
    "* Alphanumeric and _ only\n",
    "* No reserved keywords\n",
    "   * and, as, assert, break, class, continue, def, del, elif, else, except, False, finally, for, from, global, if, in, import, is, lambda, None, nonlocal  not, or, pass, raise, return, True, try, while, with, yield\n",
    "   \n",
    "<br>\n",
    "\n",
    "Python can be run in **Script Mode** or **Shell Mode.** In script mode, the code is written onto a file to be executed. In shell mode, there is an interactive Python session."
   ]
  },
  {
   "cell_type": "markdown",
   "metadata": {},
   "source": [
    "<a id=\"wi\"></a>\n",
    "#### **`Whitespace and Indentation`**\n",
    "Whitespace separates characters in a script and shell to make the code more readable. To create whitespace, the return key, tab key, vertical tab, space, and linefeed can be used. Grouping is defined by common indentation (leading whitespace), and must remain consistent for a block of code. Whitespace does not matter for expressions, statements, and blank lines. While whitespace may make the code more readable for these situations, it will have no effect on the execution of the code. It is important to remember that the output of a code can differ depending on indentation. Consider why the output is different in the following examples:\n"
   ]
  },
  {
   "cell_type": "code",
   "execution_count": 3,
   "metadata": {},
   "outputs": [
    {
     "name": "stdout",
     "output_type": "stream",
     "text": [
      "0 0\n"
     ]
    }
   ],
   "source": [
    "x = 0\n",
    "y = 0\n",
    "z = 10\n",
    "if z > 25:\n",
    "   x = z**2\n",
    "   y = z**3   # y is part of the if statement\n",
    "print(x, y)"
   ]
  },
  {
   "cell_type": "code",
   "execution_count": 4,
   "metadata": {},
   "outputs": [
    {
     "name": "stdout",
     "output_type": "stream",
     "text": [
      "0 1000\n"
     ]
    }
   ],
   "source": [
    "x = 0\n",
    "y = 0\n",
    "z = 10\n",
    "if z > 25:\n",
    "   x = z**2\n",
    "y = z**3       # y is NOT part of the if statement\n",
    "print(x, y)"
   ]
  },
  {
   "cell_type": "markdown",
   "metadata": {},
   "source": [
    "<a id=\"ns\"></a>\n",
    "#### **`Namespace and Scopes`**\n",
    "A **Namespace** is essentially a relation between names and objects, and are used to determine what object is associated with a variable. There can be multiple namespaces in Python, but these namespaces do not share names; a name in one namespace can have as a value any Python object, and the same name in different namespaces can be associated with a different object. It is important to note that multiple namespaces can work together to resolve a name if a name-resolution protocol exists, and if there are multiple namespaces (which there always are), there is an order of search to look through the different namespaces to find a name => this defines **Scope.** Names are resolved by defining a search rule that defines the order that Python looks through the multiple namespaces to find a name. The following are the Python scopes: <br>\n"
   ]
  },
  {
   "cell_type": "markdown",
   "metadata": {},
   "source": [
    "\n",
    "* **Local** \n",
    "   * The namespace within a function that comes into being when the function is invoked and becomes inactive when the function invocation ends\n",
    "   * While the local namespace is active, it is the first namespace that is checked for the existence of a name. \n",
    "      * If the name is found in the local namespace, then the associated object (or an error if the name exists but no value is yet associated) is returned\n",
    "      \n",
    "* **Enclosing**\n",
    "   * The scope of a function that is nested within another function. When a variable is not found in the Local scope (inside the inner function), Python will check the enclosing function's scope for that variable.\n",
    "   * This is relevant for **nested functions,** where one function (the inner function) is defined inside another (the outer function). \n",
    "      * The enclosing scope is the outer function's local scope, which means the variables in the outer function are accessible to the inner function, even though the inner function has its own local scope.\n",
    "      * The inner function can access variables from the outer function, but the outer function cannot access variables defined inside the inner function.\n",
    "      * If the inner function defines a variable with the same name as one in the enclosing scope, the inner function will use its local version, overriding the enclosing one\n",
    "\n",
    "* **Global**\n",
    "   *  Refers to variables that are defined at the top level of a script or module, outside of all functions. \n",
    "   * Variables in the global scope are accessible from any part of the code, including inside functions, unless they are shadowed by local variables with the same name.\n",
    "      * If a global variable needs to be modified inside a function, it must be declared as global via the `global` keyword. Otherwise, the Python interpreter treats any assignment to a variable inside a function as local to that function. \n",
    "      * Global variables can also be accessed across modules by importing the module where they are defined\n",
    "\n",
    "\n",
    "* **Built-Ins**\n",
    "   * Refers to the functions, constants, and exceptions that are always available without the need for importing any modules\n",
    "   * Built-in names can be shadowed, so it should be avoided using common built-in names for variables or functions in a script\n",
    "      * `abs()`, `int()`, `list()`, `input()`, `len()`, `sum()`, `any()`, `try`, `except`, etc\n",
    "\n",
    "<br>\n",
    "\n",
    "In summary, when a  variable or function is referenced, Python looks for it in this order: Local → Enclosing → Global → Built-in (LEGB). It is important to remember the **Local Assignment Rule.** If anywhere in a function an assignment is made, then that assignment is assumed to create a name only in the presently active namespace. The following is an example of how Python determines namespaces based on the position of assignment:"
   ]
  },
  {
   "cell_type": "code",
   "execution_count": 5,
   "metadata": {},
   "outputs": [
    {
     "name": "stdout",
     "output_type": "stream",
     "text": [
      "Inner Function: local x\n",
      "Outer Function: enclosing x\n",
      "Global Scope: global x\n",
      "Built-in Function: 14\n"
     ]
    }
   ],
   "source": [
    "# Global Scope\n",
    "x = \"global x\"  # Global variable\n",
    "\n",
    "def outer_function():\n",
    "    # Enclosing Scope\n",
    "    x = \"enclosing x\"  # Enclosing variable\n",
    "\n",
    "    def inner_function():\n",
    "        # Local Scope\n",
    "        x = \"local x\"  # Local variable\n",
    "        print(\"Inner Function:\", x)  # Refers to the local variable 'x'\n",
    "\n",
    "    inner_function()\n",
    "    print(\"Outer Function:\", x)  # Refers to the enclosing variable 'x'\n",
    "\n",
    "outer_function()\n",
    "print(\"Global Scope:\", x)  # Refers to the global variable 'x'\n",
    "\n",
    "# Demonstrating Built-in Scope\n",
    "print(\"Built-in Function:\", len(\"Built-in scope\"))  # Uses the built-in 'len()' function"
   ]
  },
  {
   "cell_type": "markdown",
   "metadata": {},
   "source": [
    "<a id=\"im\"></a>\n",
    "#### **`Importing Modules`**\n",
    "The import keyword is used when modules and libraries are imported from other places into a Python program. Consider the math libary. To import all of the programs in the math  library, `import math` would be used. This, however, requires that everything referenced from the module be preceded by `math.[item]`. To get a specific function from the library, for example pi, `from math import pi` would have to be used. If pi were to be referenced anywhere in the program it does not need to be preceeded by math, and can be called directly using `pi`. If the programmer wants to call pi something else without having to rename it in the code, it can be imported as `from math import pi as π`. If this is done, the value of pi can be called as `π` immediately after importing it."
   ]
  },
  {
   "cell_type": "markdown",
   "metadata": {},
   "source": [
    "<a id=\"examples1\"></a>\n",
    "\n",
    "#### **`Chapter Examples`**\n",
    "The Following code snippets are example programs that should now be known from this chapter:\n",
    "\n",
    "**1. Ask for the side of a cube and compute its volume**\n",
    "\n",
    "**2. Convert temperature in Farhenheit to temperature in Celsius**\n",
    "\n",
    "**3. Print the number of characters in a sentence**\n",
    "\n",
    "**4. Print the number of words in the given paragraph**\n",
    "\n",
    "**5. Compute the perimeter of a circle given its radius**\n",
    "\n",
    "**6. Print the 10 first powers of two**\n",
    "\n",
    "**7. Find the biggest value in a given list**\n",
    "\n",
    "**8. In a function, with two parameters (start, stop), print every even number in the given range**\n",
    "\n",
    "**9. In a function, with one parameter (text), print the longest word in a sentence**\n",
    "\n",
    "**10. Calculate the distance between the two furthest apart values in a list**"
   ]
  },
  {
   "cell_type": "code",
   "execution_count": null,
   "metadata": {},
   "outputs": [],
   "source": [
    "# Example 1\n",
    "side = float(input(\"Side of cube: \"))\n",
    "volume = (side**3)\n",
    "print(\"The volume of the cube is\", volume)"
   ]
  },
  {
   "cell_type": "code",
   "execution_count": null,
   "metadata": {},
   "outputs": [],
   "source": [
    "# Example 2\n",
    "f = int(input(\"Degrees in Farhenheit: \"))\n",
    "c = int((f - 32) * (5/9))\n",
    "print(f, \"degrees in Farhenheit is\", c, \"degrees in Celsius\")\n"
   ]
  },
  {
   "cell_type": "code",
   "execution_count": null,
   "metadata": {},
   "outputs": [],
   "source": [
    "# Example 3\n",
    "x = \"Python is an easy to learn, powerful programming language\"\n",
    "print(len(x))"
   ]
  },
  {
   "cell_type": "code",
   "execution_count": 22,
   "metadata": {},
   "outputs": [
    {
     "name": "stdout",
     "output_type": "stream",
     "text": [
      "9\n"
     ]
    }
   ],
   "source": [
    "# Example 4\n",
    "y = \"Python is an easy to learn, powerful programming language\"\n",
    "x = y.split(' ')\n",
    "\n",
    "print(len(x))"
   ]
  },
  {
   "cell_type": "code",
   "execution_count": null,
   "metadata": {},
   "outputs": [],
   "source": [
    "# Example 5\n",
    "import math\n",
    "\n",
    "def circle_perimeter(radius):\n",
    "    c = 2 * math.pi * radius\n",
    "    return c\n",
    "circle_perimeter(4)"
   ]
  },
  {
   "cell_type": "code",
   "execution_count": null,
   "metadata": {},
   "outputs": [],
   "source": [
    "# Example 6\n",
    "for i in range(10):\n",
    "    x = 2**i\n",
    "    i += 1\n",
    "    print(x)"
   ]
  },
  {
   "cell_type": "code",
   "execution_count": null,
   "metadata": {},
   "outputs": [],
   "source": [
    "# Example 7\n",
    "the_list = [1,2,3,4,5,6,7,8,9,10,11,12]\n",
    "\n",
    "print(max(the_list))"
   ]
  },
  {
   "cell_type": "code",
   "execution_count": null,
   "metadata": {},
   "outputs": [],
   "source": [
    "# Example 8\n",
    "def even_numbers(start, stop):\n",
    "    for i in range(start, stop):\n",
    "        if i % 2 == 0:\n",
    "            print(i)\n",
    "            \n",
    "even_numbers(1, 10)"
   ]
  },
  {
   "cell_type": "code",
   "execution_count": 26,
   "metadata": {},
   "outputs": [
    {
     "data": {
      "text/plain": [
       "'programming'"
      ]
     },
     "execution_count": 26,
     "metadata": {},
     "output_type": "execute_result"
    }
   ],
   "source": [
    "# Example 9 \n",
    "def longest_word(text):\n",
    "   words = text.split()\n",
    "   longest = max(words, key=len) # Calculates the length of each word using the len() function\n",
    "   return longest\n",
    "\n",
    "longest_word('Python is an easy to learn, powerful programming language')"
   ]
  },
  {
   "cell_type": "code",
   "execution_count": null,
   "metadata": {},
   "outputs": [],
   "source": [
    "# Example 10\n",
    "def dist(points):\n",
    "   mini = min(points)\n",
    "   maxi = max(points)\n",
    "   return maxi - mini\n",
    "            \n",
    "dist([1,2,3,4,5,6,7,8,9,10])"
   ]
  },
  {
   "cell_type": "markdown",
   "metadata": {},
   "source": [
    "***\n",
    "<a id=\"basics\"></a>\n",
    "\n",
    "## **Python Basics**\n",
    "This section goes into detail about **Data Types, Hashing, Mutability, Ranges, and Copying Objects**"
   ]
  },
  {
   "cell_type": "markdown",
   "metadata": {},
   "source": [
    "<a id=\"ot\"></a>\n",
    "\n",
    "#### **`Objects and Types`**\n",
    "In Python, everything in the system is considered to be an **object.** An object in Python has an identity, some attributes (information about the object), and zero or more names.  Whenever an object is created by Python, it receives an **ID;** to see the number of the object, the `id()` function can be used. Python uses the ID number to distinguish one object from another. In addition to the ID number, an object can also have a name or multiple names. While this is not part of the object's ID, this makes the code more readable. Python uses the name space to associate a name with an object; multiple namespaces may associate different names with the same object."
   ]
  },
  {
   "cell_type": "markdown",
   "metadata": {},
   "source": [
    "\n",
    "<ins>Each object is considered an example of a type:</ins><br>\n",
    "`1`, `2`, `500` are objects of the same type, called *int*<br>\n",
    "`1.4`, `7.6`, `6.9` are objects of the same type, called *float*<br>\n",
    "`\"abel\"`, `\"phone\"`, `\"bed\"` are objects of the same type, called *str*<br>\n",
    "\n",
    "\n",
    "The type of an object informs Python of:\n",
    "* **Attributes:** The attributes of the object give insight to its content. For example, there are no decimal points in an integer object, and there are no letters in either an integer object or a float object.\n",
    "* **Operations:** Give insight about the actions that can be done with the object. For example, two integer objects or two float objects can be divided, but the division operation won't make sense on a string object.\n"
   ]
  },
  {
   "cell_type": "code",
   "execution_count": null,
   "metadata": {},
   "outputs": [],
   "source": [
    "x = 1\n",
    "y = 2.1\n",
    "print(f\"1. The original value of a is {x}, its id is\", id(x), \"and its type is\", type(x))\n",
    "print(f\"2. The original value of b is {y}, its id is\", id(y), \"and its type is\", type(y))\n",
    "x = y\n",
    "print(f\"3. When x assumes the value of y, the new value is {x}, its id is\", id(x), \"and its type is\", type(x))"
   ]
  },
  {
   "cell_type": "markdown",
   "metadata": {},
   "source": [
    "There are a few things to notice from this example:\n",
    "\n",
    "**1. The system dependent ID number is yielded when using the ID function.**\n",
    "   - While this number is different from session to session, or machine to machine, the ID number is used by the machine to refer to specific objects.\n",
    "   - Because this value seems to be a random number, of which a human will have difficulty remembering, programmers create variable names to remember a created object, instead of remembering the ID numbers.\n",
    "\n",
    "**2. The type of an object has nothing to do with the variable name**\n",
    "   - This is shown on the 5th line of the code, when the variable x is reassigned with the value of the variable y. The value, ID, and the object type of the variable x (on line 5) is the same as variable y. Therefore, both names are now associated with the same object\n",
    "   - The name of the variable has nothing to do with the type of object with which it is associated\n",
    "   - A variable can refer to any object, and that object, and potentially its type, can change over time. "
   ]
  },
  {
   "cell_type": "markdown",
   "metadata": {},
   "source": [
    "<a id=\"integers\"></a>\n",
    "\n",
    "##### **`Integers`**\n",
    "By default, integers are written in **Base 10.** They may also be written in **Base 8 (Octal)**, **Base 16 (Hexadecimal)**, or **Base 2 (Binary).** While leading zeros are not allowed for base 10 integers, Python assumes that if a number is preceded by 0, the programmer wants to encode it in a base other than 10. A letter following the 0 indicates the base:  `o` specifies octal, `x` specifies hexadecimal, and `b` specifies binary. Even if a number is encoded in one of these formats, it is still an integer type.\n"
   ]
  },
  {
   "cell_type": "markdown",
   "metadata": {},
   "source": [
    "\n",
    " To encode in `octal`, there are 8 possible numbers for each tens place. For example, `0o0 - 0o7`is the range for numbers 0-7, `0o10 - 0o17`is the range for numbers 8-15, `0o20 - 0o27` is the range for numbers 16-23. This number pattern continues...<br>\n",
    "\n",
    " To encode in `binary`, starting from the right, each number is powered by 2 starting at 1. If a number is `1 it is on` and if a number is `0 it is off`.<br>\n",
    "\n",
    " To encode in `hexadecimal`, remember that each value represents 4 binary bits and that the position of the hexadecimal value matters. Hexadecimal goes from 0 (0) all the way to F (15). It may make more sense to convert the hexadecimal to binary to determine the value. In the following example, `0x1A` equals `26` because 1 represents 0001 and A represents 1010. When combined, `00011010` is equal to the decimal value of 26."
   ]
  },
  {
   "cell_type": "code",
   "execution_count": null,
   "metadata": {},
   "outputs": [],
   "source": [
    "print(0x1A, end=' '); print(hex(26))\n",
    "print(0b11010, end=' '); print(bin(26))\n",
    "print(0o32, end= ' '); print(oct(26))\n",
    "print(26)"
   ]
  },
  {
   "cell_type": "markdown",
   "metadata": {},
   "source": [
    "<a id=\"floats\"></a>\n",
    "\n",
    "##### **`Floats, Decimal Module, and Fraction Module`**\n",
    "The `Float Type` refers to non-integer numbers, numbers with decimal points. Floats are created either by typing a decimal point number or by using exponential notation, with the exponent represented by `e`. For example, 5.29e-5 is 5.29 x 10^-5. Unlike integers, floats provide provide approximate values that are not exact, and the operations using float values yield approximate values. These approximations, if carried through multiple evaluations, can lead to significant differences than what is expected; however, Python has the Decimal module that provides more predictable nd controllable results for floats."
   ]
  },
  {
   "cell_type": "markdown",
   "metadata": {},
   "source": [
    "The `Decimal Module` and its associated class Decimal allow further manipulation with float values, including: controlling the precision of decimal operations, keeping a float result using significant places, and keeping the same calculations as floats (even if those numbers cannot be exactly represented in binary float format). There are three ways to construct a decimal instance:\n",
    "\n",
    "**1. Integer:** If a single integer is provided, a Decimal instance of that value is constructed.\n",
    "\n",
    "**2. String:** If a string representation of a decimal number is provided, that exact value will be stored in the instace. All operations using that instance will reflect the use of that exact value, without any floating-point inaccuracy. If the Decimal module is used, a string should be used to get the exact value.\n",
    "\n",
    "**3. Float:** If a float is provided, the underlying floating-point representation will be used in constructing the instance. Any floating-point inaccuracies will exist in the resulting instace. Essentially, a float should not be specified in a Decimal instance because the inaccuracies still persist.\n",
    "\n",
    "\n"
   ]
  },
  {
   "cell_type": "code",
   "execution_count": null,
   "metadata": {},
   "outputs": [],
   "source": [
    "from decimal import Decimal\n",
    "onestr = Decimal(\"1.1\") \n",
    "twostr = Decimal(\"2.2\")\n",
    "onefloat = Decimal(1.1) \n",
    "print(\"Two floats added together without the Decimal Module:\", 1.1 + 2.2)\n",
    "print(\"One float and one string added together via the Decimal Module:\", onefloat + twostr)\n",
    "print(\"Two strings added together via the Decimal Module\", onestr + twostr)"
   ]
  },
  {
   "cell_type": "markdown",
   "metadata": {},
   "source": [
    "Using the Decimal Module, binary operations can be performed to yield a new instance. In division, however, the result is a full floating-point representation. Strings using the decimal function will be saved with all of the specified numbers, including zeros after significant digits. Similarly, comparisons and membership operations can also be done with the Decimal Module. A decimal instance is **immutable**\n",
    "\n",
    "It is important to remember that integers can be mixed with a Decimal instance, but floats can not. If the mixed type is an integer, a newDecimal is produced. If it is a float, an exception is thrown. Built-in functions can be used on decimal instances, like `float()`,  `str()`, `max()`, `sum()`, etc.\n",
    "\n",
    "General properties used by the decimal package can be accessed by examining the context variable. The context can be accessed via  the  `getcontext()` function, which returns a context variable with a number of fields that can be set by the programmer to control the behavior of the decimal package:"
   ]
  },
  {
   "cell_type": "code",
   "execution_count": null,
   "metadata": {},
   "outputs": [],
   "source": [
    "import decimal\n",
    "from decimal import Decimal\n",
    "one_one = Decimal(\"1.1\")\n",
    "six_six = Decimal(\"6.6\")\n",
    "context = decimal.getcontext() # Initializes the getcontext function\n",
    "print(\"Before setting the precision:\", one_one / six_six)\n",
    "context.prec = 4 # Sets the precision to four\n",
    "print(\"After setting the precision to 4:\", one_one / six_six)"
   ]
  },
  {
   "cell_type": "markdown",
   "metadata": {},
   "source": [
    "The most important feature of the `getcontext()` function is the **Precision.** The level of precision, as seen from the example, can be controlled by setting the `.prec` field of the context. It is important to remember that the value to be stored is the number of floating-point elements to be maintained for any operation. By default, this value is set to 28. Whatever the precision is set to, the result will be rounded to that many elements. \n",
    "\n",
    "Another important feature of the getcontext() function is the ability to **Round.** The method of rounding used can be set using the `.rounding` field of the context. Python provides eight predefined methods of rounding, but by default, ROUND_HALF_EVEN is used, which means round to the the nearest with ties going to the nearest even integer. \n",
    "\n",
    "The final important feature of the getcontext() function is setting the **Exponent** to display with a lowercase or uppercase **e.** This can be changed using the `.capitals` field of the context. This can be set to 1 (uppercase) or 0 (lowercase)."
   ]
  },
  {
   "cell_type": "markdown",
   "metadata": {},
   "source": [
    "The `Fraction Module` provides a Fraction class. An instance of a fraction can be treated like any other number. Like the Decimal Module, there are various ways to contstruct a fraction. First of all, a **Numerator** and a **Denominator** can be specified as two integers. The denominator cannot be zero or it will give a ZeroDivisionError. If the instance is not in reduced form, then Python will automatically reduce it. If a single integer is given, Python will assume it as the numerator and the denominator as 1. \n",
    "\n",
    "If a float is specified in the fraction instance, Python will create an exact fraction if it can, or the best approximation if it cannot. Some floats can be accurately represented by a fraction, like `.10`, while  other floats can only be approximated, like `math.pi`.\n",
    "\n",
    "If a string is specified in the fraction instance, Python will do a conversion based on a couple of factors. Firstly, if the string has a \"/\" in it, it is assumed to represent two separate integers as a numerator and denominator and the instance will be created based on those numbers. If the string represents an integer or a float, then the rules for an integer or a float will be used to do the conversion\n"
   ]
  },
  {
   "cell_type": "code",
   "execution_count": null,
   "metadata": {},
   "outputs": [],
   "source": [
    "from fractions import Fraction\n",
    "print(Fraction(1,2))\n",
    "print(Fraction(8,16))\n",
    "print(Fraction(2))\n",
    "print(Fraction(.25))"
   ]
  },
  {
   "cell_type": "markdown",
   "metadata": {},
   "source": [
    "Binary operations (+, −, *, /) can be performed on Fraction instances and will yield a new fraction instance. If the operation results in an instance that can be reduced, Python will reduce the Fraction instace. Similar to the Decimal Module, comparisons, membership operations (in) and other numeric operations can be performed. \n",
    "\n",
    "Unlike the Decimal Module, a Fraction instance can be mixed with a float or an integer. If the mixed type is an **integer,** a new Fraction is produced. If the mixed type is a float, a **float** will be produced. It is important to remember that the conversion of the float to a Fraction instance might be an approximation. When converting a float to a fraction, the size of the denominator can be limited to a particular value through the `.limit` method, which takes the argument of the largest denomintator size allowed.\n",
    "\n",
    "\n",
    "Built-in functions, including casting functions, can also be performed on Fraction instances. A fraction instance is **immutable,** so the numerator or denominator of an instance cannot be changed once it is constructed. The numerator can be accessed with the `.numerator` method, and the denominator can be accessed through the `.denominator` method.\n"
   ]
  },
  {
   "cell_type": "code",
   "execution_count": 18,
   "metadata": {},
   "outputs": [
    {
     "name": "stdout",
     "output_type": "stream",
     "text": [
      "1/8 + 1/4 = 3/8\n",
      "1/4 + 1 = 5/4\n",
      "Denominator of 1/4: 4\n",
      "This is the original fraction of pi: 884279719003555/281474976710656 and this is the value 3.141592653589793\n",
      "This is the value of pi when the denominator is limited to 3 digits 311/99 and this is the value 3.1414141414141414\n"
     ]
    }
   ],
   "source": [
    "from fractions import Fraction\n",
    "import math\n",
    "eighth = Fraction(1,8)\n",
    "fourth = Fraction(1,4)\n",
    "print(\"1/8 + 1/4 =\", eighth + fourth)\n",
    "print(\"1/4 + 1 =\", fourth + 1)\n",
    "print(\"Denominator of 1/4:\", fourth.denominator)\n",
    "pi_frac = Fraction(math.pi)\n",
    "print(\"This is the original fraction of pi:\", pi_frac, \"and this is the value\", 884279719003555/281474976710656)\n",
    "print(\"This is the value of pi when the denominator is limited to 3 digits\", pi_frac.limit_denominator(100), \"and this is the value\", 311/99)"
   ]
  },
  {
   "cell_type": "markdown",
   "metadata": {},
   "source": [
    "<a id=\"bslds\"></a>\n",
    "\n",
    "##### **`Booleans, Strings, Lists, Dictionaries and Sets`**\n",
    "\n",
    "The `Boolean` type (bool) refers to the values True or False. If an object is of type Boolean, it can be only one of those two values. In fact, the two Boolean objects are represented as integers: 0 is False and 1 is True. A Boolean is a primitive data type.\n",
    "\n",
    "The `String` type (str) is considered a collection data type and sequence type. Strings contain multiple objects organized as a single object type and are delimited by single quotes or double quotes. \n",
    "\n",
    "The `List` type (list) is considered a collection data type and sequence type. Lists are indicated with square brackets `[]` and its contents are separated by commas.\n",
    "\n",
    "The `Dictionary` type (dict) is considered a collection data type and map type. A map type consists of a set of element pairs, separated by colons, where the first element in the pair is the **key** and the second is the **value.** The key can be used to search for a value. Lists are indicated with curly brackets `{}` and colons between the key and value pair. The pairs are separated by commas. \n",
    "\n",
    "The `Set` type (set) is considered a collection data type. A set consists of unique elements and also use curly brackets `{}`, but do not contain key:value pairs. Sets support mathematical set operations, like union and intersection.\n",
    "\n",
    "Every object has a type, and the type determines what is stored in the object and the kinds of operations that can be performed on that object. Each type has an associated constructor, and the constructor's name is the name of the type. A **constructor** is an operation that is used to make a particular object of that type. If no value is provided within the parentheses, then the default value of that type is provided. If a value is provided in the parentheses, then the constructor will convert that value to a new object of the specified type if it can. Therefore, constructors can be used to convert one object to a new object of a different type."
   ]
  },
  {
   "cell_type": "markdown",
   "metadata": {},
   "source": [
    "<a id=\"reloperators\"></a>\n",
    "\n",
    "#### **`Relational Operators and Boolean Operators`**\n",
    "\n",
    "Boolean expressions are composed of relational operators that yield results that are evaluated as True or False. Relational operators are less than, greater than, equal to, etc. If two objects are equal (==), it could either mean that **two different names are associated with objects that have the same value,** or it could mean that **two different names are associated with the same object (objects with the same ID)**"
   ]
  },
  {
   "cell_type": "markdown",
   "metadata": {},
   "source": [
    "\n",
    "The three basic Boolean operators are `and`, `not`, and `or`. The following examples show this with the objects p and q:\n",
    "\n",
    "`not p`\n",
    "\n",
    "| p    | not p |\n",
    "| -------- | ------- |\n",
    "| True  | False    |\n",
    "| False | True     |\n",
    "\n",
    "The **not operator** flips the value of the Boolean operand. True is converted to False, and False is converted to True.\n",
    "\n",
    "<br>\n",
    "\n",
    "`p and q`\n",
    "\n",
    "| p    | q | p and q |\n",
    "| --- | --- | --- |\n",
    "| True | True | True |\n",
    "| True | False | False |\n",
    "| False | True | False |\n",
    "| False | False | False |\n",
    "\n",
    "The **and operator** requires both p and q to be True for the whole expression to be True. Otherwise, the value of the expression is False.\n",
    "\n",
    "<br>\n",
    "\n",
    "`p or q`\n",
    "\n",
    "| p    | q | p not q |\n",
    "| --- | --- | --- |\n",
    "| True | True | True |\n",
    "| True | False | True |\n",
    "| False | True | True |\n",
    "| False | False | False |\n",
    "\n",
    "The **or operator** only requires one of p or q to be True for the whole expression to be True. The expression is False only when neither p nor q is True.\n"
   ]
  },
  {
   "cell_type": "markdown",
   "metadata": {},
   "source": [
    "Relational operations can be chained to Boolean operators. For example, `4 < 5 == True` would return `False` because it is really `(4 < 5) and (5 == True)`. 5, of course, it not equal to the Boolean value of True."
   ]
  },
  {
   "cell_type": "markdown",
   "metadata": {},
   "source": [
    "<a id=\"bitwise\"></a>\n",
    "\n",
    "#### **`Bitwise Operations`**\n",
    "\n",
    "Bitwise operations directly manipulate the binary representations of integers. There are 6 types of bitwise operations:"
   ]
  },
  {
   "cell_type": "markdown",
   "metadata": {},
   "source": [
    "`AND (&)`: Sets each bit to 1 if both bits are 1.\n",
    "   - In the following example, 6 (0110) and 12 (1100) are used. The only common binary bit (0100) represents 4.\n",
    "\n",
    "\n",
    "`OR (|)`: Sets each bit to 1 if at least one of the bits is 1.\n",
    "   - With 6 (0110) and 12 (1100), the most significant 3 bits have at least one bit turned on (1110), adding up to 14\n",
    "\n",
    "\n",
    "`XOR (^)`: If only one of the two comparing numbers has 1, the resulting bit would be 1. if both of the comparing numbers have 1, the resulting bit would be 0. If both of the comparing numbers have 0, the resulting bit would be 0. \n",
    "   - With 6 (0110) and 12 (1100), the resulting XOR would have the most significant bit set to 1, the second set to 0, the third set to 1, and the final set to 0, adding up to 10 (1010).\n",
    "\n",
    "\n",
    "`NOT (~)`: Inverts all the bits. This is always the negative value of the integer plus 1, so ~6 is -7. A better way to think about this is **-(x + 1)**\n",
    "   - To represent this in binary, convert the original value to binary, invert all of the bits, then add 1.\n",
    "\n",
    "\n",
    "`Left Shift (<<)`: Shifts the bits to the left by the specified number of positions. This always yields a larger value than the originals\n",
    "   - If 6 (0000 0110) is shifted to the left twice, the resulting value would be 24 (0001 1000)\n",
    "\n",
    "\n",
    "`Right Shift (>>)`: Shifts the bits to the right by the specified number of positions. This always yields a smaller value than the original\n",
    "   - If 12 (0000 1100) is shifted to the right twice, the resulting value would be 3 (0000 0011)"
   ]
  },
  {
   "cell_type": "code",
   "execution_count": 21,
   "metadata": {},
   "outputs": [
    {
     "name": "stdout",
     "output_type": "stream",
     "text": [
      "6 in binary is 0b110 and 12 in binary is 0b1100\n",
      "AND bitwise operation: 4\n",
      "OR bitwise operation: 14\n",
      "XOR bitwise operation: 10\n",
      "NOT bitwise operation for 6: -7\n",
      "Left Shift (2) bitwise operation for 6: 24\n",
      "Right Shift (2) bitwise operation for 12: 3\n"
     ]
    }
   ],
   "source": [
    "x = 6\n",
    "y = 12\n",
    "print(f\"{x} in binary is\", bin(x), end=' '); print(f\"and {y} in binary is\", bin(y))\n",
    "\n",
    "x_and_y = x & y   # same as x and y\n",
    "x_or_y = x | y   # same as x or y\n",
    "x_xor_y = x ^ y   # same as x xor y\n",
    "x_not = ~x\n",
    "x_left_2 = x << 2\n",
    "y_right_2 = y >> 2\n",
    "\n",
    "print(\"AND bitwise operation:\", x_and_y); print(\"OR bitwise operation:\", x_or_y); print(\"XOR bitwise operation:\", x_xor_y)\n",
    "print(\"NOT bitwise operation for 6:\", x_not); print(\"Left Shift (2) bitwise operation for 6:\", x_left_2); print(\"Right Shift (2) bitwise operation for 12:\", y_right_2)"
   ]
  },
  {
   "cell_type": "markdown",
   "metadata": {},
   "source": [
    "<a id=\"complex\"></a>\n",
    "\n",
    "#### **`Complex Numbers`**\n",
    "\n",
    "Complex numbers are mostly used in electromagnetics, chemistry, and economics. Essentially, each complex number consists of a **Real Part** and an **Imaginary Part** `(a + b j)`, where a is the real part, b is the imaginary part, and j is the square root of -1.2. A complex number is not a point on the real number line, but a coordinate in a plane with the x-axis representing the real number(a) and the y-axis representing the imaginary number (b).\n"
   ]
  },
  {
   "cell_type": "markdown",
   "metadata": {},
   "source": [
    "\n",
    "There are two ways to construct a complex number:\n",
    "\n",
    "`a + bj`: Typing the number in the proper format is a valid way to construct a complex number. 1 + 2j creates the complex number of 1 + 2 j\n",
    "\n",
    "`complex()`: The complex function can also be used to construct a complex number. complex(2,1) creates the complex number of 2 + 1 j\n",
    "\n",
    "The different parts of the complex number can be accessed using the `.real` and `.imag` accessors. Complex numbers are **immutable,** so its values cannot be changed using its accessors. Binary operations ( +, −, *, / ) are different for complex numbers, but Python correctly computes them. Except for direct equality, none of the comparison operators work, as there is no ordering of the complex numbers. Because of this, operations that depend on ordering (max, min, sort) also do not work. "
   ]
  },
  {
   "cell_type": "code",
   "execution_count": null,
   "metadata": {},
   "outputs": [],
   "source": [
    "c1 = 1 + 2j\n",
    "c2 = complex(2,1)\n",
    "print(c1.real)\n",
    "print(c2.imag)"
   ]
  },
  {
   "cell_type": "markdown",
   "metadata": {},
   "source": [
    "<a id=\"smandrm\"></a>\n",
    "\n",
    "#### **`Statistics and Random Modules`**\n",
    "The `Statistics Module` provides a set of functions that can be used to do statistical calculations on all the numbers, except complex numbers. All of the functions require a sequential data structure (list, tuple, set) to process. Every function returns a value based on a data set from \"list-like\" data structures. Similarly, all of the functions can take the aforementioned sequential data structures of int, float, Decimal, or Fraction and perform their operations. However, the list contents should be of a uniform type; Python does not guarantee results on mixed types. "
   ]
  },
  {
   "cell_type": "markdown",
   "metadata": {},
   "source": [
    "The Statistics Module comes with the following functions:\n",
    "\n",
    "`.mean`: The sum of all the data divided by the number of data. This is the average of the values found in the list\n",
    "\n",
    "`.median`: Returns one of two values. If the number of values in the list is **odd**, then the middle element in the sorted list will be returned. If the number of the values in the list is **even**, then the average of the two middle elements will be returned\n",
    "\n",
    "`.mode`: Returns the most common element in the list. If there is not a \"most common\" element, an error is given\n",
    "\n",
    "`.variance`: Indication of spread, or how dispersped the data is from the mean. Its units are the square of the list's units. A high value indicates more dispersion, and a low value indicates less disperstion. This function requires a list of at least two values to operate\n",
    "\n",
    "`.stdev`: Calculates the square root of the variance. Because it is a square root, its unit value is the same type as the list elements units. It is commonly used in measures for normal distributions."
   ]
  },
  {
   "cell_type": "code",
   "execution_count": null,
   "metadata": {},
   "outputs": [],
   "source": [
    "from decimal import Decimal\n",
    "import statistics\n",
    "decimal_list = [Decimal('1.1'), Decimal('5.6'), Decimal('3.14159')]\n",
    "print(\"Mean of the decimal list:\", statistics.mean(decimal_list))\n",
    "print(\"Median of the decimal list:\", statistics.median(decimal_list))\n",
    "print(\"Variance of the decimal list:\", statistics.variance(decimal_list))\n",
    "print(\"Standard deviation of the decimal list:\", statistics.stdev(decimal_list))"
   ]
  },
  {
   "cell_type": "markdown",
   "metadata": {},
   "source": [
    "The `Random Module` has functions to generate *pseudo-random* numbers, characters or strings, depending on the code. This module is pseudo-random because the **algorithm is an algorithm.** If it is initialized with the same seed, it will generate the same sequence. The sequence generated isn't random, but the elements within the sequence appear random relative to each other. If the seed function has no arguments, it will generate a seed value based on the present clock value on the local computer. \n",
    "\n",
    "`.seed(obj)`: Initializes the random number generator. If takes an argument, it will always choose the same value.\n",
    "\n",
    "`.random()`: Performs the function based on the seed. In this case, it generates a random number in the range from 0.0 to 1.0."
   ]
  },
  {
   "cell_type": "code",
   "execution_count": 51,
   "metadata": {},
   "outputs": [
    {
     "name": "stdout",
     "output_type": "stream",
     "text": [
      "0.13436424411240122\n",
      "0.8474337369372327\n",
      "0.763774618976614\n",
      "0.2550690257394217\n"
     ]
    }
   ],
   "source": [
    "import random\n",
    "random.seed(1)\n",
    "for r in range(4):\n",
    "   print(random.random())"
   ]
  },
  {
   "cell_type": "markdown",
   "metadata": {},
   "source": [
    "The Random Module comes with the following functions:\n",
    "\n",
    "`.randint(a,b)`: Generates a random integer in the range  a ≤ number ≤ b\n",
    "\n",
    "`.choice(sequence)`: Selects a random element from the specified sequence\n",
    "\n",
    "`.shuffle(sequence)`: Shuffles the order of the specified sequence\n",
    "\n",
    "`.sample(sequence, num)`: Generates a new sequence based on the original sequence, outputting the amount specified by num"
   ]
  },
  {
   "cell_type": "code",
   "execution_count": 57,
   "metadata": {},
   "outputs": [
    {
     "name": "stdout",
     "output_type": "stream",
     "text": [
      "Random number: 27\n",
      "Random letter: b\n",
      "Random shuffle: [5, 3, 2, 1, 4]\n",
      "Random sample: [4, 5]\n"
     ]
    }
   ],
   "source": [
    "import random\n",
    "print(\"Random number:\", random.randint(1,100))\n",
    "print(\"Random letter:\", random.choice('abcdefgh'))\n",
    "\n",
    "a_list = [1,2,3,4,5]\n",
    "random.shuffle(a_list)\n",
    "print(\"Random shuffle:\", a_list)\n",
    "print(\"Random sample:\", random.sample(a_list,2))\n"
   ]
  },
  {
   "cell_type": "markdown",
   "metadata": {},
   "source": [
    "<a id=\"hashing\"></a>\n",
    "\n",
    "#### **`Hashing`**\n",
    "\n",
    "Python's built-in `hash()` function returns the hash value of an object. The hash value is an integer used to quickly compare dictionary keys during lookup, essentially mapping an object to a value. It is important to remember that a hashable object has a value that never changes, so **all primitive types and immutable objects with immutable elements can be hashed.** While `x is y` compares `id()` values, `x == y` compares `hash()` values."
   ]
  },
  {
   "cell_type": "code",
   "execution_count": 72,
   "metadata": {},
   "outputs": [
    {
     "name": "stdout",
     "output_type": "stream",
     "text": [
      "The variable x is 5, and the variable z is 5.0\n",
      "x's ID is 1672066853296, and z's ID is 1672143774288; they are different\n",
      "x's hash is 5, and z's hash is 5; they are the same\n",
      "x is z is 'False' because the ID is different\n",
      "x == y is 'True' because the hash is the same\n"
     ]
    }
   ],
   "source": [
    "x_int = 5; z_float = 5.0\n",
    "x_id = id(x_int); z_id = id(z_float)\n",
    "x_hash = hash(x_int); z_hash = hash(z_float)\n",
    "x_z_same_object = (x_int is z_float); x_z_same_value = (x_int == z_float)\n",
    "\n",
    "print(f\"The variable x is {x_int}, and the variable z is {z_float}\")\n",
    "print(f\"x's ID is {x_id}, and z's ID is {z_id}; they are different\")\n",
    "print(f\"x's hash is {x_hash}, and z's hash is {z_hash}; they are the same\")\n",
    "print(f\"x is z is \\'{x_z_same_object}\\' because the ID is different\"); print(f\"x == y is \\'{x_z_same_value}\\' because the hash is the same\")"
   ]
  },
  {
   "cell_type": "markdown",
   "metadata": {},
   "source": [
    "All immutable data types can be hashed and  mutable data types cannot be hashed. However, elements in a set, keys in a dictionary, some elements in a list, and some elements in a tuple can be hashed. The entire set, dictionary, and list **CAN NOT** be hashed. If a tuple only has immutable data types, the entire tuple can be hashed. \n",
    "\n",
    "**<ins>Hashable Objects</ins>**\n",
    "1. Integers\n",
    "2. Floats\n",
    "3. Strings\n",
    "4. Booleans\n",
    "5. Complex Numbers\n",
    "6. Functions\n",
    "   - Some Tuples (only if all of the objects in the tuple are hashable/immutable)\n",
    "   - Elements in a Set\n",
    "   - Dictionary Keys\n",
    "   - Immutable elements in a List\n",
    "\n",
    "**<ins>Unashable Objects</ins>**\n",
    "1. Entire Dictionaries\n",
    "2. Entire Sets\n",
    "3. Entire Lists\n",
    "4. Mutable elements in a List\n",
    "5. Tuples with mutable data types\n",
    "\n",
    "Dictionaries and sets use hash values to quickly locate data. When a key is added to a dictionary (or an element to a set), Python computes the hash of the object, and the hash directs Python to the location in memory where the value is stored. This is very efficient because instead of searching through every element, Python can jump directly to the correct location using the hash value, essentially making lookups, insertions, and deletions faster.\n",
    "\n",
    "Similarly, hashes help avoid duplicates in sets. When adding a new element, Python checks if an item with the same hash already exists."
   ]
  },
  {
   "cell_type": "markdown",
   "metadata": {},
   "source": [
    "<a id=\"mutability\"></a>\n",
    "\n",
    "#### **`Mutability`**\n",
    "\n",
    "Mutability refers to whether or not an object can be changed after it is created. Only **Lists, Sets, and Dictionaries** are mutable. If one of these collection data types are an element of a tuple, they are also mutable, but the tuple itself is not mutable. This section focuses on the methods of mutability in the aforementioned collection data types:\n",
    "\n",
    "| Collection | Ordered | Mutable |\n",
    "| --- | --- | --- |\n",
    "| String | yes | no |\n",
    "| List | yes | yes |\n",
    "| Tuple | yes | no |\n",
    "| Set | no | yes |\n",
    "| Dictionary | no | yes\n"
   ]
  },
  {
   "cell_type": "markdown",
   "metadata": {},
   "source": [
    "<ins>**Lists**</ins> allow for various modifications such as adding, removing, and rearranging elements:\n",
    "\n",
    "`.append(item)`: Adds an item to the end of the list\n",
    "   - A separate list, separate tuple, and separate dictionary can be added as a single element to an existing list with this method. A single item can also be added with this method\n",
    "   - If an item needs to be added in a specific position of the list, it can be modified in place by specifing the index and assigning the value, like `list [1] = 1` would add 1 to the list in the second position of the list. This is essentially the same thing as the **.insert()** method\n",
    "\n",
    "`.extend(iterable)`: Extends the list by appending elements from another iterable (list, tuple, etc.)\n",
    "   - This method is similar to the append method, but adds multiple elements to the list, as if it were already part of the list\n",
    "   - If a variable that contains a **list** is passed through as the argument, the two lists will be unpacked to one\n",
    "   - If a variable that contains a **set** is passed throhg as the argument, the set will be unpacked into the list\n",
    "   - If a variable that contains a **dictionary** is passed through as the argument, only the keys will be added to the list\n",
    "      - If both key-value pairs need to be added to a list, but as a tuple, the dictionary variable can still be passed through as an argument, but the variable must have the `items()` method. It makes more sense to use the **.append()** method in this case, to add the dictionary to the list as a dictionary\n",
    "\n",
    "`.insert(index, item)`: Inserts an item at a specific index\n",
    "   - This adds an item to a specific position (index) on the list. \n",
    "   - If a negative index is declared as an argument, -1 inserts the declared item before the last element in the list, -2 inserts the declared item before the second to last element in the list, and so on.\n",
    "\n",
    "`.remove(item)`: Removes the first occurrence of a specific item\n",
    "   - This method does not use indices, it operates directly on the value. Because of this, if the value is not present, it raises a ValueError.\n",
    "   \n",
    "`.pop(index)`: Removes and returns the item at a specific index. The default is the last item (-1)\n",
    "   - With an index specified, it removes and returns the element at that index. The \"popped\" item can be be stored in another variable, like `var = list.pop(item)`\n",
    "   - It raises an IndexError if the index is out of range\n",
    "\n",
    "`.clear()`: Removes all elements from the list, making it empty\n",
    "   - If this method is used, it will be available afterwards, but it will be empty\n",
    "   - This will not return any value, or None\n",
    "\n",
    "`.sort(key=None, reverse=False)`: Sorts the list in place. A custom sorting key can be used\n",
    "   - The key parameter allows for custom sorting by specifying a function that returns a value to use for sorting. The list is then sorted based on these returned values.\n",
    "      - For example, the key can be specified as `len` to sort the list elements by length. This can also be a function defined in the code\n",
    "   - The reverse parameter allos for the list to be sorted from smallest to largest (False), or from largest to smallest (True). If this parameter is not specified, it is False by default\n",
    "\n",
    "`.reverse()`: Reverses the order of the list in place\n",
    "   - This method reverses the order of the list. It does not sort the list, but makes the last element the first element and the first element the last element\n",
    "\n",
    "`.copy()`: Returns a shallow copy of the list. Changes made to the new list won’t affect the original list, except for mutable elements\n",
    "   - Creates a new list with references to the same objects, not new objects. This means changes to mutable objects inside the list will reflect in both the original and copied lists.\n",
    "   - If there is a nested list (a list inside of the list), and all of that is copied to a new list variable, changes made to the nested list made from the copied list will reflect on the original list"
   ]
  },
  {
   "cell_type": "markdown",
   "metadata": {},
   "source": [
    "<ins>**Dictionaries**</ins> can have keys and values added, removed, or modified:\n",
    "\n",
    "`.clear()`: Removes all key-value pairs from the dictionary\n",
    "   - This is the same method that was previously mentioned, but for dictionaries\n",
    "\n",
    "`.update(key-value pair or other dictionary)`: Updates the dictionary with elements from another dictionary or an iterable of key-value pairs\n",
    "   - If a key-value pair is declared as an argument, new pairs can be added to the existing dictionary. If one of the keys already exist, the existing dictionary will be updated with the value in the argument\n",
    "   - If another dictionary is passed as an argument, the new pairs are added to the existing dictionary. Similarly to just adding key-pairs, if one of the keys already exist in the existing dictionary, it will be updated with the value of the dictionary placed as the argument\n",
    "\n",
    "`.pop(key, default)`: Removes the specified key and returns its value. If the key is not found, returns the default value\n",
    "   - Unlike the list pop method, this requires an argument of a key\n",
    "   - The value of the specified key would be removed from the list. The value can be stored in a variable, however, it will not include the key. To store the value, variable assignment can be performed with the pop method on the right-hand side. \n",
    "   - If the key is not found and a default value is not included, a KeyError is raised. To not receive an error message, an object (string, Boolean, integer, etc) can be declared as the default value. This will print what was defined as the default value instead of outputting an error message\n",
    "   - The **.popitem()** method can also be used to return the specified key as a tuple, but the return method depends on the version of Python, so I'm not going to include it\n",
    "\n",
    "`.setdefault(key, default)`: Returns the value of a key. If the key does not exist, it inserts the key with the specified default value.\n",
    "   - The value of the key can be stored in a variable, while also updating the existing dictionary\n",
    "   - If no default value is provided and the key does not already exist in the dictionary, the key will be added, but the value will be set to **None**\n",
    "   - This method is very similar to the **.update()** method, but does not update the value if it already exists. \n"
   ]
  },
  {
   "cell_type": "markdown",
   "metadata": {},
   "source": [
    "<ins>**Sets**</ins> allow for adding, removing, and performing operations like union and intersection:\n",
    "\n",
    "`.add(item)`: Adds an item to the set\n",
    "   - If the element is already in the set, it has no effect because sets do not allow duplicates\n",
    "   - The item refers to the specific object in the set, not the index of one of the objects\n",
    "\n",
    "`.remove(item)`: Removes a specific item. Raises a KeyError if the item is not present\n",
    "   - The item refers to the specific object in the set, not the index of one of the objects\n",
    "\n",
    "`.discard(item)`: Removes a specific item if present. Does not raise an error if the item is not found\n",
    "   - This is essentially the remove method, but without errors\n",
    "   - The item refers to the specific object in the set, not the index of one of the objects\n",
    "\n",
    "`.pop()`: Removes and returns an arbitrary item from the set\n",
    "   - This object removed is random, as this method removes and returns an arbitrary element from the set. Because sets are unordered collections, there is no knowing as to which element will be removed\n",
    "\n",
    "`.clear()`: Removes all items from the set\n",
    "   - This method performs the same function as the **.clear** method in lists and dictionaries\n",
    "\n",
    "`.update(iterable)`: Updates the set with the union of itself and other iterables (similar to |=)\n",
    "   - Variables of lists, sets, and other iterables can be passed as the argument, but will be converted to a set and essentially join it\n",
    "      - If a variable of a dictionary is the argument, only the key will be parsed to the set. \n",
    "\n",
    "`.intersection_update(iterable)`: Updates the set to the intersection of itself and others\n",
    "   - Updates the set, keeping only the elements found in both the set and iterable (list, dictionary, set, tuple). Other values will be dropped from the set\n",
    "\n",
    "`.difference_update(iterable)`: Updates the set, removing elements found in others\n",
    "   - Updates the set by removing elements found in the iterable (list, dictionary, set, tuple). Only elements unique to the original set remain\n",
    "\n",
    "`symmetric_differece_update(iterable)`: Updates the set to the symmetric difference between itself and another set\n",
    "   - Updates the set with elements that are unique to each set, essentially removing the intersection and only keeping elements that are in either set or iterable but not both\n"
   ]
  },
  {
   "cell_type": "markdown",
   "metadata": {},
   "source": [
    "<a id=\"index\"></a>\n",
    "\n",
    "#### **`Iteration: Explicit Index`**\n",
    "\n",
    "An index can be created manually to access elements in a collection. This method of iteration involves using a loop and a counter variable:"
   ]
  },
  {
   "cell_type": "code",
   "execution_count": null,
   "metadata": {},
   "outputs": [],
   "source": [
    "collection = ['a', 'b', 'c']\n",
    "index = 0\n",
    "for item in collection:\n",
    "    print(index, item)\n",
    "    index += 1"
   ]
  },
  {
   "cell_type": "code",
   "execution_count": null,
   "metadata": {},
   "outputs": [],
   "source": [
    "vowels = 'aeoiuy'\n",
    "x_list = ['a','p','p','l','e']\n",
    "i = 0          # counter variable starts at 0\n",
    "while i < len(x_list):     # continue as long as the counter variable is less than the length of the list\n",
    "    e = x_list[i]       # assigns e as each letter in x_list at the current index\n",
    "    if e in vowels:     # continue if one of the letters in x_list is in the vowels\n",
    "        print(e,i)      # print matching letter (e) and index (i)\n",
    "    i = i + 1           # increment counter by 1 each time a letter is passed "
   ]
  },
  {
   "cell_type": "markdown",
   "metadata": {},
   "source": [
    "<a id=\"range\"></a>\n",
    "\n",
    "#### **`Iteration: range()`**\n",
    "\n",
    "This function generates a sequence of indices that can be used to access elements in the collection.\n",
    "\n",
    "`range([start], stop[, step])`: The start value does not have to be specified, but if it is specified, the index begins at that integer. The stop value **has** to be specified, but it is important to remember that the index does not include this number. The step value does not have to be specified, but if it is specified, the index counts in multiples of that number. Negative values can also be specified, depending on the requirements of the code. \n",
    "\n",
    "Functions, some collection data types, and mathematical operations can also be used as an argument for the range() function. One of the most important functions that can be used in the range function is the built-in `len()` function. Of course, a variable with a predefined value must be placed inside of the len() function, ultimately looking like, `range(len(predefined_variable))`. When this is done, the len() function specifies the number of iterations in a loop based on the length of a sequence (list, string, or tuple), essentially determining how many times the loop will run."
   ]
  },
  {
   "cell_type": "code",
   "execution_count": null,
   "metadata": {},
   "outputs": [],
   "source": [
    "x = []\n",
    "for i in range(0,50,2): # for the numbers between 0-50, counting by 2s\n",
    "   if i !=0:            # do not include 0\n",
    "      x.append(i)       # append each number to the once empty list (x)\n",
    "print(x)"
   ]
  },
  {
   "cell_type": "code",
   "execution_count": null,
   "metadata": {},
   "outputs": [],
   "source": [
    "my_list = ['a', 'b', 'c', 'd']\n",
    "for i in range(len(my_list)):   # iterate over indices from 0 to the length of the list\n",
    "    print(i, my_list[i])"
   ]
  },
  {
   "cell_type": "code",
   "execution_count": null,
   "metadata": {},
   "outputs": [],
   "source": [
    "vowels = 'aeoiuy'\n",
    "x_list = ['a','p','p','l','e']\n",
    "x_range = list(range(len(x_list))) # creates a list of the number of elements in x_list (5; 0-4) and assigns that value to x_range\n",
    "\n",
    "for i in range(len(x_list)):       # for each number in the range of elements in x_list (5; 0-4)\n",
    "   e = x_list[i]                   # assigns e as each letter in x_list at the current index\n",
    "   if e in vowels:                 # if a letter in x_list is in the vowel value\n",
    "      print(e,i)"
   ]
  },
  {
   "cell_type": "markdown",
   "metadata": {},
   "source": [
    "<a id=\"enum\"></a>\n",
    "\n",
    "#### **`Iteration: enumerate()`**\n",
    "\n",
    "This function allows iteration over a sequence (list, string, etc) while also keeping track of the index of the current item. It returns an iterator that produces pairs of an index and the corresponding item from the sequence. It is important to remember that this method can only be used on ordered collections (list, string, tuple, strings). \n",
    "\n",
    "`enumerate(iterable, start=0)`: This function must take an iterable, be it a variable or an iterable, but either way, it has to be sequence. The **start parameter** is the starting index for the enumeration. The default value is 0, but a different starting index to begin from can be specified."
   ]
  },
  {
   "cell_type": "code",
   "execution_count": null,
   "metadata": {},
   "outputs": [],
   "source": [
    "my_list = ['a', 'b', 'c', 'd']\n",
    "\n",
    "for index, value in enumerate(my_list, start=0):    # change the start value to look at the different outputs\n",
    "    print(index, value)"
   ]
  },
  {
   "cell_type": "code",
   "execution_count": null,
   "metadata": {},
   "outputs": [],
   "source": [
    "vowels = 'aeoiuy'\n",
    "x_list = ['a','p','p','l','e']\n",
    "print(list(enumerate(x_list))) # Notice how all of the letters are connected to their index in a tuple\n",
    "\n",
    "for i, e in enumerate(x_list): # for index (i) and character (e) in x_list\n",
    "    if e in vowels:            # continue if a character in x_list is in the vowel value \n",
    "        print(e,i)             # print the character and index"
   ]
  },
  {
   "cell_type": "markdown",
   "metadata": {},
   "source": [
    "<a id=\"copy\"></a>\n",
    "\n",
    "#### **`Copying Objects`**\n",
    "\n",
    "`Retagging` refers to assigning a new tag or reference to an object in Python. Since Python variables are references to objects, when a new variable is retagged or assigned to an existing object, both variables will refer to the same object in memory. Changing the object through one reference will affect the other reference because they point to the same object.\n",
    "\n",
    "In the following example, both a and b point to the same list, so modifying b also affects a:"
   ]
  },
  {
   "cell_type": "code",
   "execution_count": null,
   "metadata": {},
   "outputs": [],
   "source": [
    "a = [1, 2, 3]\n",
    "b = a  # retagging\n",
    "b[0] = 10\n",
    "print(a) "
   ]
  },
  {
   "cell_type": "code",
   "execution_count": 74,
   "metadata": {},
   "outputs": [
    {
     "name": "stdout",
     "output_type": "stream",
     "text": [
      "[4, 5, 6]\n",
      "[1, 2, 3]\n"
     ]
    }
   ],
   "source": [
    "a = [1, 2, 3]\n",
    "b = a    # Both a and b point to the same list\n",
    "a = [4, 5, 6]  # a is retagged to point to a new list\n",
    "\n",
    "print(a); print(b)  # b still points to the original list\n"
   ]
  },
  {
   "cell_type": "markdown",
   "metadata": {},
   "source": [
    "A `Shallow Copy` of an object creates a new object, but the elements within the object are still references to the same objects as in the original. For mutable objects like lists or dictionaries, this means that changes to the contents of nested elements will be reflected in both the original and the shallow copy\n",
    "\n",
    "In the following example, even though b is a new object, changes to the elements (inner lists) affect a because both point to the same inner lists:"
   ]
  },
  {
   "cell_type": "code",
   "execution_count": 75,
   "metadata": {},
   "outputs": [
    {
     "name": "stdout",
     "output_type": "stream",
     "text": [
      "[[10, 2], [3, 4]]\n",
      "[[10, 2], [3, 4]]\n"
     ]
    }
   ],
   "source": [
    "import copy\n",
    "a = [[1, 2], [3, 4]]\n",
    "b = copy.copy(a)  # shallow copy\n",
    "b[0][0] = 10\n",
    "print(a); print(b) "
   ]
  },
  {
   "cell_type": "code",
   "execution_count": null,
   "metadata": {},
   "outputs": [],
   "source": [
    "import copy\n",
    "original = [[1, 2], [3, 4]]\n",
    "shallow_copy = copy.copy(original)\n",
    "\n",
    "shallow_copy[0][0] = 99  # Modify the first element of the first sublist\n",
    "\n",
    "print(original)  \n",
    "print(shallow_copy)   # Both are affected because they share the nested lists"
   ]
  },
  {
   "cell_type": "markdown",
   "metadata": {},
   "source": [
    "A `Deep Copy` creates a new object and recursively copies all objects within it. This means the original object and its deep copy are entirely independent of each other, including any nested objects. Changes to the deep copy do not affect the original object and vice versa."
   ]
  },
  {
   "cell_type": "code",
   "execution_count": null,
   "metadata": {},
   "outputs": [],
   "source": [
    "import copy\n",
    "\n",
    "original = [[1, 2], [3, 4]]\n",
    "deep_copy = copy.deepcopy(original)\n",
    "\n",
    "deep_copy[0][0] = 99  # Modify the first element of the first sublist\n",
    "\n",
    "print(original)   # The original is unaffected\n",
    "print(deep_copy)  # Only the deep copy is changed"
   ]
  },
  {
   "cell_type": "markdown",
   "metadata": {},
   "source": [
    "<a id=\"examples2\"></a>\n",
    "\n",
    "#### **`Chapter Examples`**\n",
    "The Following code snippets are example programs that should now be known from this chapter:\n",
    "\n",
    "**1. How many gallons of water fall on an acre of land given the number of inches of rain which fell?**\n",
    "\n",
    "**2. Print even numbers in a list**\n",
    "\n",
    "**3. A function that takes a number and finds its factors**\n",
    "\n",
    "**4. Two immutable objects (x, y) with the same hash value h and x == y is True AND two immutable objects (w, z) with the same hash value and w == z is False**"
   ]
  },
  {
   "cell_type": "code",
   "execution_count": null,
   "metadata": {},
   "outputs": [],
   "source": [
    "# Example 1\n",
    "inches = float(input(\"How many inches of rain have fallen:\"))\n",
    "volume = (inches/12) * 43560     # 1 acre = 43,560 square feet; volume = depth * area = (1/12) * 43560 cubic feet\n",
    "gallons = volume * 7.48051945    # 1 cubic foot = 7.48051945 gallons; gallons = volume * 7.48051945\n",
    "print(f\"{inches} inches of rain on 1 acre is {gallons} gallons\")"
   ]
  },
  {
   "cell_type": "code",
   "execution_count": 90,
   "metadata": {},
   "outputs": [
    {
     "name": "stdout",
     "output_type": "stream",
     "text": [
      "[2, 4, 6, 8, 10]\n"
     ]
    }
   ],
   "source": [
    "# Example 2\n",
    "evens = [1,2,3,4,5,6,7,8,9,10]\n",
    "x = []\n",
    "\n",
    "for i in evens:   # For number in list\n",
    "   if i % 2 == 0:    # If the number is divided by 2 and has no (0) remainder\n",
    "      x.append(i)    # add this number to the list\n",
    "print(x)"
   ]
  },
  {
   "cell_type": "code",
   "execution_count": 85,
   "metadata": {},
   "outputs": [
    {
     "data": {
      "text/plain": [
       "[1, 2, 4, 5, 10]"
      ]
     },
     "execution_count": 85,
     "metadata": {},
     "output_type": "execute_result"
    }
   ],
   "source": [
    "# Example 3\n",
    "def factor(n):\n",
    "   results = []\n",
    "   i = 1   # Starts with 1 as the first potential factor\n",
    "   while i < 1 + int(n/2):       # Loop from 1 to n/2\n",
    "      if n % i == 0:       # If n divided by i has no remainder, continue\n",
    "         results.append(i)    # Add that number (i) to the results list\n",
    "      i += 1            # Increment by 1 to check the next number\n",
    "   return results       # Return the list of factors\n",
    "factor(20)"
   ]
  },
  {
   "cell_type": "code",
   "execution_count": 91,
   "metadata": {},
   "outputs": [
    {
     "name": "stdout",
     "output_type": "stream",
     "text": [
      "The hash value of False is 0 and the hash value of integer 0 is 0\n",
      "False == 0: True\n",
      "The hash value of False is 0 and the hash value of an empty string is 0\n",
      "False == '': False\n"
     ]
    }
   ],
   "source": [
    "# Example 4\n",
    "x, y = False, 0 \n",
    "w, z = False, ''\n",
    "print(f\"The hash value of {x} is\", hash(x), f\"and the hash value of integer {y} is\", hash(y)); print(f\"False == 0:\", x == y)\n",
    "print(f\"The hash value of {w} is\", hash(w), \"and the hash value of an empty string is\", hash(z)); print(f\"False == '':\", w == z)"
   ]
  },
  {
   "cell_type": "markdown",
   "metadata": {},
   "source": [
    "***\n",
    "\n",
    "<a id=\"bpp\"></a>\n",
    "\n",
    "## **Building Python Programs**\n",
    "This section goes into detail about **Strings, Decision Statements, Collections, Control Flow, Iterations, Files, and Lists**"
   ]
  },
  {
   "cell_type": "markdown",
   "metadata": {},
   "source": [
    "<a id=\"decisions\"></a>\n",
    "\n",
    "#### **`Decision Statements`**\n",
    "\n",
    "`if`, `elif`, and `else` are control flow statements used to execute code conditionally based on the evaluation of Boolean expressions. `if` checks whether a condition is True; it it is, the code block under it executes. `elif` comes after an if statement and checks another condition if the previous one was False. `else` catches all remaining cases where none of the previous conditions are met and executes its code block. The basic idea of a set of if-elif-else statement is to find the first True condition in the set of if and elif headers and execute that associated suite. If no such True condition is found, the else code block is executed. If there are various if statements together with an else statement at the end, the else statement will be associated with the final if statement. This is why it is important to put elif statements between the initial if statement and the else statement, if all of the statements are to be evaluated together.\n",
    "\n",
    "The process of taking existing code and modifying it such that its structure is somehow improved but the functionality of the code remains the same is called *refactoring.*"
   ]
  },
  {
   "cell_type": "markdown",
   "metadata": {},
   "source": [
    "<a id=\"while\"></a>\n",
    "\n",
    "#### **`while Statement`**\n",
    "\n",
    "The while statement executes its suite of statements as long as its Boolean expression is True. The while loop is sometimes called a *top-tested loop* because there is a Boolean expression to be evaluated at the top of the loop. It is important to remember that the condition is evaluated first before the associated suite is ever executed. If the condition is never True, the loop never executes. The following are things to consider when making a while loop:"
   ]
  },
  {
   "cell_type": "markdown",
   "metadata": {},
   "source": [
    "**1. Initialization:** Outside of the loop and before the loop is entered, the loop-control variable needs to be initialized. The initial value should allow the loop to run through the first iteration. This variable’s value will control when the loop ends so it is initialized with the condition statement in mind\n",
    "\n",
    "**2. Control:** The condition statement of the while loop needs to be written, and the Boolean expression is typically written in terms of the loop-control variable. The initial value and this condition are related and should be considered together.\n",
    "\n",
    "**3. Modification:** Somewhere in the while loop suite, the loop-control variable is modified so that eventually the Boolean expression of the while becomes False so that the loop ends. This often means that the loop-control variable will have a different value in the suite during each iteration of the loop. Changing the value allows the programmer to control when the loop will end. \n",
    "\n",
    "Without considering these rules, either the **loop never starts** (because the first action of a while loop is to evaluate the Boolean expression; if that expression yields False, the suite of instructions will not be executed) or the **loop never ends** (if the Boolean expression yields True, the loop will only stop if some instruction within the suite of instructions changes the loop-control variable so that the Boolean expression evaluates to False at some point). If the Boolean expression is always True, an *infinite loop* will occur."
   ]
  },
  {
   "cell_type": "markdown",
   "metadata": {},
   "source": [
    "<a id=\"eandbreak\"></a>\n",
    "\n",
    "##### `else and break`\n",
    "\n",
    "Similar to the if-else statement, there can be an else clause at the end of a while loop. The else clause is optional. The else clause is entered after the while loop’s Boolean expression becomes False, and occurs even if the expression is initially False and the while loop's suite was never executed. In while loops, the else clause is often used with the **break statement.** The break statement can be used to immediately exit the execution of the current loop and skip past all of the remaining parts of the loop suite, inlcuding the else suite. Essentially, the purpose of the break statement is to create a non-normal (early) exit. In the following example, another prompt is placed outside of the while loop to prevent an infinite loop."
   ]
  },
  {
   "cell_type": "code",
   "execution_count": null,
   "metadata": {},
   "outputs": [],
   "source": [
    "import random\n",
    "number = random.randint(0,100)\n",
    "\n",
    "print(\"Hi-Lo Number Guessing Game: between 0 and 100 inclusive.\")\n",
    "print()\n",
    "\n",
    "guess_str = input(\"Guess a number: \")\n",
    "guess = int(guess_str)\n",
    "\n",
    "while 0 <= guess <= 100:\n",
    "   if guess > number:\n",
    "      print(\"Guessed Too High.\")\n",
    "   elif guess < number:\n",
    "      print(\"Guessed Too Low.\")\n",
    "   else:\n",
    "      print(\"You guessed it. The number was:\",number)\n",
    "      break\n",
    "\n",
    "   guess_str = input(\"Guess a number: \")\n",
    "   guess = int(guess_str)\n",
    "\n",
    "else:\n",
    "   print(\"You quit early, the number was:\",number)\n"
   ]
  },
  {
   "cell_type": "markdown",
   "metadata": {},
   "source": [
    "<a id=\"continue\"></a>\n",
    "\n",
    "##### `continue`\n",
    "\n",
    "The **continue** statement exits early from one iteration of the loop, but keeps executing the while loop. Essentially, the continue statement means to go to the top of the while loop and evaluate its Boolean expression, skipping over the rest of the suite. Oftentimes, the continue statement should be refactored into if, elif, and else statements for better readability.\n",
    "\n",
    "Consider the following code, where the program continuously prompts a user for a series of even integers that the program will sum together. If the user makes an error and enters an odd number, the program should indicate an error, ignore that input, and continue with the process. To end the loop, the special character \".\" is used, where the program will print the final sum and end the process. Notice how the continue statement doesn't break the loop, but skips the misinputs and continues the while suite. "
   ]
  },
  {
   "cell_type": "code",
   "execution_count": null,
   "metadata": {},
   "outputs": [],
   "source": [
    "print (\"Allow the user to enter a series of even integers. Sum them.\")\n",
    "print (\"Ignore non-even input. End input with a '.'\")\n",
    "number_str = input(\"Number: \")\n",
    "the_sum = 0\n",
    "\n",
    "# Stop if a period (.) is entered .\n",
    "\n",
    "while number_str != \".\" :\n",
    "   number = int(number_str)\n",
    "   if number % 2 == 1:\n",
    "      print (\"Error, only even numbers please.\")\n",
    "      number_str = input(\"Number: \")\n",
    "      continue\n",
    "   the_sum += number\n",
    "   number_str = input(\"Number: \")\n",
    "\n",
    "print (\"The sum is:\",the_sum)"
   ]
  },
  {
   "cell_type": "markdown",
   "metadata": {},
   "source": [
    "<a id=\"passandsloop\"></a>\n",
    "\n",
    "##### `pass and Sentinal Loop`\n",
    "The **pass statement** does nothing; it can be used when a statement is required syntatically, but the program requires no action. Essentially, the pass statement is used when something has to be put in a statement but nothing from the statement is needed; oftentimes used as a placeholder:\n",
    "\n",
    "```python\n",
    "for my_int in range(10):\n",
    "   pass\n",
    "```\n",
    "\n",
    "This statement will iterate through the range, but will do nothing with them. The pass statement is often used to test a statement to see if it works, especially when nothing needs to be done as a result.\n"
   ]
  },
  {
   "cell_type": "markdown",
   "metadata": {},
   "source": [
    "A **Sentinal Loop** is a loop that is controlled by a sentinel (a particular value that is used to terminate the loop). This is essentially using `while not` or `!=` in a Boolean expression. The code block in the *continue* portion uses a sentinal loop through **while number_str != \".\":**"
   ]
  },
  {
   "cell_type": "markdown",
   "metadata": {},
   "source": [
    "<a id=\"for\"></a>\n",
    "\n",
    "#### **`for Statement`**\n",
    "\n",
    "Similar to the while statement, the **for statement** can support a terminal else suite, as well as the control modifiers continue and break. The **else suite** is executed after the for loop exits normally. The **break statement** provides an immediate exit of the for loop, skipping the else clause. The **continue statement** immediately halts the present iteration of the loop, continuing with the rest of the iterations. "
   ]
  },
  {
   "cell_type": "markdown",
   "metadata": {},
   "source": [
    "\n",
    "```python\n",
    "for target in object:\n",
    "   # statement_suite1\n",
    "\n",
    "   if boolean_expression1:\n",
    "   break # Exit loop now; skip else.\n",
    "\n",
    "   if boolean_expression2:\n",
    "   continue # Go to top of loop now.\n",
    "\n",
    "else:\n",
    "   # statement_suite2\n",
    "```"
   ]
  },
  {
   "cell_type": "markdown",
   "metadata": {},
   "source": [
    "It is possible to write a **while loop** that behaves exactly like a **for loop;** however, not every while loop can be expressed as a for loop. Consider the following examples; the for loop is easier to understand, but it is useful only for moving through the elements of objects with iterators. The for statement should be considered before the while statement:"
   ]
  },
  {
   "cell_type": "code",
   "execution_count": null,
   "metadata": {},
   "outputs": [],
   "source": [
    "for i in range(5):\n",
    "   print(i)"
   ]
  },
  {
   "cell_type": "code",
   "execution_count": null,
   "metadata": {},
   "outputs": [],
   "source": [
    "i=0\n",
    "while i < 5:\n",
    "   print(i)\n",
    "   i += 1"
   ]
  },
  {
   "cell_type": "markdown",
   "metadata": {},
   "source": [
    "<a id=\"tst\"></a>\n",
    "\n",
    "#### **`The String Type`**\n",
    "\n",
    "As mentioned earlier, the string (str) type is a collection type, which is a group of objects that can be treated as a single object. The string type, in particular, is considered to be a **sequence,** meaning that it has its collection of objects organized in some order. It is recommended to delimit strings by double quotes (\"string\") as single quotes can be used within the double quotes without generating an error. Also, strings can be created with the `str()` contructor\n"
   ]
  },
  {
   "cell_type": "markdown",
   "metadata": {},
   "source": [
    "\n",
    "Instead of using a pair of either single or double quotes, triple quotes can also be used to create a string. By using this format, the string preserves all the format information of the string; if the string has multiple lines, the new lines (carriage returns) are preserved. Even more so, if there are quotes, tabs, or any other additional formatting, it will always be preserved. Similarly, the backslash combined with other characters can also create these additional whitespaces or carriage returns, but is more tedious than using triple quotes:\n",
    "\n",
    "| Tab| New Line|\n",
    "| ---| --- |\n",
    "| `\\t` | `\\n` |"
   ]
  },
  {
   "cell_type": "code",
   "execution_count": null,
   "metadata": {},
   "outputs": [],
   "source": [
    "print(\"Ex. 1: lorem ipsum\")\n",
    "print('''Ex. 2: lorem ipsum       lorem ipsum\n",
    "lorem ipsum  ''')\n",
    "print(\"Ex. 3: lorem ipsum\\t lorem ipsum\\nlorem ipsum\")"
   ]
  },
  {
   "cell_type": "markdown",
   "metadata": {},
   "source": [
    "It is important to remember that the type of an object determines both the attributes of an object and the kinds of operations that can be performed on the object. Single character strings, like all other data, are represented in a computer as numbers. These individual characters are stored in a Unicode (UTF-8 is the Unicode default for Python) representation. All sets of Unicode, inlcuding **UTF-8,** maps each character to an integer, meaning that in the UTF-8 set, each character is associated with a particular integer value, where Python labels its type as string. \n",
    "\n",
    "To view the character-integer mapping, Python comes with the `ord()` function, which shows the UTF-8 integer associated with a character, and the `chr()` function, which takes an integer and outputs the corresponding character based on the UTF-8 table"
   ]
  },
  {
   "cell_type": "code",
   "execution_count": null,
   "metadata": {},
   "outputs": [],
   "source": [
    "print(\"ord():\", (ord('a')))\n",
    "print(\"chr():\", chr(97))"
   ]
  },
  {
   "cell_type": "markdown",
   "metadata": {},
   "source": [
    "<a id=\"indexandslicing\"></a>\n",
    "\n",
    "##### **`Indexing and Slicing`**\n",
    "\n",
    "The position of each character in the string sequence is known as an **index.** Because sequences have an order, every character in a string, including spaces can be numbered based on their index. \n",
    "\n",
    "|   |     |    |    |   |     |    |     |     |    |    |    |\n",
    "|---| --- |--- | ---| ---| ---| ---| --- | --- | ---| ---| ---|\n",
    "| **Characters** |H|e|l|l|o| |W|o|r|l|d|\n",
    "| **Index** |0|1|2|3|4|5|6|7|8|9|10|\n",
    "| **Negative Index** |-11|-10|-9|-8|-7|-6|-5|-4|-3|-2|-1|"
   ]
  },
  {
   "cell_type": "markdown",
   "metadata": {},
   "source": [
    "It is possible to view individual characters in the string sequence using the indexing operator `[int]`. The integer in the brackets represents an index of the associated string and returns the single character string at that index. This number can also be negative, as Python allows indexing from the back end of the sequence; the last character of the string is represented by -1."
   ]
  },
  {
   "cell_type": "code",
   "execution_count": 87,
   "metadata": {},
   "outputs": [
    {
     "name": "stdout",
     "output_type": "stream",
     "text": [
      "Hello World\n",
      "e\n",
      "Worl\n",
      "rld\n",
      "World\n"
     ]
    }
   ],
   "source": [
    "hello = \"Hello World\"\n",
    "print(hello)\n",
    "print(hello[-10])\n",
    "print(hello[6:-1])\n",
    "print(hello[-3:])\n",
    "print(hello[6:11])"
   ]
  },
  {
   "cell_type": "markdown",
   "metadata": {},
   "source": [
    "As seen in the previous example, it is possible to specify more than a single character. A subsequence of a string is known as a **slice**. Similar to returning a single index, a slice returns a new string and does not modify the original string. A colon allows slicing, where the first integer is the starting index and the next integer is the final index. Like the range function, the final index is not included in the subsequence. To include the final character of the sequence, a number is added to the index and specified as the last index; in this case, to include the \"d\" in World, [:11] must be specified.\n",
    "\n",
    "If a value on either side of the colon is missing, a default is used in place of the missing value. If the first index is missing (before the colon), it is assumed that the start index is the beginning of the string `[0]`, including the first character. If the last index is missing (after the colon), it is assumed that the final index is the end of the string, including the final character. \n",
    "\n",
    "It is also possible to copy an entire string by not specifying any integer before or after the colon `[:]`. This can be put into another variable to create a new string as the result of the slice. The orginal string will not be modified, however."
   ]
  },
  {
   "cell_type": "markdown",
   "metadata": {},
   "source": [
    "A third parameter must be specified to create a step in the slice, separated by two colons; the first integer is the beginning of the sequence, the second integer specifies the end of the sequence, and the third is the step to take along the sequence. The default value of the step is 1. \n",
    "\n",
    "An index step of -1 can also be specified to step \"backwords\""
   ]
  },
  {
   "cell_type": "code",
   "execution_count": 102,
   "metadata": {},
   "outputs": [
    {
     "name": "stdout",
     "output_type": "stream",
     "text": [
      "HloWrd\n",
      "dlroW olleH\n",
      "el ol\n",
      "lo le\n"
     ]
    }
   ],
   "source": [
    "x = \"Hello World\"\n",
    "print(x[::2])  # step of 2\n",
    "print(x[::-1]) # reverse string\n",
    "print(x[1::2]) # start at index 1, step of 2 until final\n",
    "print(x[-2::-2]) # reverse string counting every other letter, starting at the -2 index"
   ]
  },
  {
   "cell_type": "markdown",
   "metadata": {},
   "source": [
    "It is important to remember that a string is iterable, meaning that the individual elements can be iterated through using a `for loop` or other methods. Iteration through a string outputs the characters in the string, in the order in which they appear; the characters will still be of the string type. "
   ]
  },
  {
   "cell_type": "code",
   "execution_count": null,
   "metadata": {},
   "outputs": [],
   "source": [
    "for char in \"Python\":\n",
    "   print(char, type(char))"
   ]
  },
  {
   "cell_type": "markdown",
   "metadata": {},
   "source": [
    "<a id=\"stringoperations\"></a>\n",
    "\n",
    "##### `String Operations`\n",
    "\n",
    "Similar to float and integer types, strings can also use the $+$ and $*$ operators but have different use cases."
   ]
  },
  {
   "cell_type": "markdown",
   "metadata": {},
   "source": [
    "\n",
    "**1. Concatenate (`+`):** Requires two string objects and creates a new string object. The new string object is formed by concatenating copies of the two string objects together: the first string joined at its end to the beginning of the second string. It is important to remember that **order does not matter in concatenation** and that **only two strings can be concatenated, other data types cannot be concatenated to strings**\n",
    "\n",
    "**2. Repeat (`*`):** Takes a string object and an integer and creates a new string object. The new string object has as many copies of the string as is indicated by the integer. It is important to remember that **parenthesis force ordering when using replication and concatenation** and that **if a string is only being replicated, then the order does not matter.**\n",
    "\n",
    "For these operations, it is important to remember that new string objects are created and do not affect the strings in the expression. Similarly, in concatenation, there is no space introduced between the end of the first and the beginning of the second string, unless included explicitly. The order of the two string object also matter in concatenation: the first string shows up at the beginning of the new string object and the second string at the end. Changing the order changes the order the strings occur in the new string object; however, the order of the string and integer in replication does not matter"
   ]
  },
  {
   "cell_type": "code",
   "execution_count": 107,
   "metadata": {},
   "outputs": [
    {
     "name": "stdout",
     "output_type": "stream",
     "text": [
      "Hello World\n",
      "Hello | | |\n",
      "Hello Hello Hello \n"
     ]
    }
   ],
   "source": [
    "hi = \"Hello\" \n",
    "print(hi + ' ' + \"World\")\n",
    "print(hi + ' |' * 3)\n",
    "print((hi + ' ') * 3)"
   ]
  },
  {
   "cell_type": "markdown",
   "metadata": {},
   "source": [
    "`Comparison operators` `==`, `=<`, `<`, `=>`, `>`, `!=` can be used to compare strings.\n",
    "\n",
    "Two strings can be compared using the equality operator `==`; if the characters are the same, the expression returns True, but if the characters are different, the expression will return False. \n",
    "\n",
    "If two strings are compared using the greater than `>` or less than `<` operators, the Boolean output would depend on the `ord()` function. For example, 'a' > 'a' would return False, but 'a' > 'A' would return True because of the previously mentioned UTF-8 integer mapping table."
   ]
  },
  {
   "cell_type": "code",
   "execution_count": 110,
   "metadata": {},
   "outputs": [
    {
     "name": "stdout",
     "output_type": "stream",
     "text": [
      "Integer associated with a: 97\n",
      "Integer associated with A: 65\n",
      "Is a > a? False\n",
      "Is a > A? True\n"
     ]
    }
   ],
   "source": [
    "print(\"Integer associated with a:\", ord('a')); print(\"Integer associated with A:\", ord('A'))\n",
    "print(\"Is a > a?\",'a' > 'a'); print(\"Is a > A?\", 'a' > 'A')"
   ]
  },
  {
   "cell_type": "markdown",
   "metadata": {},
   "source": [
    "If a string is compared to another string using the greater than or less than operators, the rules are slightly different. Both strings are compared starting at index 0. If they are different, then the Boolean output depends on the `ord()` function. If they are the same, the second character is compared; if they are the same, the next character is compared, and so on. It is important to remember that an empty string is always less than any other string because it is the only string of length 0."
   ]
  },
  {
   "cell_type": "code",
   "execution_count": 118,
   "metadata": {},
   "outputs": [
    {
     "name": "stdout",
     "output_type": "stream",
     "text": [
      "abc < cde? True\n",
      "abc < abd? True\n",
      "abc < abcd? True\n",
      "'' < a? True\n"
     ]
    }
   ],
   "source": [
    "print(\"abc < cde?\", 'abc' < 'cde') # a < c\n",
    "print(\"abc < abd?\", 'abc' < 'abd') # different at index 2, c < d\n",
    "print(\"abc < abcd?\", 'abc' < 'abcd') # equal up to d, but shorter than abcd\n",
    "print(\"'' < a?\", '' < 'a')"
   ]
  },
  {
   "cell_type": "markdown",
   "metadata": {},
   "source": [
    "The `in operator` can be used for checking membership in a collection. This operator takes two arguments: the collection that's being tested and the element for which is being searched for in the collection. As it applies to strings, the operator tests to see if a substring (character) is an element of a string, where a Boolean value will be returned. If there are several characters being checked, the Boolean value will only return True if the characters are placed in the same order as the string. The in operator can be used with other collections, in which the interpretation of membership depends on the collection type."
   ]
  },
  {
   "cell_type": "code",
   "execution_count": 93,
   "metadata": {},
   "outputs": [
    {
     "name": "stdout",
     "output_type": "stream",
     "text": [
      "True\n",
      "False\n",
      "False\n"
     ]
    }
   ],
   "source": [
    "vowels = 'aeiou'\n",
    "print('a' in vowels)\n",
    "print('x' in vowels)\n",
    "print('aiu' in vowels)"
   ]
  },
  {
   "cell_type": "markdown",
   "metadata": {},
   "source": [
    "<a id=\"stringfunctionsandmethods\"></a>\n",
    "\n",
    "##### **`String Functions and Methods`**\n",
    "\n",
    "Methods, which are a variation on functions, can be used on strings even though they are immutable. A method has a name and a list of arguments in parentheses, but is invoked differently than functions: via `dot notation`. Every method is called in conjuction with a particular object, and the kinds of methods that can be used in conjuction with an object depends on the object's type. String objects have methods that are only suited for strings, as they do not work with other objects.\n",
    "\n",
    "It is important to remember that **some methods have additional optional arguments;** if the argument is not provided, a default for that argument is assumed. The default value depends on the method, but an argument can be specified to override the default. The methods with optional arguments are denoted by $*$"
   ]
  },
  {
   "cell_type": "markdown",
   "metadata": {},
   "source": [
    "| Method| Description | Example |\n",
    "|  ---  |     ---     |   ---   |\n",
    "|`.upper()`|Takes the associated object and creates a new string where all the letters are converted to uppercase. A variable associated with a string may be used with this method; a string can also be directly used.|'A String'.upper() -> `'A STRING'`|\n",
    "|`.find(sub[,start,end])`*|Locate a substring within the calling string and returns the index of the substring in the string where the substring first occurs, but returns `-1` if the substring is not found. More than one character can be specified between the parentheses, but these characters must follow each other in the string; this will return the first substring in the string. A variable associated with a string may be used with this method; a string can also be directly used. <br> Starts at index 0 by default. If a second argument is provided, that second argument is the index where the find process will begin. This method ends at the final index of the string by default. If a third argument is provided, it will be the index where searching stops. |'Python'.find('o') -> `4`|\n",
    "|`.index(sub[,start,end])`*|Similar to the `.find()` method, but generates a ValueError if the argument is not in the string.|'Python'.index('o') -> `4`|\n",
    "|`.capitalize()`|Converts the first character of the string to uppercase and the rest to lowercase|'hello world'.capitalize() -> `'Hello world'`|\n",
    "|`.center(width[,fchar])`*|Centers the string within a specified width. The fchar can be used optionally to specify a character to fill the padding. The padding width includes the string. Assume that the underscores represent the default spaces|'hello'.center(10) -> `'__hello___'`|\n",
    "|`.count(sub[,start,end])`*|Counts occurrences of the substring within the string. This includes an optional start and stop range|'batman'.count('a') -> `2`|\n",
    "|`.decode([encoding,errors])`*|Decodes a bytes object to a string using the specified encoding. This is commonly used when dealing with binary data that needs to be converted to Unicode. If no encoding is specified, Python defaults to UTF-8.<br> The errors parameter is optional, and can be specified with **strict** (raises error), **ignore** (ignores problem and continues encoding), **replace** (replaces the byte with a placeholder character)| b'hello'.decode() -> `'hello'`|\n",
    "|`.encode([encoding,errors])`*|Converts a string into a bytes object. This method is useful when storing or transmitting string data in binary form using the specified encoding (UTF-8, ASCII, Latin-1). If no encoding is specified, Python default to UTF-8. <br> The errors parameter is the same as the `.decode()` method|'café'.encode(utf-8, errors='replace') -> `b'caf?`|\n",
    "|`.endswith(suffix[,start,end])`*|Checks if the string ends with the specified string and returns a Boolean value. <br> There is an optional start and end index in this method|'hello world'.endswith('world') -> `True`|\n",
    "|`.expandtabs([tabsize])`*|Replaces tab characters (\\t) with spaces. Tabsize specifies the number of spaces per tab, but 8 spaces are used by default. Imagine that the underscores are spaces:|'hello\\tworld'.expandtabs(4) -> `'hello____world'`|\n",
    "|`.isalnum()`|Returns True if all characters are **alphanumeric** and the string is not empty|'hello123'.isalnum() -> `True`|\n",
    "|`.isalpha()`|Returns True if all characters are **alphabetic** and the string is not empty|'hello'.isalpha() -> `True`|\n",
    "|`.isdigit()`|Returns True if all characters are **digits** and the string is not empty|'123'.isdigit() -> `True`|\n",
    "|`.islower()`|Returns True if all characters are **lowercase** letters|'hello'.islower() -> `True`|\n",
    "|`.isspace()`|Returns True if all characters are **whitespace**|'  '.isspace() -> `True`|\n",
    "|`.istitle()`|Returns True if the string follows **title case rules**|'Hello World'.istitle() -> `True`|\n",
    "|`.isupper()`|Returns True if all characters are **uppercase** letters|'HELLO'.isupper() -> `True`|\n",
    "|`.join(seq)`|Joins elements of an iterable **seq** with the string as a separator|'-'.join(['hello','world']) -> `'hello-world'`|\n",
    "|`.lower()`|Converts all characters to lowercase|'HELLO'.lower() -> `'hello'`|\n",
    "|`.ljust(width[,fchar])`*|Left-aligns the string, padding it with the optional fchar to the specified width. If no fchar is specified, the default is space. The padding width includes the string. Assume that the underscores represent the default spaces:|'hello'.ljust(10) -> `'hello_____'`|\n",
    "|`.lstrip([chars])`*|Removes any leading characters, specified by chars, or whitespaces if no argument is provided|'www.example.com'.lstrip('w.') ->  `example.com`|\n",
    "|`.partition(sep)`|This will search for the separator in the string.  If the separator is found returns a 3-tuple containing the part before the separator, the separator itself, and the part after it. If the separator is not found, returns a 3-tuple containing the original string and two empty strings.|'hello-world'.partition('-') -> `('hello', '-', 'world')`|\n",
    "|`.replace(old,new[,count])`*|Replaces occurrences of the **old** character with the **new** character. If count is specified, only that many occurrences are replaced|'hello world'.replace('o', 'x') -> `'hellx wxrld'`|\n",
    "|`.rfind(sub[,start,end])`*|Similar to the `find()` function, but returns the highest index where the substring is found, or -1 if not found|'hello world'.rfind('o') -> `7`|\n",
    "|`.rindex(sub[,start,end])`*|This is the same as the `rfind()` function, but raises a ValueError if the substring is not found|'hello world'.rindex('o') -> `7`|\n",
    "|`.rjust(width[,fchar])`*|Rights-aligns the string, padding it with the optional fchar to the specified width. If no fchar is specified, the default is space. The padding width includes the string|'hello'.rjust(10, '_') -> `'_____hello'`|\n",
    "|`.rpartition(sep)`|This is the same as the `partition()` method, but starts at the end instead of at the beginning|'hello,world'.rpartition('-') -> `('', '', 'hello,world')`|\n",
    "|`.rsplit(sep[,maxsplit])`*|Splits the string by sep starting from the right side. The optional maxsplit parameter limits the number of splits|'a,b,c'.rsplit(',', 1) -> `['a,b', 'c']`|\n",
    "|`.rstrip[chars])`*|Removes trailing characters. If the optional chars parameter is not specified, whitespaces are removed|'hello___'.rstrip('_') -> `'hello'`|\n",
    "|`.split(sep[,maxsplit])`*|Splits the string into a list using sep as a separator. The optional maxsplit parameter limits the number of splits|'a,b,c'.split(',') -> `['a', 'b', 'c']`|\n",
    "|`.splitlines([keepends])`*|Splits the string at line breaks. If keepends is True, the line breaks are included in the result|'hello\\nworld'.splitlines() -> `['hello', 'world']`|\n",
    "|`.startswith(prefix[,start,end])`*|Returns True if the string starts with the specified prefix. There are optional start and end parameters refer to the index in the string where the search should begin/stop|'hello world'.startswith('hello') -> `True`|\n",
    "|`.strip([chars])`*|Removes leading and trailing characters. If the optional chars parameter is not specified, the default white spaces will be removed|'__hello___'.strip('_') -> `'hello'`|\n",
    "|`.swapcase()`|Swaps the case of all characters (uppercase to lowercase or lowercase to uppercase)|'Hello World'.swapcase() -> `'hELLO wORLD'`|\n",
    "|`.title()`|Converts the first letter of each word to uppercase and the rest to lowercase|'hello world'.title() -> `'Hello World'`|\n",
    "|`.translate(table[,deletechars])`*|Replaces characters in a string according to a previously created translation table; this table maps each character in the original string to a corresponding character. The translation table is created using the `str.maketrans(original_chars, chars_replace[,chars_delete])` method.|'hello'.translate(str.maketrans('h', 'f')) - > `'fello'` <br> t_table = str.maketrans(original, replace, delete) <br> text = 'string' <br> call = `text.translate(t_table)`|\n",
    "|`.zfill(width)`|Pads the string with zeros on the left to achieve the specified width|'41'.zfill(5) -> `'00041'`|"
   ]
  },
  {
   "cell_type": "markdown",
   "metadata": {},
   "source": [
    "**Methods and functions can be chained,** meaning that there could be a series of dot notation invocations. The calls are chained in the sense that an object returned from one method can be used as the calling object in the next method, always going from left to right. \n",
    "\n",
    "```python\n",
    "'a string'.upper().find('S')\n",
    "[Out]: 2\n",
    "```"
   ]
  },
  {
   "cell_type": "markdown",
   "metadata": {},
   "source": [
    "**Method and function invocations can be used as arguments to another method call, known as `nesting`.** For nested calls, all invocations inside parentheses, like those found in a function invocation, are done first. For example, to find the second occurrence of a substring, one call of `find()` can be nested as an argument of a find invocation. To understand this better, consider the following code:\n",
    "\n",
    "```python\n",
    "a_str = 'He had the bat.'\n",
    "a_str.find('t') # look for 't ' starting at beginning\n",
    "[Out]: 7\n",
    "a_str.find('t',8) # start at index 8 = 7 + 1\n",
    "[Out]: 13\n",
    "a_str.find('t', a_str.find('t')+1) # start at one after the first 't '\n",
    "[Out]: 13\n",
    "```\n",
    "In this code, **a_str.find('t',8)** is the same as **a_str.find('t',a_str.find('t')+1).** Firstly, the first 't' in the string needs to be found. Secondly, another `find()` invocation is made within the first invocation, with the same **.find('t')** argument and **+1** next to this second invocation. This adds 1 to the first found index and uses that value as the starting point for a search for the second 't'."
   ]
  },
  {
   "cell_type": "markdown",
   "metadata": {},
   "source": [
    "<a id=\"formattedo\"></a>\n",
    "\n",
    "##### **`Formatted Output for Strings`**\n",
    "\n",
    "Formatting allows better control of how the output looks on the console; this can easily be achieved by using the `.format()` method. This method creates a *format string*, where everything in that format string will be reproduced exactly in the new string (same spacing and characters) but with substitution from the format() method's arguments placed in curly brackets `{}`.\n",
    "\n",
    "Essentially, the formatting commands are empty brackets that are substituted by the order of both the braces and the arguments in the format method"
   ]
  },
  {
   "cell_type": "code",
   "execution_count": null,
   "metadata": {},
   "outputs": [],
   "source": [
    "print(\"The {} is {}\".format('time', '5 pm'))"
   ]
  },
  {
   "cell_type": "markdown",
   "metadata": {},
   "source": [
    "The way each object is formatted in the string is done by default based on its type; for example, integers and floats don't need quotations but strings do when used as arguments for the format method. \n",
    "\n",
    "However, each bracket can include formatting commands that provide directives about how a particular object should be printed. A **descriptor code, alignment number, width number, and precision number** can be provided for a particular object. These arguments can be combined too, for the most part:\n",
    "\n",
    "```python\n",
    "{:[align] [minimum_width] [.precision] [descriptor]}\n",
    "```\n",
    "This is the general structure of the most commonly used parts of the format command. The information in the square brackets `[] indicate optional arguments`. All the optional information comes after a colon in the braces. It is important to note that there are actually 10 possible format commands. "
   ]
  },
  {
   "cell_type": "markdown",
   "metadata": {},
   "source": [
    "**`Descriptor Codes`**\n",
    "\n",
    "The formatting commands include a set of descriptor codes that dictate the type of object to be placed at that location in the string, and formatting operations that can be performed on that type. The most common descriptor codes are:\n",
    "\n",
    "**1. s (string)**\n",
    "\n",
    "**2. d (decimal integer)**\n",
    "\n",
    "**3. f (floating-point decimal)**\n",
    "\n",
    "**4. e (floating-point exponential)**\n",
    "\n",
    "**5. % (floating-point as percent)**\n",
    "\n",
    "The descriptor can control how an individual object of that type is printed to the screen. For example, **float descriptors can control the number of decimal points printed** and **string descriptors can control leading or following spaces.** However, it is important to remember that each descriptor works only with its associated type; associating an object of the wrong type with a descriptor will lead to a Python error. "
   ]
  },
  {
   "cell_type": "markdown",
   "metadata": {},
   "source": [
    "**`Width and Alignment Descriptors`**\n",
    "\n",
    "A field width can be specified for each data item; it specifies a printing-field width, counted as the number of spaces the object occupies. By default, formatted strings are left justified and formatted numbers are right justified.\n",
    "\n",
    "If the specification includes a less than `<` symbol, the data is placed left justified within the indicated width. If the specification includes a greater than `>` symbol, the data is placed right justified within the indicated width. Centering can be achieved via the up `^` symbol.\n",
    "\n",
    "In the following example, notice how the first string argument (Bill) is pushed 10 spaces from the left and the second decimal argument (25) is pushed 10 spaces from the right using the format method and descriptors."
   ]
  },
  {
   "cell_type": "code",
   "execution_count": 120,
   "metadata": {},
   "outputs": [
    {
     "name": "stdout",
     "output_type": "stream",
     "text": [
      "      Bill is 25         years old\n"
     ]
    }
   ],
   "source": [
    "print(\"{:>10s} is {:<10d} years old\".format(\"Bill\", 25))"
   ]
  },
  {
   "cell_type": "markdown",
   "metadata": {},
   "source": [
    "In this example, notice that the descriptor codes were specified but the allignment descriptors were **NOT** specified. Based on this behavior, it is safe to assume that by default, the allignment is left justified within the indicated width, or uses an invisible less than `<` symbol."
   ]
  },
  {
   "cell_type": "code",
   "execution_count": 123,
   "metadata": {},
   "outputs": [
    {
     "name": "stdout",
     "output_type": "stream",
     "text": [
      "         0 -->    0\n",
      "         1 -->    1\n",
      "         2 -->    4\n",
      "         3 -->    9\n",
      "         4 -->   16\n"
     ]
    }
   ],
   "source": [
    "for i in range(5):\n",
    "   print(\"{:10d} --> {:4d}\".format(i, i**2))"
   ]
  },
  {
   "cell_type": "markdown",
   "metadata": {},
   "source": [
    "**`Floating-Point Precision Descriptor`**\n",
    "\n",
    "To control the precision of floating point numbers, floating-point precision descriptors can be used. Precision is specified in the format descriptor using a **decimal point followed by an integer to specify the precision.** For example, `{:.4f}` specifies that the printed value will only have `four digits` to the right of the decimal point. "
   ]
  },
  {
   "cell_type": "code",
   "execution_count": 126,
   "metadata": {},
   "outputs": [
    {
     "name": "stdout",
     "output_type": "stream",
     "text": [
      "Original: 3.141592653589793\n",
      "4 precision: 3.1416\n",
      "4 precision and allignment:   3.1416\n"
     ]
    }
   ],
   "source": [
    "from math import pi\n",
    "print(\"Original:\", pi)\n",
    "print(\"4 precision: {:.4f}\".format(pi))\n",
    "print(\"4 precision and allignment: {:8.4f}\".format(pi))"
   ]
  },
  {
   "cell_type": "markdown",
   "metadata": {},
   "source": [
    "The floating-point as a percent descriptor `%` converts a float from a decimal to a percentage, also using the format method."
   ]
  },
  {
   "cell_type": "code",
   "execution_count": 127,
   "metadata": {},
   "outputs": [
    {
     "name": "stdout",
     "output_type": "stream",
     "text": [
      "0.6666666666666666\n",
      "  66.67%\n"
     ]
    }
   ],
   "source": [
    "print(2/3)\n",
    "print(\"{:8.2%}\".format(2/3))"
   ]
  },
  {
   "cell_type": "markdown",
   "metadata": {},
   "source": [
    "**`String Formatting in Detail`**\n",
    "\n",
    "There are more capabilities of string formatting:\n",
    "\n",
    "**{arg:[[ fill ]align][sign][#][0][minimum_width][,][.precision][descriptor]}**\n",
    "\n",
    "The optional **arg** argument that appears before the colon allows specification of which of the particular arguments to use. By doing so, format can mix arguments in a predetermined way, even reusing an argument in multiple places. \n",
    "\n",
    "Formatting can also be done on any string without needing a print statement. "
   ]
  },
  {
   "cell_type": "code",
   "execution_count": 128,
   "metadata": {},
   "outputs": [
    {
     "name": "stdout",
     "output_type": "stream",
     "text": [
      "Bill is tall and Bill is also 25\n"
     ]
    }
   ],
   "source": [
    "print('{0} is {2} and {0} is also {1}'.format('Bill', 25,'tall'))\n"
   ]
  },
  {
   "cell_type": "markdown",
   "metadata": {},
   "source": [
    "Another allignment format is `=`, which forces the \"fill\" to be placed after the numeric sign and before the digits, but only works with numeric data. The fill is a character that occupies any blank space in the formatted output. The sign specification controls the numeric sign:\n",
    "\n",
    "`+`: forces a sign for both positive and negative values\n",
    "\n",
    "`-`: the default and only display a sign for negatives\n",
    "\n",
    "`\" \"`: puts a space for positives and a negative sign for negatives"
   ]
  },
  {
   "cell_type": "code",
   "execution_count": 131,
   "metadata": {},
   "outputs": [
    {
     "name": "stdout",
     "output_type": "stream",
     "text": [
      ".........abc | +000000035 | ---22\n"
     ]
    }
   ],
   "source": [
    "print(\"{0:.>12s} | {1:0=+10d} | {2:->5d}\".format('abc',35,22))"
   ]
  },
  {
   "cell_type": "markdown",
   "metadata": {},
   "source": [
    "If the width field is preceded by a zero `0`, zero-padding is enabled. This\n",
    "is equivalent to an alignment type of “=” and a fill character of “0.” The `,` option signals the use of a comma as a thousands separator"
   ]
  },
  {
   "cell_type": "code",
   "execution_count": 132,
   "metadata": {},
   "outputs": [
    {
     "name": "stdout",
     "output_type": "stream",
     "text": [
      "0004\n",
      "1,234,567,890\n"
     ]
    }
   ],
   "source": [
    "print('{:04d}'.format(4)) # zero preceeds width\n",
    "print('{:,d}'.format(1234567890))"
   ]
  },
  {
   "cell_type": "markdown",
   "metadata": {},
   "source": [
    "The `#` sign specifies the use of an alternative form.  However, one alternative form that may be useful is when used with floats: it forces a decimal point even if there are no digits to the right of the decimal point."
   ]
  },
  {
   "cell_type": "code",
   "execution_count": 102,
   "metadata": {},
   "outputs": [
    {
     "name": "stdout",
     "output_type": "stream",
     "text": [
      "    3.\n"
     ]
    }
   ],
   "source": [
    "print('{:#6.0f}'.format(3))"
   ]
  },
  {
   "cell_type": "markdown",
   "metadata": {},
   "source": [
    "<a id=\"filesetexceptions\"></a>\n",
    "\n",
    "#### **`Files and Exceptions`**\n",
    "\n",
    "A file is a collection of bytes of information that usually resides permanently on a disk. Files fall into two categories:\n",
    "\n",
    "**1. Text Files:** Originally organized as ASCII data, but now include Unicode data that can handle a greater variety of characters that are required by many languages. In either case, text files are human-readable.\n",
    "\n",
    "**2. Binary Files:** All other files that use some other coding scheme. An example of a binary file is the format that Microsoft uses for Word documents. If a word document is opened in a text editor, it appears as random characters that are not human-readable. "
   ]
  },
  {
   "cell_type": "markdown",
   "metadata": {},
   "source": [
    "To access a file from Python, there must be an open connection between the Python shell and the file residing on the disk. Essentially, a \"pipe\" is created between the information on the disk and the program that will use it. The \"pipe\" acts as a conduit for the file contents to pass back and forth between the disk where the file resides and the program. It is important to remember that the pipe is a file object that is created when the connection is established. The file object (file descriptor or stream)  uses the main memory of the computer to store data as they are moved between the disk and program. The python open command sets up that connection and returns the file through this file object. Through the file object, a file can be opened for reading, writing, or both:\n",
    "\n",
    "```python\n",
    "temp_file = open(\"temp.txt\",\"r\") # open the file for reading\n",
    "for line_str in temp_file: # iterate through the file via the file object\n",
    "   print(line_str, end='') # use end=''; line str already has a carriage return\n",
    "```\n",
    "The first line calls the open function with arguments, specifying the file name and whether it is being opened for `reading r` or `writing w`. The connection to the file is created as a file object; file contents can be iterated line by line using a for statement. At the end, the file needs to be closed via the `.close()` function, which tears down the connection between the shell and the file. If the file is not closed, the Python shell will close it when the shell exits or is restarted. "
   ]
  },
  {
   "cell_type": "markdown",
   "metadata": {},
   "source": [
    "When a connection is set up between a Python program and a file, a **data stream** is created. Data flows from the file (on disk) to the program. The stream is managed by the operating system, which tries to ensure that when the for loop needs the next line, that line will already be in the buffer in memory. A buffer is needed because disk access is slow, so the computer, when it isn't busy, stores a lot of the file's contents in memory. "
   ]
  },
  {
   "cell_type": "markdown",
   "metadata": {},
   "source": [
    "<a id=\"readingandwriting\"></a>\n",
    "\n",
    "##### **`Reading and Writing Text Files`**\n",
    "\n",
    "Writing files requires first creating a file object connection (shell), and specifying `w` in the open command. If the file doesn't exist for writing, it will be created. Once a file is open, the file can be written on by adding the `file = argument` to the print command. \n",
    "\n",
    "```python\n",
    "temp_file = open(\"temp.txt\",\"w\") # open file for writing; creates file if it does not exist or overwrites it if it exists\n",
    "print(\"first line\", file=temp_file)\n",
    "print(\"second line\", file=temp_file)\n",
    "temp_file.close()\n",
    "```\n",
    "This will print \"first line\" on the first line and \"second line\" on the second line. \n"
   ]
  },
  {
   "cell_type": "markdown",
   "metadata": {},
   "source": [
    "Consider the following program. It opens one file for reading and another for writing; the program reads, one line at a time, from the file named **input.txt**. The line is stripped and then iterated through one character at a time. Afterwards, a character is added to the left of a new string, called *new_str*, essentially reversing the line. After processing the line, *new_str* is written to a file called **output.txt**. Assume that `First Line`, `Second Line`, `Third Line` are written in **input.txt**\n",
    "\n",
    "```python\n",
    "input_file = open(\"input.txt\", \"r\")\n",
    "output_file = open(\"output.txt\", \"w\")\n",
    "for line_str in input_file:\n",
    "   new_str = ''\n",
    "   line_str = line_str.strip() # remove the carriage return\n",
    "   for char in line_str:\n",
    "      new_str = char + new_str # concat at the left ( reverse )\n",
    "   print(new_str, file=output file) # print to output file\n",
    "\n",
    "   print('Line: {:12s} reversed is: {:s}'.format(line_str, new_str))\n",
    "input_file.close()\n",
    "output_file.close()\n",
    "```\n",
    "\n",
    "This will output:\n",
    "```python\n",
    "Line: First Line reversed is: eniL tsriF\n",
    "Line: Second Line reversed is: eniL dnoceS\n",
    "Line: Third Line reversed is: eniL drihT\n",
    "```"
   ]
  },
  {
   "cell_type": "markdown",
   "metadata": {},
   "source": [
    "<a id=\"fcandoverwriting\"></a>\n",
    "\n",
    "##### **`File Creation and Overwriting`**\n",
    "\n",
    "An error is generated when attempting to open a file for **reading** and the file doesn't exist on the disk. If the file exists, the file object connection is created and values can be read from the file. A file will be created when attempting to write to a nonexistent file in the folder where the program is running. If the file already exists, its contents will be cleared and its file contents will be lost."
   ]
  },
  {
   "cell_type": "markdown",
   "metadata": {},
   "source": [
    "| Mode | How Opened | File Exists | File Does Not Exist |\n",
    "| --- | --- | --- | --- |\n",
    "| `r` | read-only | Opens that file| Error|\n",
    "| `w` | write-only| Clears the file contents| Creates and opens a new file|\n",
    "| `a` | write-only| File contents left intact and new data appended at file's end| Created and opens a new file|\n",
    "| `r+`| read and write| Reads and overwrites from the file's beginning| Error|\n",
    "| `w+`| read and write| Clears the file contents| Creates and opens a new file|\n",
    "| `a+`| read and write| File contents left intact and read and write at file's end| Creates and opens a new file|\n"
   ]
  },
  {
   "cell_type": "markdown",
   "metadata": {},
   "source": [
    "<a id=\"sfforwords\"></a>\n",
    "\n",
    "##### **`Searching a File of Words`**\n",
    "\n",
    "Reading through a file through Python prints the lines in double-space format because each line already has a carriage-return in the line; the print function adds another. To eliminate these extra characters (spaces or tabs), the **strip string method** can be used. If no arguments are provided to strip, then a new string is returned with whitespace removed from either end of the calling strip (the calling string is not modified). If a string argument is provided to strip, only those characters in the argument string are removed. For example, `str.strip('., ')` returns a new string that `strips commas, periods, and the space character from the beginning and end of a string`. "
   ]
  },
  {
   "cell_type": "markdown",
   "metadata": {},
   "source": [
    "Similarly, the `.lower()` string method is useful to make all of the characters lowercase (uniform). Both of these string methods can be combined through the following code:\n",
    "```python\n",
    "def clean_word(word):\n",
    "   return word.strip().lower()\n",
    "   ```\n",
    "\n",
    "The next code searches words in a file that contains all of the vowels, combining both string methods. This function returns the vowels found in a word in the order in which they were found, checking each character to see whether it is a vowel, and collect the vowels into a string in the order in which they were found. A variable is firstly created that is associated with the empty string:"
   ]
  },
  {
   "cell_type": "code",
   "execution_count": null,
   "metadata": {},
   "outputs": [],
   "source": [
    "data_file = open(\"dictionary.txt\", \"r\")\n",
    "\n",
    "def clean_word(word):\n",
    "   return word.strip().lower() # Return word in lowercase stripped of whitespace\n",
    "\n",
    "def get_vowels_in_word(word): # Return vowels in string word include repeats\n",
    "   vowel_str = \"aeiou\"\n",
    "   vowels_in_word = \"\"\n",
    "   for char in word:\n",
    "      if char in vowel_str:\n",
    "         vowels_in_word += char\n",
    "   return vowels_in_word\n",
    "\n",
    "print(\"Find words containing vowels 'aeiou' in that order:\")\n",
    "\n",
    "for word in data_file:\n",
    "   word = clean_word(word) # clean the word\n",
    "   if len(word) <= 6: # if word is too small , skip it\n",
    "      continue\n",
    "   vowel_str = get_vowels_in_word(word) # get vowels in word\n",
    "   if vowel_str == 'aeiou': # check if you have exactly all\n",
    "      print(word)"
   ]
  },
  {
   "cell_type": "markdown",
   "metadata": {},
   "source": [
    "<a id=\"fileaccessmethods\"></a>\n",
    "\n",
    "##### **`Other File Access Methods`**\n",
    "\n",
    "__READING__\n",
    "\n",
    "`readline`: Read a single line\n",
    "```python\n",
    "temp_file = open(\"temp.txt\", \"r\")\n",
    "first_line_str = temp_file.readline() # reads only one line\n",
    "first_line_str\n",
    "[Out]: 'First Line\\n'\n",
    "\n",
    "for line_str in temp_file: # reads remaining lines\n",
    "   print(line_str)\n",
    "\n",
    "[Out]:Second Line\n",
    "      Third Line\n",
    "      Fourth Line\n",
    "\n",
    "temp_file.readline() # file completely read, returns empty string\n",
    "[Out]: ''\n",
    "\n",
    "temp_file.close()\n",
    "```\n",
    "<br>\n",
    "\n",
    "`readlines(number of lines)`: Read all the file lines, and stores each line as an element in a list; the list is what the method returns. If the file is very large, then the entire contents are read and placed in a list of lines, which will also be very large. \n",
    "```python\n",
    "temp_file = open(\"temp.txt\", \"r\")\n",
    "file_contents_list = temp_file.readlines() # read all file lines into a list\n",
    "\n",
    "file_contents_list\n",
    "[Out]: ['First line\\n', 'Second line\\n', 'Third line\\n', 'Fourth line\\n']\n",
    "```\n",
    "<br>\n",
    "\n",
    "`read(size in bytes)`: Read as many bytes as indicated in the argument into a single string. The default is the entire file. This method takes a single integer argument which is the number of bytes to be read from the file; 1 byte is typically 1 character, at least given the use of a UFT-8 file encoding. \n",
    "```python\n",
    "temp_file = open(\"temp.txt\", \"r\")\n",
    "temp_file.read(1)\n",
    "[Out]: 'F'\n",
    "\n",
    "temp_file.read(2)\n",
    "[Out]: 'ir'\n",
    "\n",
    "temp_file.read()\n",
    "[Out]: 'st line\\nSecond line\\nThird line\\nFourth line\\n'\n",
    "\n",
    "temp_file.read(1)\n",
    "[Out]: ''\n",
    "\n",
    "temp_file.close()\n",
    "```"
   ]
  },
  {
   "cell_type": "markdown",
   "metadata": {},
   "source": [
    "__WRITING__\n",
    "\n",
    "`write`: Write a string to a file. It returns the number of bytes (characters) written to the file. This is the simplest method to write a string to a file; this writes *only* strings to the file, so conversion from other types is necessary. \n",
    "\n",
    "If multiple lines are needed, `\\n` can be used, but it may be more effective to write a single line on each iteration of the algorithm as every write appends to the end of the file's present contents, making the file longer with each write.\n",
    "```python\n",
    "word_list = ['First', 'Second', 'Third', 'Fourth']\n",
    "out_file = open('outFile.txt', 'w')\n",
    "for word in word_list:\n",
    "   out_file.write(word + ' line\\n')\n",
    "\n",
    "out_file.close()\n",
    "```\n",
    "<br>\n",
    "\n",
    "`writelines`: Write a squence (a list of lines) to a file. This method takes a list of lines as an argument and writes that list to the file; if there needs to be multiple lines outputted to the file, \\n must be entered between the lines\n",
    "```python\n",
    "out_file = open('out.txt', 'w')\n",
    "line_list = ['First\\n', 'Second\\n', 'Third\\n', 'Fourth\\n']\n",
    "out_file.writelines(line_list)\n",
    "out_file.close()\n",
    "```"
   ]
  },
  {
   "cell_type": "markdown",
   "metadata": {},
   "source": [
    "<a id=\"unewlineformat\"></a>\n",
    "\n",
    "##### **`Universal New Line Format`**\n",
    "\n",
    "In different OS, there are different ways to newlines characters:\n",
    "\n",
    "|Unix and MAC OS X|Windows|MAC pre-OS X|\n",
    "|        ---      |  ---  |    ---     |\n",
    "| `\\n`            |`\\r\\n` |   ` \\r`    | \n",
    "\n",
    "This is not needed when programming in Python, as it uses the Universal Line Format, which translates the operating specific values to \\n on read and from \\n to the operating specific values on write. This is turned on by default"
   ]
  },
  {
   "cell_type": "markdown",
   "metadata": {},
   "source": [
    "The `open` function has an argument called `newline=`, which specifies what gets translated. Again, by default, this argument does not to be provided in the open statement because Python will automatically know what to do, but other options are still worth knowing for specific uses.\n",
    "\n",
    "**<ins>Input</ins>**\n",
    "\n",
    "`newline=None or blank`: Univesal newline mode is enabled. Lines in the input can end in \\n, \\r, or \\r\\n, and they will be translated into \\n before being returned. \n",
    "\n",
    "`newline=''`: Universal newline mode is enabled, but line endings are returned to the caller untranslated. If newline is set to any of the other legal values, input lines are only terminated by the given string, and the line ending is returned untranslated\n",
    "\n",
    "<br>\n",
    "\n",
    "**<ins>Output</ins>**\n",
    "\n",
    "`newline=None or blank`: Any \\n characters are translated to the system default line separator. This is indicated in the special value of the os module, **os.linesep**\n",
    "\n",
    "`newline=''`: No translation takes place. If newline is any of the other legal values, any \\n characters are translated to the given string. \n",
    "\n"
   ]
  },
  {
   "cell_type": "markdown",
   "metadata": {},
   "source": [
    "<a id=\"movingaroundafile\"></a>\n",
    "\n",
    "##### **`Moving Around in a File`**\n",
    "\n",
    "Through Python, there is a way to control where the programmer is in a file, when reading or writing, and change the position of where the r or w occurs. "
   ]
  },
  {
   "cell_type": "markdown",
   "metadata": {},
   "source": [
    "The file object gains access to the contents of a disk file, and the open function creates a buffer. Once the contents are read into the file object buffer, the file object treats the buffer as a very large list, in which each element of the list has an index. A file object counts each byte as an index into the file object buffer. The file object also maintains a current file position, which is the present index where reads or writes are to occur. \n",
    "\n",
    "Many of the file methods use the current file position; for example, after a readline occurs, the current file position moves to the position after the next carriage return. The write method writes at the current file position. \n",
    "\n",
    "To work with the current file position, the `.tell()` method can be used. This reports the position of the current file position relative to the beginning of the file in bytes\n",
    "\n",
    "The `.seek(n)` method shifts the current file position to a new position `n` bytes into the file object buffer. To go to the beginning of the file, `.seek(0)` can be used, and to go to the end of the file `.seek(0,2)` can be used. There are other seek options available for binary files. "
   ]
  },
  {
   "cell_type": "markdown",
   "metadata": {},
   "source": [
    "<a id=\"withandunicode\"></a>\n",
    "\n",
    "##### **`The with Statement and Unicode`**\n",
    "\n",
    "The `with` statement is a shortcut for the process of opening and closing a file. This ensures that once the file is opened, that is gets closed automatically without requiring the close statement. \n",
    "```python\n",
    "with open('tmp.txt') as temp_file:\n",
    "   temp_file.readlines()\n",
    "```\n",
    "The with expression performs its action and the returned value is associated with the variable of the statement. That variable can then be used in the following suite. If an error occurs in the suite, Python automically closes the opened file before the suite is exited. "
   ]
  },
  {
   "cell_type": "markdown",
   "metadata": {},
   "source": [
    "Python references the encoding of files in different Unicode encodings as `codec`, but as it applies to text files, codec is the Unicode code point used to encode the characters in the file. How a file gets generated might affect the encoding of the Unicode characters used in the file. If the file's encoding isn't specified, then by default, some of the characters cannot be interpreted and an error will be generated. \n",
    "\n",
    "The solution for this is to open the file using the associated text encoding, indicating the proper interpretation of the bytes of the file. These are the following text encodings available for Python:\n",
    "\n",
    "`ascii`: The classic ASCII character set\n",
    "\n",
    "`utf-8`: The ASCII set in Unicode\n",
    "\n",
    "`utf-16`: A two byte encoding that covers a large set of characters from the Latin and Greek character set\n",
    "\n",
    "`latin_1`: This is also known as iso-8859-1, and is identical to ASCII from 0 to 128, but with different characters from 129 to 255\n",
    "\n",
    "`windows-1252`: THis is also known as cp1252, and is used by Microsoft Windows. "
   ]
  },
  {
   "cell_type": "markdown",
   "metadata": {},
   "source": [
    "<a id=\"csvfiles\"></a>\n",
    "\n",
    "##### **`CSV Files`**\n",
    "\n",
    "CSV (comma-separated value) files are not different types of files, but a different type of file format; it is actually a text file that can be used in conjunction with file functions and methods."
   ]
  },
  {
   "cell_type": "markdown",
   "metadata": {},
   "source": [
    "The `csv module` provides an easy way to read and write CSV files:\n",
    "\n",
    "`csv.reader(file.csv)`: Reads the CSV file. The reader method takes as an argument a file object, meaning that the CSV file already has to be opened and assigned to a variable that can be placed as the argument. This returns a reader object that can be used to iterate through a CSV file; however, this returns a single row of the file for each iteration and the returned value is a **list of strings**, where each element of the list represents one of the fields of the row. \n",
    "```python\n",
    "import csv\n",
    "workbook = open('file.csv', 'r')\n",
    "reader = csv.reader(workbook)\n",
    "\n",
    "for row in reader:\n",
    "   print(row)\n",
    "workbook.close()\n",
    "```\n",
    "By default, files open in Universal New Line Mode, and empty rows are outputted as an empty list. If a field in a row is not filled in, the row is still marked with an empty string\n",
    "\n",
    "<br>\n",
    "\n",
    "`csv.writes(file.csv)`: Writes a CSV file. Similar to the csv.reader, the required argument is a file object. This object has the `writerow` method, which will write a row of data to the file. \n",
    "```python\n",
    "import csv\n",
    "newfile = open('file.csv', 'w')\n",
    "writer = csv.writer(newfile)\n",
    "for row in empty_list:\n",
    "   writer.writerow(row)\n",
    "newfile.close()\n",
    "```"
   ]
  },
  {
   "cell_type": "markdown",
   "metadata": {},
   "source": [
    "<a id=\"moduleos\"></a>\n",
    "\n",
    "##### **`Module: OS`**\n",
    "\n",
    "While this module has many capabilities, this section focuses on the file-related ones. Popular OSs maintain files in a directory structure; this assumes the existence of a special container called a **directory** (Linux and OS-X) or a **folder** (Windows). Each directory can hold: a list of files that are in the directory; a list of other directories also contained in the directory; and a link to the directory's parent in the directory structure. Directories are organized by the last two items (directories they contain and their parent directory)\n",
    "\n",
    "This is a hierarchical (`tree`) type of organization. The root directory (/) is at the top of the tree, directories (nodes) are directly connected to the root, and subdirectories (edges) are directly connected to the directories. Files within the edges are known as leaves or nodes with no children. The OS moves down the tree structure (path) following edges and directories until it finds the desired file (contained in a directory) or a directory itself. "
   ]
  },
  {
   "cell_type": "markdown",
   "metadata": {},
   "source": [
    "`os.walk(\"/path/to/directory\")`: Allows user to move through the contents of a directory tree. It takes a valid path string as an argument, and yields three values (name of the cwd, list of subdirectories in the directory, and a list of files in the directory for every directory on the tree under the directory argument provided.) If this function is used in a for loop, it will visit every node in the directory tree under the path string's directory.\n",
    "\n",
    "`os.getcwd()`: Gets the current working directory - the directory that is being worked on. This is returned as a string, and by default, the cwd is set to the directory from where the program started\n",
    "\n",
    "`os.chdir(\"/path/to/directory\")`: Changes the directory from the cwd to the path that was used as an argument (side effect). All paths are strings and the directories are separated by /\n",
    "\n",
    "`os.listdir(\".\")`: Lists contents of the directory. This example returns the contents of the cwd (\".\"), but a path to a different directory can be specified as an argument. A list of strings will be returned via this command.\n",
    "\n",
    "`os.path.isfile(\"/path/to/file\")`: Returns a Boolean value to indicate whether the path is a file or not\n",
    "\n",
    "`os.path.isdir(\"/path/to/directory\")`: Returns a Boolean value to indicate whether the path is a directory or not\n",
    "\n",
    "`os.path.exists(\"/path/to/file/or/directory\")`: Returns a Boolean value to indicate whether the object in the path exists \n",
    "\n",
    "`os.path.basename(\"/path/to/file.file\")`: Extracts a file name from a path; essentially splits a file name off a path\n",
    "\n",
    "`os.path.dirname(\"/path/to/directory\")`: Extracts the directory part of the path from the whole path; essentially splits the directory from a path\n",
    "\n",
    "`os.path.split(\"/path/to/file.file\")`: Creates a list by splitting off the file name from a path; splits path to ('directory', 'file')\n",
    "\n",
    "`os.path.splitext(\"/path/to/file.file\")`: Splits off the extension after the period: (\"/path/to/file/code\", \".py\")\n",
    "\n",
    "`os.path.join(\"/directory/path\", \"code.py\")`: Combines partial paths into a complete path; joins a path to a file name"
   ]
  },
  {
   "cell_type": "markdown",
   "metadata": {},
   "source": [
    "`OS Module with Files`\n",
    "\n",
    "This is how files should be opened, by getting the current working directory and joining it to the file name. \n",
    "\n",
    "```python\n",
    "import os\n",
    "\n",
    "dir_name  = os.getcwd()\n",
    "file_name = os.path.join(dir_name, 'test.txt')\n",
    "\n",
    "text_file = open(file_name, 'r')\n",
    "result = text_file.read(10)\n",
    "text_file.close()\n",
    "\n",
    "print(result)\n",
    "```"
   ]
  },
  {
   "cell_type": "markdown",
   "metadata": {},
   "source": [
    "***\n",
    "<a id=\"detailedcollections\"></a>\n",
    "\n",
    "## **Collections in Detail**\n",
    "\n",
    "This section goes into detail about **Sets, Tuples, Dictionaries, Stacks, Queues, Singly Linked Lists, Doubly Linked Lists, Sorting, and Searching**"
   ]
  },
  {
   "cell_type": "markdown",
   "metadata": {},
   "source": [
    "<a id=\"lists\"></a>\n",
    "\n",
    "#### **`Lists`**\n",
    "\n",
    "The list type `[]` is a collection type, sequence type, and iterable type. A list can contain elements other than strings; in fact, a list can contain a sequence of elements of any type, even different typed elements mixed together in the same list. A list is also **mutable,** meanining that a list object can be changed after it is created. Lists can be created either by placing the objects in square brackets, or by using the list constructor `list()`."
   ]
  },
  {
   "cell_type": "code",
   "execution_count": 109,
   "metadata": {},
   "outputs": [
    {
     "data": {
      "text/plain": [
       "['h', 'e', 'l', 'l', 'o']"
      ]
     },
     "execution_count": 109,
     "metadata": {},
     "output_type": "execute_result"
    }
   ],
   "source": [
    "list_from_collection =  list('hello')\n",
    "list_from_collection"
   ]
  },
  {
   "cell_type": "markdown",
   "metadata": {},
   "source": [
    "The previous list uses the constructor method, and results in each letter being printed separately, even though a string was specified. The list constructor takes a single argument and that argument must be an iterable; each element of the argument iterable is added to the new list. Non-iterable (Booleans, floats, integers, etc) cannot be used as an argument to the list constructor because they do not contain multiple elements and are not iterable. \n",
    "\n",
    "An empty list, without any elements, `[]` is convienently called an **empty** list, and is equivalent to the Boolean `False`. "
   ]
  },
  {
   "cell_type": "markdown",
   "metadata": {},
   "source": [
    "<a id=\"listoflists\"></a>\n",
    "\n",
    "##### **`List of Lists`**\n",
    "\n",
    "Lists that contain lists as elements (**Nested List**) are useful for representing many types of data, especially for spreadsheets (rows and columns) or the Cartesian plane (x and y).\n",
    "\n",
    "To index an individual element, two pairs of brackets are used: the first one selects the row list, and the second one selects the column value within the list:"
   ]
  },
  {
   "cell_type": "code",
   "execution_count": 112,
   "metadata": {},
   "outputs": [
    {
     "name": "stdout",
     "output_type": "stream",
     "text": [
      "Row at Index 1: ['Bill', 25, 3.55]\n",
      "Column at index 2, in row at index 1: 3.55\n",
      "Same as: 3.55\n"
     ]
    }
   ],
   "source": [
    "spreadsheet_list = [['Name', 'Age', 'GPA'], ['Bill', 25, 3.55], ['Rich', 26, 4.00]]\n",
    "row = spreadsheet_list[1]; print(\"Row at Index 1:\", row)\n",
    "column = row[2]; print(\"Column at index 2, in row at index 1:\", column)\n",
    "print(\"Same as:\", spreadsheet_list[1][2])"
   ]
  },
  {
   "cell_type": "markdown",
   "metadata": {},
   "source": [
    "The previous example shows a 2D plane, and how to grab objects from each. In nested lists (2D), the first bracket essentially grabs the nested list based on its index when compared to the other lists in the nested list. The following (second) bracket grabs a specific object from the list at its specified index. \n",
    "\n",
    "A 3D plane would be best represented as a **list of lists of lists,** where there are two nested lists in a greater, overarching list. The outer list would represent a 2D plane, the list within that list would represent all values in a particular row, and then a particular value would be the index into that row. "
   ]
  },
  {
   "cell_type": "markdown",
   "metadata": {},
   "source": [
    "<a id=\"listindexandslicing\"></a>\n",
    "\n",
    "##### **`List Indexing and Slicing`**\n",
    "\n",
    "Consider the following example:\n",
    "\n",
    "```Python\n",
    "myList = [1,'a', 3.1459, True]\n",
    "```\n",
    "\n",
    "Indexing and slicing work exactly the same with lists and strings:\n",
    "\n",
    "| 1 |'a'|3.1459|True|\n",
    "|---|---| ---  | ---|\n",
    "| 0 | 1 | 2    | 3  |\n",
    "|-4 | -3|  -2  | -1 |"
   ]
  },
  {
   "cell_type": "markdown",
   "metadata": {},
   "source": [
    "\n",
    "```python\n",
    "myList[1] → 'a'\n",
    "\n",
    "myList[:3] → [1, 'a', 3.1459]\n",
    "\n",
    "myList[-1] → True\n",
    "\n",
    "myList[:] → [1,'a', 3.1459, True] # copy slice\n",
    "\n",
    "myList[:3:2] → [1, 3.1459] # 0 index to 3 index, step by 2\n",
    "\n",
    "myList[::2] → [1, 3.1459] # step by 2\n",
    "\n",
    "myList[2:] → [3.1459, True] # start index 2 \n",
    "\n",
    "[1,'a', 3.1459, True][3] → True \n",
    "```\n",
    "<br>\n",
    "\n",
    "* Each element of the list has an associated value. The index values begin at **0 on the left and get larger**; or they can begin with **-1 on the right and get smaller.** \n",
    "\n",
    "* The index operator is a set of square brackets `[]` with either a single integer or a slice. If it contains a single integer, that integer is the index of the element within the list. \n",
    "\n",
    "* Accessing an element at an index that does not exist in the list is an error\n",
    "\n",
    "* For the slice operation, within square brackets, there may be one or two colons. The number before the first colon is the start index `[start:]`, the number after the first colon is the end index `[start:end]`, and the number after the end index is the step `[start:end:step]`. The defaults for all three are: the beginning of the list, the end of the list, and a step of 1.\n",
    "\n",
    "* A slice uses a half-open range, meaning that the end index is not included in the slice. \n",
    "\n",
    "* The final example shows both a list creation operation and an index operation together. The first `[]` is creating a list (denoted by the separation of objects via commas), and the second `[]` is indexing into that list"
   ]
  },
  {
   "cell_type": "markdown",
   "metadata": {},
   "source": [
    "<a id=\"listoperatorsandfunctions\"></a>\n",
    "\n",
    "##### **`List Operators, Functions, and Iterations`**\n"
   ]
  },
  {
   "cell_type": "markdown",
   "metadata": {},
   "source": [
    "\n",
    "`Operators`\n",
    "\n",
    "The addition operator `+` takes two lists as operands and *concatenates the two lists together,* making a new list whose contents are the first list joined at its end to the beginning of the second list.\n",
    "\n",
    "The multiplication operator `*` takes a list and an integer as operandsm and *replicates the list the size of the integer number of times.*\n",
    "\n",
    "It should be noted that with lists, the types are fixed for this operation. Only two lists can be concatenated (not a list and a string, not a list and an integer, etc), and a list can only be replicated in combination with an integer; no other combination of types will do. \n",
    "\n",
    "Besides these operators, comparison operators `>, <, ==, <=, >=, !=` can also be used as operators between two list operands. Similar to strings, comparison begins by comparing the first element of each list. If the first elements are equal, the comparison process moves to the second element of each list. This process continues, comparing corresponding elements until the process finds two elements that are different. At that point, the comparison between the two different elements determines the result of the operation. If one list is equal to but shorter than the other list, the longer list is considered greater. \n",
    "\n",
    "The `in` operator for membership testing can also work in lists, outputting a Boolean value depending on the query"
   ]
  },
  {
   "cell_type": "code",
   "execution_count": 114,
   "metadata": {},
   "outputs": [
    {
     "name": "stdout",
     "output_type": "stream",
     "text": [
      "[1, 2, 3, 'a', 'c', 'd']\n",
      "[1, 2, 3, 1, 2, 3, 1, 2, 3]\n",
      "False\n",
      "True\n"
     ]
    }
   ],
   "source": [
    "list_1 = [1,2,3]\n",
    "list_2 = ['a', 'c', 'd']\n",
    "list_3= [1,2,3,4,5]\n",
    "print(list_1 + list_2)\n",
    "print(list_1 * 3)\n",
    "print(list_1 > list_3)\n",
    "print(1 in list_1)"
   ]
  },
  {
   "cell_type": "markdown",
   "metadata": {},
   "source": [
    "`Functions`\n",
    "\n",
    "With lists, the `len()` function returns the number of comma separated elements in the list. It is important to remember that a list can have as an element another list and that list still counts as one element."
   ]
  },
  {
   "cell_type": "code",
   "execution_count": null,
   "metadata": {},
   "outputs": [],
   "source": [
    "print(len([1, [1,2,3], 3]))"
   ]
  },
  {
   "cell_type": "markdown",
   "metadata": {},
   "source": [
    "`len(C)`: Returns the length of collection C (the number of elements)\n",
    "\n",
    "`min(C)`: Returns the minimum element in collection C. If the argument is a list of lists, only the first element in each list is considered for the purposeses of comparison\n",
    "\n",
    "`max(C)`Returns the maximum element in collection C. If the argument is a list of lists, only the first element in each list is considered for the purposes of comparison. \n",
    "\n",
    "`sum(L)`: Returns the sum of elements in list L. The particular function **requires** the list elements to be numbers"
   ]
  },
  {
   "cell_type": "code",
   "execution_count": null,
   "metadata": {},
   "outputs": [],
   "source": [
    "int_list= [1,2,3,4]; print(\"int_list:\", int_list)\n",
    "print(\"This is the len() of int_list:\", len(int_list))\n",
    "print(\"This is the min() of int_list:\", min(int_list))\n",
    "print(\"This is the max() of int_list:\", max(int_list))\n",
    "print(\"This is the sum() of int_list:\", sum(int_list))"
   ]
  },
  {
   "cell_type": "markdown",
   "metadata": {},
   "source": [
    "`Iterations`\n",
    "\n",
    "Elements of a list can be iterated through, in order, using the **for** operator, similar to that of strings. In the following example, the variable **element** is assigned *1,3,4,8,* one at a time, and then the statement in the suite are executed using that value for **element.**"
   ]
  },
  {
   "cell_type": "code",
   "execution_count": null,
   "metadata": {},
   "outputs": [],
   "source": [
    "myList = [1,3,4,8]\n",
    "\n",
    "for element in myList:\n",
    "   print(element, end=' ')"
   ]
  },
  {
   "cell_type": "markdown",
   "metadata": {},
   "source": [
    "<a id=\"listmutability\"></a>\n",
    "\n",
    "##### **`List Mutability`**\n",
    "\n",
    "In lists, elements at certain indexes can be changed: **Index Assignment.** Similarly, an entire slice of a list can be changed via **Slice Assignment.** While these operations are flexible and useful, they can cause accidental change of a list."
   ]
  },
  {
   "cell_type": "markdown",
   "metadata": {},
   "source": [
    "```python\n",
    "my_list = [1,2,'a','z']\n",
    "\n",
    "my_list[0] → 1\n",
    "\n",
    "my_list[0] = True # changes the first element (True)\n",
    "my_list → [True,2,'a','z']\n",
    "\n",
    "my_list[-7] = 7 # changes the last element (7)\n",
    "my_list → [True,2,'a',7]\n",
    "\n",
    "my_list[:2] = 27 # changes the first two elements to one element (27)\n",
    "my_list → [27,'a',7]\n",
    "\n",
    "my_list[:] = [1,2,3,4] # changes the entire list\n",
    "my_list → [1,2,3,4]\n",
    "\n",
    "my_list[2:] = ['a,b,c'] # changes the last two elements\n",
    "my_list → [1,2'a','b','c']\n",
    "```"
   ]
  },
  {
   "cell_type": "markdown",
   "metadata": {},
   "source": [
    "* A list combination with the index operator can occur on the left-hand side of the assignment statement, meaning that after the assignment occurs, the value at that index is changed to be the value of the right-hand side of the assignment statement **(Index Assignment)**\n",
    "\n",
    "* As a result of every operation in that session, the list is changed. This means that everytime one of these operations are performed, the changed list is carried forward to the next line in the session. Using the previous example, the list elements associated with my_list at the end of the session are the cumulative resuts of all of the operations that were performed. \n",
    "\n",
    "* An entire slice (multiple elements) of a list can be changed at single time **(Slice Assignment).** However, if slice assignment occurs, the values mthat are assigned must be a collection. Each individual element of assigned collection is added to the list at the slice indices. An individual value cannot be slice assigned to a list, though the session shows assigning a list with a single value as acceptable. It is important to remember that **a slice is a collection,** so to replace it implies that another collection is needed; therefore, the collection replacing the slice can be bigger, smaller, or the same size. "
   ]
  },
  {
   "cell_type": "markdown",
   "metadata": {},
   "source": [
    "<a id=\"listmethods\"></a>\n",
    "\n",
    "##### **`List Methods`**\n",
    "\n",
    "Lists have their own associated methods (a function that works with a particular type of object) that only work with lists. \n",
    "\n",
    "**Non-modifying methods, denoted by $, do not change the list,** but return a value as a result of their processing. \n",
    "\n",
    "**Modifying methods change the list.** The list that calls the method will be modified as a result of the operation of the method, and none of the methods except for the `pop()` method returns a value. These list methods do not need to return a list object for the change, as the list itself is changed because it is mutable. "
   ]
  },
  {
   "cell_type": "markdown",
   "metadata": {},
   "source": [
    "|Methods|Definition|\n",
    "|---    | ---      |\n",
    "|`.index(x)`$|Returns the index of the first element in the list whose vaue is equal to $x$ If there is no such value in the list, an error will be outputted.|\n",
    "|`.count(x)`$|Returns the number of times $x$ appeats in the list. This returns 0 if $x$ does not appear in the list.|\n",
    "|`.append(x)`:|Appends an element to the end of the list. The length of the list is increasbed by one; the element is appended exactly, so a collection is added as a single element|\n",
    "|`.pop([index])`|Removes the element at the end of the list and returns that element. The list is shortened by one element. If the optional index is placed as an argument, the method removes the element at that position and returns that item| \n",
    "|`.extend(C)`|Requires a collection **C** as an argument. The list is extended by adding each individual element of the argument collection C to the end of the list|\n",
    "|`.insert(i,x)`|Inserts an element at a given position. The first argument is the index before which to insert in the list, so the $x$ argument is inserted at the specified index, sliding all the rest of the list elements down one|\n",
    "|`.remove(x)`|Removes the first element from the list whose value is $x$ If there is no such item, an error will be generated. Otherwise, the length of the list is decreased by one|\n",
    "|`.sort()`|Sorts the elements of the list, in place. If sorting a list of lists, only the first element in each list is considered in the comparison operations. Only the order of the list elements is modified (unless already sorted)|\n",
    "|`.reverse()`|Reverses the elements of the list, in place. Only the order of the list elements is modified.|"
   ]
  },
  {
   "cell_type": "markdown",
   "metadata": {},
   "source": [
    "```python\n",
    "a_list = [1, 12, 5, 8]\n",
    "\n",
    "a_list.append([40,50,60])  # appends a list rather than one item\n",
    "a_list → [1, 12, 5, 8, [40,50,60]]\n",
    "\n",
    "another_list = [20, 2]\n",
    "a_list.extend(another_list) # conjoins lists without adding another list\n",
    "a_list → [1, 12, 5, 8, [40,50,60], 20, 2]\n",
    "\n",
    "a_list.insert(3,99) # inserts 'a' at index 3 \n",
    "a_list → [1, 12, 5, 99, 8, [40,50,60], 20, 2]\n",
    "\n",
    "a_list.remove(8) # removes first element on list with value of 8\n",
    "a_list → [1, 12, 5, 99, [40,50,60], 20, 2]\n",
    "\n",
    "a_list.pop()\n",
    "→ 2\n",
    "\n",
    "a_list.index(99)\n",
    "→ 3 \n",
    "\n",
    "a_list.count(99)\n",
    "→ 1\n",
    "\n",
    "a_list.remove([40,50,60])\n",
    "a_list → [1, 12, 5, 99, 20, 2]\n",
    "\n",
    "a_list.sort()\n",
    "a_list → [1, 2, 5, 12, 20, 99]\n",
    "\n",
    "a_list.reverse()\n",
    "a_list → [99, 20, 12, 5, 2, 1]\n",
    "```"
   ]
  },
  {
   "cell_type": "markdown",
   "metadata": {},
   "source": [
    "* To add the contents of another collection to the end, the `.extend()` method should be used. This method adds each of the individual elements of the argument collection to the list, one at a time, beginning at the end of the list. It shoudl be noted that this  must be a **collection.**\n",
    "\n",
    "* The `.remove()` method searches for and removes a particular element, but only removes the first occurrence of that element. Because this method, and the `.index()` method  throws an error in the case that the element is not in the list, it is usually preceeded by a check for that element's existance using the `in operator`.\n",
    "\n",
    "* It should be noted that the `.sort()` method **only works with homogenous lists.** Sorting a list of lists will sort on the first item in each list, but one can create lists with the desired items to sort on first, but there are ways to sort on values other than the first. The `operator module` has `itemgetter` that can be used for sorting on values other than the first and allows sorting on multiple values. Similarly, the `sorted()` function can be used, which returns a new sorted list without changing the original list. More information on the sorted() function in the next section."
   ]
  },
  {
   "cell_type": "markdown",
   "metadata": {},
   "source": [
    "In the following example, the operator module is used. The itemgetter function sorts on the first item in each list, but using `key=itemgetter(1)` allows for sorting on index 1 in each list. If `key=itemgetter(1,2)`, sorting will begin on index, and then on index 2. \n",
    "\n",
    "```python\n",
    "from operator import itemgetter\n",
    "L = [['sarah', 'Jr', 30], ['rich', 'So', 10], ['bill', 'Jr', 20]] # nested list \n",
    "\n",
    "sorted(L) # default search on index 0 \n",
    "→ [['bill', 'Jr', 20], ['rich', 'So', 10], ['sarah', 'Jr', 30]]\n",
    "\n",
    "sorted(L,key=itemgetter(1)) # sort on index 1\n",
    "→ [['sarah', 'Jr', 30], ['bill', 'Jr', 20], ['rich', 'So', 10]]\n",
    "\n",
    "sorted(L,key=itemgetter(2)) # sort on index 2 \n",
    "→ [['rich', 'So', 10], ['bill', 'Jr', 20], ['sarah', 'Jr', 30]]\n",
    "\n",
    "sorted(L,key=itemgetter(1,2)) # sort on index 1 first then on index 2\n",
    "→ [['bill', 'Jr', 20], ['sarah', 'Jr', 30], ['rich', 'So', 10]]\n",
    "```"
   ]
  },
  {
   "cell_type": "markdown",
   "metadata": {},
   "source": [
    "<a id=\"morelistmethods\"></a>\n",
    "\n",
    "##### **`More List Methods`**\n",
    "\n",
    "The `.split()` method turns a string into a list, separating each element into an object in a list. The split method, at least in lists, is used for **multiple assignment from a list.** Consider the following examples:"
   ]
  },
  {
   "cell_type": "code",
   "execution_count": 136,
   "metadata": {},
   "outputs": [
    {
     "name": "stdout",
     "output_type": "stream",
     "text": [
      "el1: 10, el2: 20, el3: 30\n",
      "f1: Python; f2: is; f3: great\n"
     ]
    }
   ],
   "source": [
    "el1, el2, el3 = [10,20,30]\n",
    "print(f\"el1: {el1}, el2: {el2}, el3: {el3}\")\n",
    "f1, f2, f3 = \"Python is great\".split()\n",
    "print(f\"f1: {f1}; f2: {f2}; f3: {f3}\")"
   ]
  },
  {
   "cell_type": "markdown",
   "metadata": {},
   "source": [
    "Converting between a list and a string are mostly done via the string`.join()` method. This method takes a list of strings as an argument and concatenates (in order) each of those strings into a new string. \n",
    "\n",
    "In this method, tne calling string is the string that is placed between each string as they are concatenated; the calling string is used as a separator:\n",
    "\n",
    "```python\n",
    "':'.join([a,b,c])\n",
    "→ 'a:b:c'\n",
    "```\n",
    "From this example, it is important to note that the join method does not use the separator in front of the first element, nor behind the last. The join method can be used to recreate a string after some processing has been done on the string elements.\n",
    "\n",
    "In the following example, a string is used, split on whitespace, then each string element is reversed to recreate the string of reversed element:"
   ]
  },
  {
   "cell_type": "code",
   "execution_count": 137,
   "metadata": {},
   "outputs": [
    {
     "name": "stdout",
     "output_type": "stream",
     "text": [
      "Elements in string: ['This', 'Is', 'a', 'Test']\n",
      "Reversed elements: ['sihT', 'sI', 'a', 'tseT']\n",
      "Now as a string: sihT sI a tseT\n"
     ]
    }
   ],
   "source": [
    "my_str = 'This Is a Test'\n",
    "reversed_elements = []\n",
    "\n",
    "string_elements = my_str.split()\n",
    "print(\"Elements in string:\", string_elements)\n",
    "\n",
    "for element in string_elements:\n",
    "   reversed_elements.append(element[::-1])\n",
    "\n",
    "print(\"Reversed elements:\", reversed_elements)\n",
    "print(\"Now as a string:\", ' '.join(reversed_elements))"
   ]
  },
  {
   "cell_type": "markdown",
   "metadata": {},
   "source": [
    "To sort a string, a string can be turned into a list of individual characters using the `list()` constructor, the list can be sorted, and the join() method can be used to put the string back together. \n",
    "\n",
    "Instead of doing all of this to sort a string, the `sorted()` function can be used to sort any collection. This will separate the collection into individual elements, sort the elements, then return the elements in a sorted order as a list. It is important to note that the argument provided to sorted is not modified by the action of the function:\n",
    "\n",
    "```python\n",
    "my_list = [27,56,4,18]\n",
    "\n",
    "sorted_list = sorted(my_list)\n",
    "sorted_list\n",
    "→ [4,18,27,56]\n",
    "\n",
    "my_list\n",
    "→ [27,56,4,18]\n",
    "\n",
    "my_list.sort()\n",
    "my_list\n",
    "→ [4,18,27,56]\n",
    "```\n",
    "The function `sorted()` returns a list, whereas the `sort()` list method changes the list itself (as a side effect)."
   ]
  },
  {
   "cell_type": "markdown",
   "metadata": {},
   "source": [
    "<a id=\"listcomprehension\"></a>\n",
    "\n",
    "##### **`List Comprehension`**\n",
    "\n",
    "A **comprehension** is a compact way to construct a new collection by performing some simple operations on some or all of the elements of another collections. This is essentially a shortcut for expressing a way to create a new collection from an old collection; any collection could be implemented using a `for` loop. "
   ]
  },
  {
   "cell_type": "markdown",
   "metadata": {},
   "source": [
    "A comprehension can be thought of as a *transformation.* By using a comprehension, the elements of a collection are transformed into a new collection. While there are different kinds of comprehension depending on the type of the result collection being generated, they have a few things in common:\n",
    "\n",
    "* They are surrounded by either square brackets `[]` (list comprehension) or braces `{}` (set or dictionary comprehension), indicating the type of comprehension and the type of the result collection\n",
    "\n",
    "```python\n",
    "[expression for-clause condition]\n",
    "```\n",
    "\n",
    "* The first element is an **expression.** This expression is run on every element of the collection being processed and the result of that expression is added as an element to the new collection\n",
    "\n",
    "* The second element is a **for** expression that indicates the collection being processed\n",
    "\n",
    "* The optional third element indicates a **condition** under which an element from the collection being processed should be run through the expression. If the condition is False for a particular element, it is NOT processed nor added to the result collection. The default is that all elements should be processed."
   ]
  },
  {
   "cell_type": "code",
   "execution_count": null,
   "metadata": {},
   "outputs": [],
   "source": [
    "[i for i in range(20) if i%2 == 0]"
   ]
  },
  {
   "cell_type": "markdown",
   "metadata": {},
   "source": [
    "This example demonstrates a list comprehension, denoted by being wrapped around square brackets, so it will generate a list. Notice how the expression (i) is the same as the variable in the **for** expression and conditional expression. The comprehension will not work if they are different because the creation of the new element is based on each old element. \n",
    "\n",
    "Variable *i*, the expression and **first element,** is collected and placed in a new list whenever the condition (third element) is True.\n",
    "\n",
    "The for clause `for i in range(20)`, the **second element,** iterates through the integers from 0 to 19 and each time sets *i* to that value; this is the old collection.\n",
    "\n",
    "The condition `if i%20 == 0`, the **third element,** only collects variable *i* if True."
   ]
  },
  {
   "cell_type": "code",
   "execution_count": null,
   "metadata": {},
   "outputs": [],
   "source": [
    "[(i, i**2, i**3) for i in range(20) if i%2 == 0]"
   ]
  },
  {
   "cell_type": "code",
   "execution_count": null,
   "metadata": {},
   "outputs": [],
   "source": [
    "word = \"solidarity\"\n",
    "vowels = \"aeiou\"\n",
    "[v for v in word if v in vowels]"
   ]
  },
  {
   "cell_type": "markdown",
   "metadata": {},
   "source": [
    "It is possible to work from multiple sequences and have complicated conditionals. For example, the following generates pairs of numbers with x in the range from 0 up to 3, and y in the range from 0 up to 4:\n",
    "\n",
    "```python\n",
    "[(x,y) for x in range(3) for y in range(4)]\n",
    "→ [(0, 0),\n",
    " (0, 1),\n",
    " (0, 2),\n",
    " (0, 3),\n",
    " (1, 0),\n",
    " (1, 1),\n",
    " (1, 2),\n",
    " (1, 3),\n",
    " (2, 0),\n",
    " (2, 1),\n",
    " (2, 2),\n",
    " (2, 3)]\n",
    "```\n",
    "This multiple sequence is **nested.** When x has the value 0, y iterates through all the values 0-4. When x has the value of 1, y again iterates through all the values 0-4. Comprehensions on multiple sequences are nested from left to right."
   ]
  },
  {
   "cell_type": "markdown",
   "metadata": {},
   "source": [
    "Finally, list comprehensions can be used for doing conversions. The following example extracts digits in a string and converts them to ints:"
   ]
  },
  {
   "cell_type": "code",
   "execution_count": null,
   "metadata": {},
   "outputs": [],
   "source": [
    "some_string = \"John Doe, 874 Main St., East Lansing, MI, 48823\"\n",
    "[int(c) for c in some_string if c.isdigit()]"
   ]
  },
  {
   "cell_type": "markdown",
   "metadata": {},
   "source": [
    "One of the restrictions on the expression part of the comprehension is that it must be an expression (must return a value). It is not possible to use `if`, `while`, or other control statements as the first part of a comprehension. However, it is possible to create a function as the expression, as long as it takes the **for-clause** variable as an argument and returns a value. "
   ]
  },
  {
   "cell_type": "markdown",
   "metadata": {},
   "source": [
    "A **Ternary Operator** can be used in comprehensions. This is a kind of abbriviated **if statement** that returns one of two values depending on some condition. There are three parts: two potential return values and a condition\n",
    "\n",
    "```python\n",
    "True-Expression if condition else False-Expression\n",
    "```\n",
    "\n",
    "With these operators, the result of the True expression is returned if the condition is True, else the result of the False expression is returned (if the condition is False). The ternary operator allows the return of only the True-expression or the False-expression.\n",
    "\n",
    "The following code squares every odd number and cubes every even number. The ternary operator `i%2` is essentially 1%2 == 1 (True), checking for odd numbers. If this condition is not met, or i%2 == 0, it will be considered False and the else suite will be executed. This is because Boolean True evaluates to 1 and Boolean False evaluates to 0. "
   ]
  },
  {
   "cell_type": "code",
   "execution_count": null,
   "metadata": {},
   "outputs": [],
   "source": [
    "[i**2 if i%2 else i**3 for i in range(10)]"
   ]
  },
  {
   "cell_type": "markdown",
   "metadata": {},
   "source": [
    "<a id=\"mutableobjectsandreferences\"></a>\n",
    "\n",
    "#### **`Mutable Objects and References`**\n",
    "\n",
    "As previously seen, the values in a list can be changed. A variable name comes into existence when it's associated with a value, but a variable name has no specific type associated with it. Once made, a variable is associated with a particular object that has a type; Python maintains a **namespace that keeps track of variables and the objects they are associated with it.**"
   ]
  },
  {
   "cell_type": "markdown",
   "metadata": {},
   "source": [
    "This association is known as a **reference,** as a variable name \"references\" an object and are maintained in the namespace, where the reference is made between a variable name and an object. \n",
    "\n",
    "It should be noted that variables can have association changes. Every operation on an immutable object (integer, strings, Booleans, tuples, frozen sets) creates a reference to a new object.\n",
    "\n",
    "If two or more variables reference the same object, and through one variable the object is modified, then all variables that reference that object will reflect that change.\n",
    "\n",
    "```python\n",
    "a_list = [1,2,3]\n",
    "b_list = a_list\n",
    "\n",
    "a_list is b_list\n",
    "→ True \n",
    "\n",
    "a_list.append(27)\n",
    "a_list\n",
    "→ [1,2,3,27]\n",
    "\n",
    "b_list\n",
    "→ [1,2,3,27]\n",
    "```\n",
    "\n",
    "* By assigning b_list to a_list, two variables are created that reference the same object (a list). This is confirmed by using the `is` operator on both variables. \n",
    "\n",
    "* When the `append()` method (or any other method that changes a mutable object) is used on a variable that shares the same object as another variable, the associated variable will also be changed even though it was not directly modified. "
   ]
  },
  {
   "cell_type": "markdown",
   "metadata": {},
   "source": [
    "There are different ways to copy a list before assigning a variable; for example, a `copy slice [:]` can be used, which copies an object (in this case a list) from beginning to end. \n",
    "\n",
    "The copy slice creates a new list and copies the elements in the first list to the copied list; because the result is a new list, that list is different from the old list. As a result, the variables **do not reference the same object.** Essentially, using a copy slice on a list explicitly makes a distinct copy of a list.\n",
    "\n",
    "```python\n",
    "a_list = [1,2,3]\n",
    "b_list = a_list[:]\n",
    "\n",
    "a_list is b_list\n",
    "→ False \n",
    "\n",
    "a_list.append(27)\n",
    "a_list\n",
    "→ [1,2,3,27]\n",
    "\n",
    "b_list\n",
    "→ [1,2,3]\n",
    "```"
   ]
  },
  {
   "cell_type": "markdown",
   "metadata": {},
   "source": [
    "When a list is appended to itself as an element, an **infinite regress** occurs. The list has as an element itself which has its element itself, which has an element itself. When the list is printed, an element that has square brackets containing [...] is printed, referencing a self-reference:"
   ]
  },
  {
   "cell_type": "code",
   "execution_count": 131,
   "metadata": {},
   "outputs": [
    {
     "data": {
      "text/plain": [
       "[1, 2, 3, [...]]"
      ]
     },
     "execution_count": 131,
     "metadata": {},
     "output_type": "execute_result"
    }
   ],
   "source": [
    "a_list = [1,2,3]\n",
    "a_list.append(a_list)\n",
    "a_list"
   ]
  },
  {
   "cell_type": "markdown",
   "metadata": {},
   "source": [
    "<a id=\"shallowcopydeepcopy\"></a>\n",
    "\n",
    "#### **`Shallow Copy and Deep Copy`**\n",
    "\n",
    "When a variable references an immutable object, any operation that uses that object (concatenation, replace, strip, etc) creates a new object; it does not change the referenced object. In contrast, a variable that references a mutable object can either create a new object or change the referenced object, depending on the operation. \n",
    "\n",
    "\n",
    "It is important to understand what elements are stored in a list, particularly when one of the list elements is, itself, a list:"
   ]
  },
  {
   "cell_type": "markdown",
   "metadata": {},
   "source": [
    "`Basic List Copy Method`\n",
    "\n",
    "```python\n",
    "a_list = [1,2,3]\n",
    "b_list = [5,6,7]\n",
    "\n",
    "a_list.append(b_list)\n",
    "a_list\n",
    "→ [1,2,3, [5,6,7]]\n",
    "\n",
    "c_list = b_list \n",
    "c_list\n",
    "→ [5,6,7]\n",
    "\n",
    "b_list is c_list\n",
    "→ True \n",
    "\n",
    "c_list[2] = 88\n",
    "c_list\n",
    "→ [5,6,88]\n",
    "b_list\n",
    "→ [5,6,88]\n",
    "\n",
    "a_list\n",
    "→ [1,2,3, [5,6,88]]\n",
    "```"
   ]
  },
  {
   "cell_type": "markdown",
   "metadata": {},
   "source": [
    "* In the previous example, a_list has a reference to the object that b_list named as an element, not a copy of that object. \n",
    "   * Variable a_list has four elements: three integers and one reference to a list (b_list and c_list). This is expected because the same behavior is seen when assigning a list object to another variable. Essentially, a reference is assigned. \n",
    "   * A change to c_list also changes the last element of a_list because c_list and b_list refer to the same object. "
   ]
  },
  {
   "cell_type": "markdown",
   "metadata": {},
   "source": [
    "`Shallow Copy`\n",
    "\n",
    "The case in which only the references, not the objects themselves, are copied is known as a **Shallow Copy.** A copy slice is a shallow copy because it copies the elements in a list, even if the elements are references.\n",
    "\n",
    "```python\n",
    "a_list = [1,2,3]\n",
    "b_list = [5,6,7]\n",
    "\n",
    "a_list.append(b_list)\n",
    "a_list\n",
    "→ [1,2,3, [5,6,7]]\n",
    "\n",
    "c_list = a_list[:]\n",
    "c_list\n",
    "→ [1,2,3, [5,6,7]]\n",
    "\n",
    "b_list[0] = 1000\n",
    "a_list\n",
    "→ [1,2,3, [1000,6,7]]\n",
    "\n",
    "c_list\n",
    "→ [1,2,3, [1000,6,7]]\n",
    "```"
   ]
  },
  {
   "cell_type": "markdown",
   "metadata": {},
   "source": [
    "* It is possible to make a copy using the slice operation, but what gets copied is ambiguous. \n",
    "   * When using a copy slice, it copies the elements from one list to the new list, but sometimes, the elements are themselves references\n",
    "\n",
    "* In this example, a_list has an element that references b_list\n",
    "\n",
    "* A copy of a_list is created via a copy slice and stored in c_list\n",
    "   * A new list was created for c_list, but it was created by copying the elements of a_list\n",
    "   * Because a_list has as an element a reference, the reference (not a new copy of the object) was copied. Therefore, a change to b_list was reflected in c_list even though a copy was made."
   ]
  },
  {
   "cell_type": "markdown",
   "metadata": {},
   "source": [
    "`Deep Copy`\n",
    "\n",
    "If the contents need to be copied instead of references to the elements, a **Deep Copy** should be created. A deep copy will copy any object, even if it means that it must follow a reference to find the object. This type of copy could be very slow if there are many references, but it will provide a true copy of the object. \n",
    "\n",
    "```python\n",
    "import copy\n",
    "a_list = [1,2,3]\n",
    "b_list = [5,6,7]\n",
    "\n",
    "a_list.append(b_list)\n",
    "\n",
    "c_list = copy.deepcopy(a_list)\n",
    "\n",
    "b_list[0] = 1000\n",
    "\n",
    "a_list\n",
    "→ [1,2,3, [1000,6,7]]\n",
    "\n",
    "c_list \n",
    "→ [1,2,3, [5,6,7]]\n",
    "```"
   ]
  },
  {
   "cell_type": "markdown",
   "metadata": {},
   "source": [
    "* The copy module that has a deepcopy function which is guaranteed to follow all references and create a true copy\n",
    "\n",
    "* Even though the last element of a list was a reference, the deepcopy function created a copy of the referenced object, and then placed the reference as the last element of c_list\n",
    "   * In this example, c_list is a deep copy."
   ]
  },
  {
   "cell_type": "markdown",
   "metadata": {},
   "source": [
    "<a id=\"tuples\"></a>\n",
    "\n",
    "#### **`Tuples`**\n",
    "\n",
    "Tuples are **immutable lists.** They share all the characteristics of a list, except those that violate immutability. Any function or method that can change a list is **NOT** available for tuples. \n",
    "\n",
    "The purpose of tuples is to provide an immutable list, which provides a data structure with some integrity and some persistence\n",
    "\n",
    "Tuples can contain elements of any type, and are delimited by parentheses `()` when prnted. Each element is separated by commas. It is important to remember that the **comma** is the operator that creates the tuple, not the parentheses.\n",
    "   * To create a single-element tuple, however, the element must be enclosed by parentheses. This is because there would be no commas to separate the elements"
   ]
  },
  {
   "cell_type": "code",
   "execution_count": null,
   "metadata": {},
   "outputs": [],
   "source": [
    "my_tuple = (1,2,3); ex1_tuple = 4,5,6; ex2_tuple = (1,)\n",
    "print(my_tuple, type(my_tuple))\n",
    "print(ex1_tuple, type(ex1_tuple))\n",
    "print(ex2_tuple, type(ex2_tuple))"
   ]
  },
  {
   "cell_type": "markdown",
   "metadata": {},
   "source": [
    "<a id=\"tupleoperations\"></a>\n",
    "\n",
    "##### **`Tuple Operations`**\n",
    "\n",
    "Operations from other sequence data types can also be used on tuples, except those operators that violate immutablity:\n",
    "\n",
    "* Operators such as `+` (concatenate) and `*` (repeat) work on tuples\n",
    "\n",
    "* Indexing and slicing works on tuples\n",
    "\n",
    "* Membership (`in`) and `for` iteration works on tuples\n",
    "\n",
    "* `len`, `min`, `max`, greater than `>`, less than `<`, sum, etc work in tuples. It should be noted that any comparison operation has the same restrictions for mixed types\n",
    "\n",
    "* None of the operations that change lists are available for tuples; for example, append, extend, insert, remove, pop, sort, etc, do not work on tuples."
   ]
  },
  {
   "cell_type": "markdown",
   "metadata": {},
   "source": [
    "```python\n",
    "my_tuple = (1,2,3,4,5)\n",
    "my_tuple\n",
    "→ (1,2,3,4,5)\n",
    "\n",
    "my_tuple + my_tuple\n",
    "→ (1,2,3,4,5,1,2,3,4,5)\n",
    "\n",
    "my_tuple * 3 \n",
    "→ (1,2,3,4,5,1,2,3,4,5,1,2,3,4,5)\n",
    "\n",
    "my_tuple[1] # indexing\n",
    "→ 2 \n",
    "\n",
    "my_tuple[:3] # slicing\n",
    "→ (1,2,3)\n",
    "\n",
    "my_tuple[-1]\n",
    "→ 5\n",
    "\n",
    "5 in my_tuple\n",
    "→ True\n",
    "\n",
    "for n in my_tuple:\n",
    "   print(n, end=' ')\n",
    "→ 1 2 3 4 5\n",
    "\n",
    "len(my_tuple)\n",
    "→  5\n",
    "\n",
    "sum(my_tuple)\n",
    "→  15\n",
    "\n",
    "1,2,3 > 3,2,1\n",
    "→  False \n",
    "```"
   ]
  },
  {
   "cell_type": "markdown",
   "metadata": {},
   "source": [
    "<a id=\"tuplesfromlists\"></a>\n",
    "\n",
    "##### **`Tuples from Lists`**\n",
    "\n",
    "Tuples can be converted to lists, and lists to tuples, using their respective data structure constructors. A tuple can be converted to a list using `list()` and a list can be converted to a tuple using `tuple()`; therefore, it is possible to sort a tuple, or perform other mutable methods by first converting it to a list."
   ]
  },
  {
   "cell_type": "markdown",
   "metadata": {},
   "source": [
    "```python\n",
    "a_list = [6,1,3,4]\n",
    "a_tuple = tuple(a_list)\n",
    "\n",
    "a_tuple\n",
    "→ (6,1,3,4)\n",
    "\n",
    "a_tuple.sort()\n",
    "→ ERROR        # cannot sort an immutable object\n",
    "\n",
    "sorted_list = sorted(a_tuple)\n",
    "print(a_tuple, type(a_tuple))\n",
    "→ [1,3,4,6] <class 'list'>     # sorted method creates a new object (list)\n",
    "\n",
    "new_tuple = tuple(sorted_list)\n",
    "new_tuple\n",
    "→ (1,3,4,6)    # the tuple is now sorted\n",
    "```"
   ]
  },
  {
   "cell_type": "markdown",
   "metadata": {},
   "source": [
    "<a id=\"datastructures\"></a>\n",
    "\n",
    "#### **`Data Structures`**\n",
    "\n",
    "The type of an object, again, describes what was stored in an object of a particular type and the operations that can be performed on that object of that particular type. \n",
    "\n",
    "A **Data Structure** is related to a data type, in that a data type is the implementation of a data structure in a program, essentially indicating what could be done on the type, not what is actually done on the type. A data structure focuses on the **organization of data** and the operations that can act on the data, with an emphasis on **efficiency**. "
   ]
  },
  {
   "cell_type": "markdown",
   "metadata": {},
   "source": [
    "Efficiency can mean the following:\n",
    "\n",
    "**1. Efficient with respect to an algorithm:** Data structures are tightly linked ewith the algorithms that work on them. Therefore, it might be efficient to perform some operations (sorting, storing, inserting, etc) on a particular organization of the data. However, it should be noted that making one operation efficient might make another operation inefficient on the same data structure. \n",
    "\n",
    "**2. Efficient with respect to space:** One way to organize the data is to be efficient in memory usage. If the data being stored is very large, storage efficiency might be very important. The way data gets stored may affect what can be efficiently done with the data. \n",
    "\n",
    "**3. Efficient with respect to time:** Time is an important consideration in data structures. If the algorithm is tasked with controlling flaps on an airplane in flight, then determining proper settings quickly is crucial. Many variables come to play in that decision, and data organization (data structure) is critical. \n",
    "\n",
    "These meanings of efficiency are not always independent, they are often entangled with each other to provide optimization of data flow. \n",
    "\n",
    "An **abstract data structure** is an abstraction of the data organization and that organization's implications towards efficiency, however defined. When a data structure is defined, a set of operations that can be done on the data structure are also defined, which may include certain trade-offs on efficiency.  "
   ]
  },
  {
   "cell_type": "markdown",
   "metadata": {},
   "source": [
    "`Specific Data Types in Data Structures`\n",
    "\n",
    "One property that all sequences have is that there is always an order:\n",
    "\n",
    "`Strings:` A sequence of characters. For strings, a sequence is a way of organizing data-characters. Strings have sequences because the order of characters is important to spell words; it would be inefficient if characters were rearranged to some arbitrary order. As a data structure, strings have a set of operations with specific meanings: functions (len), methods (split), and operators (concatenation). Similarly, strings have limitations relevant to their data structure: there is no way to sort a string, index assign in a string, etc. \n",
    "   * **Efficiencies of Strings:**\n",
    "      * Holds a sequence of characters efficiently in memory\n",
    "      * Maintains information about the size of the string\n",
    "      * Allows quick access to any individual element\n",
    "   * **Deficiencies of Strings:**\n",
    "      * Cannot modify a strings element because they are immutable, so a copy must be made to make changes\n",
    "      * Cannot efficiently manipulate elements to find the largest element or store elements other than alphanumeric characters\n",
    "\n",
    "Similar to strings, `Lists` are also a sequence, but instead of organizing data-characters, they can organize virtually any object.\n",
    "\n",
    "`Queue:` A sequence of data elements that \"stand in a line,\" in which the data can only be removed from the front of the line and new elements can only be added to the back of the line. Elements enter the queue and wait, typically in order, until they come to the front of the queue for removal. Associated operations check to see if the queue is empty, add to the back, and remove from the front.\n",
    "\n",
    "`Dictionary:` This data structure allows the programmer to look up a key to access its associated value. Through the dictionary data structure, key-value pairs can be added or removed, a value can be found by searching for its associated key, etc. \n",
    "\n",
    "`Set:` Unlike strings and lists, Sets are **NOT** a sequence, but a data structure with an unordered collection of items that limit duplications. This is essentially a set of unordered elements, which allow access and modification of individual elements. Through the set data structure, insertion, removal, union, intersection, etc can all be done. \n",
    "\n",
    "`Matrix:` A matrix of numbers is a common mathematical data structure that is extensively used in science and engineering. Through matrix data structures, multiplication, finding the determinant, invertion, and transposing can all be done. \n",
    "\n",
    "From these data structures, strings, lists, dictionaries, and sets are built-in by Python, but queues and matrices are not built-in and must be created by the programmer or imported through modules. In certain situations, it is recommended to create data structures to solve specific problems. "
   ]
  },
  {
   "cell_type": "markdown",
   "metadata": {},
   "source": [
    "<a id=\"plotting\"></a>\n",
    "\n",
    "#### **`Plotting`**\n",
    "\n",
    "Most plotting for Lists is done with `mathplotlib`. The plot command, imported from the `pylab module`, takes a minimum of a single list (the list of y-values to be plotted). If two lists are provided, the first is assumed to be a list of x-values and the second is assumed to be a list of y-values. It it **required** that the length of the two lists be the same: one x-value for each y-value and vice-verse."
   ]
  },
  {
   "cell_type": "markdown",
   "metadata": {},
   "source": [
    "<a id=\"pylabarrays\"></a>\n",
    "\n",
    "##### **`Pylab Arrays`**\n",
    "\n",
    "An important submodule of the pylab module is `numpy`, which is short for \"numeric Python.\" This module provides: a new data type (the array object), support for floating-point data types to interact with arrays, and supports functions for floating-point values interacting with arrays.\n",
    "\n",
    "The pylab module works with pylab arrays, not with lists; if a list is provided as an argument, it will be converted into an array."
   ]
  },
  {
   "cell_type": "markdown",
   "metadata": {},
   "source": [
    "`Arrays and range`\n",
    "\n",
    "An array is similar to a list: it is a mutable sequence data structure with indexing and slicing that responds to index assignment. Arrays, however, can contain only the same data type, a floating-point number by default. It's type restricted so that floating-point operations can be done more efficiently on the array:\n",
    "\n",
    "* `pylab.array([1,2,3,4]):` The array constructor can take a list object and convert it to an array. The elements of the list must consist only of numbers. The resulting array object will consist of numbers all of the same type\n",
    "   * If mixed types exist (floats and ints), then all numbers will be converted to floats. \n",
    "   * When printed, an array has the string \"array\" printed as part of the object.\n",
    "   * It is possible to append onto the end of an exisitng array, using the pylab function `append`\n",
    "\n",
    "* `pylab.arange(start, end, step):` Similar to the range function, this arange constructor generates a range of values; however, the values are floating-point values instead of integers. \n",
    "   * Takes three arguments: the begin value (float), the end value (float), and an increment (float). "
   ]
  },
  {
   "cell_type": "code",
   "execution_count": 2,
   "metadata": {},
   "outputs": [
    {
     "name": "stdout",
     "output_type": "stream",
     "text": [
      "[1 2 3 4]\n",
      "[ 1.  2.  3.  4. 50.]\n",
      "[0.  0.5 1.  1.5]\n"
     ]
    }
   ],
   "source": [
    "import pylab\n",
    "\n",
    "my_array = pylab.array([1,2,3,4]); print(my_array)\n",
    "\n",
    "print(pylab.append(my_array, 50.0))\n",
    "\n",
    "new_array = pylab.arange(0,2,.5); print(new_array)"
   ]
  },
  {
   "cell_type": "markdown",
   "metadata": {},
   "source": [
    "<a id=\"broadcastingandtrigfunctions\"></a>\n",
    "\n",
    "##### **`Broadcasting and Trigonometric Functions`**\n",
    "\n",
    "Arrays provide the ability to perform operations between two arrays using standard arithmetic operators. This means that the operators are overloaded for arrays; for example, if an array were to be multiplied by a floating-point number, then every element of the array will be multiplied by that number, yielding a new array. The same will occur of a function is applied to an array: every element of the array has the function applied, yielding a new array"
   ]
  },
  {
   "cell_type": "code",
   "execution_count": null,
   "metadata": {},
   "outputs": [],
   "source": [
    "import pylab\n",
    "\n",
    "my_array = pylab.arange(0, 6., 0.5)\n",
    "new_array = my_array * 2\n",
    "sin_array = pylab.sin(my_array)\n",
    "\n",
    "print(\"Original Array:\", my_array)\n",
    "print(\"Multiplied Array:\", new_array)\n",
    "print(\"Sin of original Array:\", sin_array)"
   ]
  },
  {
   "cell_type": "markdown",
   "metadata": {},
   "source": [
    "Pylab arrays makes it easier to create graphs, with the possibility to generate sin and cosine curves in the same graph"
   ]
  },
  {
   "cell_type": "code",
   "execution_count": 18,
   "metadata": {},
   "outputs": [
    {
     "data": {
      "image/png": "[encoded data removed]",
      "text/plain": [
       "<Figure size 640x480 with 1 Axes>"
      ]
     },
     "metadata": {},
     "output_type": "display_data"
    }
   ],
   "source": [
    "import pylab\n",
    "\n",
    "x_values = pylab.linspace(0, 4*pylab.pi, 100)\n",
    "y1_values = pylab.sin(x_values)\n",
    "y2_values = pylab.cos(x_values)\n",
    "\n",
    "pylab.title(\"Sine and Cosine Plot\")\n",
    "pylab.plot(x_values, y1_values, 'b')\n",
    "pylab.plot(x_values, y2_values, 'r')\n",
    "pylab.show()"
   ]
  },
  {
   "cell_type": "markdown",
   "metadata": {},
   "source": [
    "<a id=\"dictionaries\"></a>\n",
    "\n",
    "#### **`Dictionaries`**\n",
    "\n",
    "A **Dictionary is a collection**, not a sequence. This data structure is denoted by curly brackets `{}`, where the first element of each pair is the **key** and the second element is the **value;** each pair is separated by commas. A dictionary is designed so that a search for a key, and subsequently its associated value, is very efficient: the key maps to the value. "
   ]
  },
  {
   "cell_type": "markdown",
   "metadata": {},
   "source": [
    "All operations on dictionaries are built to work through keys. Once the key is found, the associated value is cleary indicated. In a Python dictionary, keys are arranged to make searching go quickly, not necessarily sequentially. Because the arrangement is hidden from the user, it is not possible to print a dictionary collection and count on a particular order. As new key-value pairs are added, the dictionary is modified to make key searching efficient. \n",
    "\n",
    "The order of the keys do not matter, only the associated between a key and its value matters. Namespaces are implemented as dictionaries; when Python wants the value of a variable, it refers to the namespace dictionaries using the variable name as the key and the associated object as the value. "
   ]
  },
  {
   "cell_type": "markdown",
   "metadata": {},
   "source": [
    "When designating the contents of a dictionary, the individual key-pairs are separated by a colon `:`. Values can be anything, but **keys can only be immutable objects,** like integers, strings, or tuples. "
   ]
  },
  {
   "cell_type": "code",
   "execution_count": null,
   "metadata": {},
   "outputs": [],
   "source": [
    "fruits = {1:'apple', 2:'orange', 3:'pear', 4:'grape', 5:'banana'}\n",
    "print(fruits)\n",
    "print(\"fruits[2]:\", fruits[2])\n",
    "fruits[6] = 'pineapple'\n",
    "print(fruits)"
   ]
  },
  {
   "cell_type": "markdown",
   "metadata": {},
   "source": [
    "While dictionaries can be constructed directly in curly brackets with key value pairs inside, they can also be created with the dictionary constructor `dict()` in different ways:"
   ]
  },
  {
   "cell_type": "code",
   "execution_count": 146,
   "metadata": {},
   "outputs": [
    {
     "name": "stdout",
     "output_type": "stream",
     "text": [
      "1st Method: {'x': 5, 'y': 1} \n",
      "\n",
      "2nd Method: {'x': -5, 'y': -1} \n",
      "\n",
      "3rd Method: {'z': 4, 'w': -6, 'y': 8} \n",
      "\n",
      "4th Method: {'x': 1, 'y': 2, 'z': 3}\n"
     ]
    }
   ],
   "source": [
    "numbers = dict(x=5, y=1)\n",
    "print(\"1st Method:\", numbers, \"\\n\")\n",
    "\n",
    "numbers1 = dict([('x',-5), ('y',-1)])\n",
    "print(\"2nd Method:\", numbers1, \"\\n\")\n",
    "\n",
    "numbers2 = dict([('z', 4), ('w', -6)], y =8)\n",
    "print(\"3rd Method:\", numbers2, \"\\n\")\n",
    "\n",
    "numbers3 = dict(zip(['x','y','z'], [1,2,3]))\n",
    "print(\"4th Method:\", numbers3)"
   ]
  },
  {
   "cell_type": "markdown",
   "metadata": {},
   "source": [
    "<a id=\"dictionaryindexingandassignment\"></a>\n",
    "\n",
    "##### **`Dictionary Indexing and Assignment`**\n",
    "\n",
    "Dictionaries are collections that **respond to the index operator,** but sequence numbers are not used; the **key is used as the index value** to retrieve the associative value. If a nonexistent key is used as the index value, a **KeyError** will be thrown. "
   ]
  },
  {
   "cell_type": "markdown",
   "metadata": {},
   "source": [
    "A key-value pair can be added to a dictionary via index assignment (as seen with the `fruits` example of pineapple; the key is a number, but can be any other immutable object). If the key does not yet exist, it is created and then associated with the value. If the key already exists, the new value is associated with the key"
   ]
  },
  {
   "cell_type": "markdown",
   "metadata": {},
   "source": [
    "`Dictionary Mutability`\n",
    "\n",
    "Because index assignment can be done on a dictionary, a dictionary is a **mutable data structure.** Dictionaries also have methods to change the dictionary in place, but there are potential consequences to passing a mutable object to functions. If a dictionary is modified in a function, it is modified in the calling program. "
   ]
  },
  {
   "cell_type": "markdown",
   "metadata": {},
   "source": [
    "`Dictionaries with Different Key Types`\n",
    "\n",
    "Dictionaries combine its indexing speed and the ability to make any value be any data structure, even another dictionary. Different types of keys can be used in the same dictionary as long as they are immutable types: integers, tuples, and strings. "
   ]
  },
  {
   "cell_type": "code",
   "execution_count": 3,
   "metadata": {},
   "outputs": [
    {
     "name": "stdout",
     "output_type": "stream",
     "text": [
      "demo = {2: ['a', 'b', 'c'], (2, 4): 27, 'x': {1: 2.5, 'a': 3}} \n",
      "\n",
      "demo[2]: ['a', 'b', 'c'] \n",
      "\n",
      "demo[(2,4)]: 27 \n",
      "\n",
      "demo['x']: {1: 2.5, 'a': 3} \n",
      "\n",
      "demo['x'][1]: 2.5\n"
     ]
    }
   ],
   "source": [
    "demo = {2:['a','b','c'], (2,4):27, 'x':{1:2.5, 'a':3}}\n",
    "print(\"demo =\", demo, \"\\n\")\n",
    "print(\"demo[2]:\", demo[2], \"\\n\") # prints values at key 2; int\n",
    "print(\"demo[(2,4)]:\", demo[(2,4)], \"\\n\") # prints values at key (2,4); tuple\n",
    "print(\"demo['x']:\", demo['x'], \"\\n\") # prints values at key 'x'; dict\n",
    "print(\"demo['x'][1]:\", demo['x'][1]) # prints key 1 in dict 'x'"
   ]
  },
  {
   "cell_type": "markdown",
   "metadata": {},
   "source": [
    "The expression demo['x'] yields a dictionary as a value, and that yielded dictionary is further referenced by the index [1], yielding the value 2.5.\n",
    "\n",
    "It is recommended to initialize a dictionary to be empty. A pair of curly brackets can create an empty dictionary; similarly, an empty dictionary can be created using the `dict()` constructor with no arguments."
   ]
  },
  {
   "cell_type": "markdown",
   "metadata": {},
   "source": [
    "<a id=\"dictionaryoperators\"></a>\n",
    "\n",
    "##### **`Dictionary Operators`**\n",
    "\n",
    "It is important to remember that dictionaries are optimized for operations on keys and that dictionaries are mutable.\n",
    "\n",
    "`[]`: Indexing using the key as the index value.\n",
    "\n",
    "`len()`: Measures the number of key-value pairs, or the number of key-value pairs.\n",
    "\n",
    "`in`: Boolean test of membership, asks if the key in the dictionary, not values\n",
    "\n",
    "`for`: Iteration through keys in the dictionary\n",
    "\n",
    "Other functions can also be used as operations on keys (min, max, sum)"
   ]
  },
  {
   "cell_type": "markdown",
   "metadata": {},
   "source": [
    "```python\n",
    "my_dict = {'a':2, 3:['x','y'], 'joe':'smith'}\n",
    "\n",
    "my_dict\n",
    "→ {'a': 2, 3: ['x','y'], 'joe': 'smith'}\n",
    "\n",
    "my_dict['a']\n",
    "→ 2\n",
    "\n",
    "len(my_dict)\n",
    "→ 3\n",
    "\n",
    "'a' in my_dict # checks if key 'a' exists in my_dict\n",
    "→ True\n",
    "\n",
    "2 in my_dict # checks if key 2 exists in my_dict\n",
    "→ False\n",
    "\n",
    "for key in my_dict:\n",
    "   print(key)\n",
    "→ a\n",
    "→ 3 \n",
    "→ joe\n",
    "\n",
    "for key in my_dict:\n",
    "   print(key, my_dict[key]) # includes value from indexing\n",
    "→ a 2\n",
    "→ 3 ['x', 'y']\n",
    "→ joe smith \n",
    "```"
   ]
  },
  {
   "cell_type": "markdown",
   "metadata": {},
   "source": [
    "<a id=\"dictionarymethods\"></a>\n",
    "\n",
    "##### **`Important Dictionary Methods and Iteration`**\n",
    "\n",
    "It is possible to iterate through other dictionary elements\n",
    "\n",
    "`.items()`: All the key-value pairs as a list of tuples\n",
    "\n",
    "`.keys()`: All the keys as a list\n",
    "\n",
    "`.values()`: All the values as a list "
   ]
  },
  {
   "cell_type": "markdown",
   "metadata": {},
   "source": [
    "```python\n",
    "my_dict = {'a':2, 3:['x','y'], 'joe':'smith'}\n",
    "\n",
    "for key, val in my_dict.items():\n",
    "   print(\"Key: {:7}, Value:{}\".format(key,val))\n",
    "→ Key: a      , Value:2\n",
    "→ Key:       3, Value:['x', 'y']\n",
    "→ Key: joe    , Value:smith\n",
    "\n",
    "for key in my_dict.keys():\n",
    "   print(key)\n",
    "→ a\n",
    "→ 3\n",
    "→ joe\n",
    "\n",
    "dict_value_view = my_dict.values()\n",
    "dict_value_view\n",
    "→ dict_values([2, 'smith', ['x', 'y']])\n",
    "\n",
    "for val in dict_value_view:\n",
    "   print(val)\n",
    "→ 2 \n",
    "→ smith\n",
    "→ ['x', 'y']\n",
    "\n",
    "\n",
    "my_dict['new_key'] = 'new_value'\n",
    "dict_key_view = my_dict.keys()\n",
    "\n",
    "dict_value_view\n",
    "→ dict_values([2, 'smith', ['x', 'y'], 'new_value'])\n",
    "\n",
    "dict_key_view\n",
    "→ dict_keys(['a', 'joe', 3, 'new_key'])\n",
    "```"
   ]
  },
  {
   "cell_type": "markdown",
   "metadata": {},
   "source": [
    "Using these methods allow iteration through the dictionary, yielding only keys or only values. \n",
    "\n",
    "Because the `.items()` iterator generates tuples, two values can be assigned for every iteration of the for loop. The first element is always the key and the second element is always the value (very similar to the enumerate function)\n",
    "\n",
    "When viewing the keys or values of a dictionary, they are returned as the `dict_values` type when using the `.values()` method and returned as the `dict_keys` type when using the `.keys()` method: these are known as **view objects**\n",
    "\n",
    "* View objects are iterable and can be used in a **for loop**\n",
    "\n",
    "* Though the order of keys and values in a dictionary cannot be determined, view of keys and values will correspond. Whatever the order of the key view is, the value will have the same order.\n",
    "   * Essentially, the elements of the key view and the value view match as found in the dictionary\n",
    "\n",
    "* View objects are dynamic. Once assigned, the dictionary is updated in some way the view object reflects that update"
   ]
  },
  {
   "cell_type": "markdown",
   "metadata": {},
   "source": [
    "<a id=\"dictionarycopy\"></a>\n",
    "\n",
    "##### **`Dictionary Copy Method (Shallow Copy)`**\n",
    "\n",
    "Dictionaries can also use the `copy` method. In this case, the copy method makes a **shallow copy** of the dictionary values. This means that keys are copied properly (must be immutable), but if the values are mutable, there may be problems:"
   ]
  },
  {
   "cell_type": "markdown",
   "metadata": {},
   "source": [
    "```python\n",
    "my_dict = {'a':2, 3:['x', 'y'], 'joe':'smith'}\n",
    "\n",
    "new_dict = my_dict.copy() # shallow copy \n",
    "new_dict['a'] = 'new_value'\n",
    "\n",
    "my_dict\n",
    "→ {'a':2, 3:['x', 'y'], 'joe':'smith'} # unchanged\n",
    "\n",
    "new_dict\n",
    "→ {'a':'new_value', 3:['x', 'y'], 'joe':'smith'} # updated immutable\n",
    "\n",
    "a_value = new_dict[3]\n",
    "a_value\n",
    "→ ['x', 'y']\n",
    "\n",
    "a_value[0] = 'new'\n",
    "new_dict\n",
    "→ {'a':'new_value', 3:['new', 'y'], 'joe':'smith'}\n",
    "\n",
    "my_dict\n",
    "→ {'a':2, 3:['new', 'y'], 'joe':'smith'}\n",
    "```\n",
    "\n",
    "When a copy of my_dict is created and assigned to my_dict (new_dict), copies of all the references are made: **Shallow Copy.** If index assignment is made to the list value in new_dict, the change is also shown in my_dict"
   ]
  },
  {
   "cell_type": "markdown",
   "metadata": {},
   "source": [
    "Through a dictionary, it is possible to count the frequency of word occurrence in a list of words, where the data is represented using a dictionary; the words as keys and the frequency of occurrence as values:\n",
    "* If a word doesn't exist in the dictionary, it can be added \n",
    "   * This uses the `in` method to check for the existence of the word in the dictionary. This methos is a check of keys, so it checks to see if the word is already in the dictionary; if so, then one is added to the frequency. If not, then the word is assigned as a key to the dictionary with a frequency of one. \n",
    "* **1** can be added to the frequency of an existing word already in the dictionary\n",
    "\n",
    "```python\n",
    "count_dict = {}\n",
    "for word in word_list:\n",
    "   if word in count_dict:\n",
    "      count_dict[word] += 1\n",
    "   else:\n",
    "      count_dict[word] = 1\n",
    "```"
   ]
  },
  {
   "cell_type": "markdown",
   "metadata": {},
   "source": [
    "Instead of membershup checking, exceptions can be used. In this case, the try suite assumes that the key exists in the dictionary (the word is already a key) and tries to add one to its frequency value. If the word is not a key, the KeyError exception is raised. The KeyError exception suite then adds the key to the dictionary with a frequency value of 1:\n",
    "\n",
    "```python\n",
    "count_dict = {}\n",
    "for word in word_list:\n",
    "   try:\n",
    "      count_dict[word] += 1\n",
    "   except KeyError:\n",
    "      count_dict[word] = 1\n",
    "```"
   ]
  },
  {
   "cell_type": "markdown",
   "metadata": {},
   "source": [
    "Considering efficency, between the previous two examples, there is no considerable difference unless the dictionaries got very large. If the dictionaries were very large, the membership test `in` would likely be faster. \n",
    "\n",
    "Besides these two options, there is another option that uses a dictionary and produces the same result. While this approach is the simplest, it is the least readable. This option uses the `.get()` method, which takes two arguments: a key and a default value.\n",
    "* Provides normal dictionary operations when the key exists (return the associated value)\n",
    "* If the key doesn't exist, it returns the default as the value for that key (no error)\n",
    "\n",
    "```python\n",
    "count_dict = {}\n",
    "for word in word_list:\n",
    "   count_dict[word] = count_dict.get(word,0) + 1\n",
    "```"
   ]
  },
  {
   "cell_type": "markdown",
   "metadata": {},
   "source": [
    "<a id=\"usingzip\"></a>\n",
    "\n",
    "##### **`Using ZIP to Create Dictionaries`**\n",
    "\n",
    "The `zip` operator creates pairs from two parallel sequences; it merges multiple sequences into a list of tuples. While this operator is not special to dictionaries, when combined with the `dict()` constructor, it provides a useful way to create dictionaries from sequences"
   ]
  },
  {
   "cell_type": "markdown",
   "metadata": {},
   "source": [
    "This function also provides a way to reverse key-value pairs, but it is only possible if values are immutable so that they are allowable as keys:"
   ]
  },
  {
   "cell_type": "code",
   "execution_count": 147,
   "metadata": {},
   "outputs": [
    {
     "name": "stdout",
     "output_type": "stream",
     "text": [
      "Normal Construction: {'red': 100, 'white': 300, 'blue': 500} \n",
      "\n",
      "Reverse Construction: {100: 'red', 300: 'white', 500: 'blue'}\n"
     ]
    }
   ],
   "source": [
    "keys = [\"red\", \"white\", \"blue\"]\n",
    "values = [100, 300, 500]\n",
    "\n",
    "d = dict(zip(keys, values))\n",
    "print(\"Normal Construction:\", d, \"\\n\")\n",
    "\n",
    "\n",
    "d2 = dict(zip(d.values(), d.keys()))\n",
    "print(\"Reverse Construction:\", d2)"
   ]
  },
  {
   "cell_type": "markdown",
   "metadata": {},
   "source": [
    "<a id=\"sets\"></a>\n",
    "\n",
    "#### **`Sets`**\n",
    "\n",
    "A **set** is a collection of objects, regardless of the objects' types: these are the elements (members) of the set. Only one copy of an element can exist in the set (no duplication). There is no order to the elements in the set, so it is **NOT** a sequence, but it is an iterable. A set with no elements is an **empty set (null set).** While sets are a **mutable** data structure, index assignment is not possible, but there are various methods to change the elements of a set"
   ]
  },
  {
   "cell_type": "markdown",
   "metadata": {},
   "source": [
    "A set is created by calling the `set()` constructor or by using curly brackets `{}` with elements inside, separated by commas. While the brackets are the same as a dictionary, sets do **NOT** contain colons that separate the key from the value, but have a list of comma separated elements. \n",
    "\n",
    "Because empty curly brackets create an empty dictionary, the `set()` constructor must be specified to create an empty set. The set constructor requires an iterable argument, like `set('abcd')`, which would create a set with each elemet of the iterable as a member: `'a', 'c', 'b', 'd'`. There is no order to the elements of a set, so the order can change as elements are added. \n",
    "\n",
    "It is important to remember that a set can contain a mixture of types, but duplicates will be ignored:\n",
    "\n",
    "```python\n",
    "null_set = set() # empty set\n",
    "null_set\n",
    "→ set()\n",
    "\n",
    "a_set = {1,2,3,4}\n",
    "a_set\n",
    "→ {1,2,3,4}\n",
    "\n",
    "b_set = {1,1,2,2,2} # duplicates are ignored\n",
    "b_set\n",
    "→ {1,2}\n",
    "\n",
    "c_set = {'a', 1, 2.5, (5,6)} # different types in a set\n",
    "c_set\n",
    "→ {(5,6), 1, 2.5, 'a'}\n",
    "\n",
    "a_set = set(\"abcd\") # order not maintained\n",
    "a_set\n",
    "→ {'a', 'c', 'b', 'd'}\n",
    "```"
   ]
  },
  {
   "cell_type": "markdown",
   "metadata": {},
   "source": [
    "<a id=\"setmethoperandfunctions\"></a>\n",
    "\n",
    "##### **`Set Methods, Operators, and Functions`**\n",
    "\n",
    "`len()`: In sets, it is possible to determine the number of elements, like all other collection data types.\n",
    "\n",
    "`in`: Ass whether an element is in the set. The **in** operator tests membership and returns a Boolean True or False, depending on whether the element is or is not a member of the set.\n",
    "\n",
    "`for`: Like all collections, it is possible to iterate through the elements of a set using the **for** statement. The order of the iteration through the objects is now known because sets gave no order"
   ]
  },
  {
   "cell_type": "markdown",
   "metadata": {},
   "source": [
    "`.add(element)`: Adds the element to the set. There is no effect if the element is already in the set. It modifies the set, so there is **no return value**\n",
    "\n",
    "`.clear()`: Removes all the elements of the set (making it empty)\n",
    "\n",
    "`.remove(element)` and `.discard(element)`: Both methods remove the elements if it exists. The **.remove()** method will cause an error if the element being removed is not part of the set. The **.discard()** method will not give an error even if the argument being removed does not exist in the set; there is no value returned\n",
    "\n",
    "`.copy()`: Returns a **Copy Shallow** of the set."
   ]
  },
  {
   "cell_type": "code",
   "execution_count": 148,
   "metadata": {},
   "outputs": [
    {
     "name": "stdout",
     "output_type": "stream",
     "text": [
      "{'a', 'b', 2, 3, 1, 'c'}\n",
      "len(my_set): 6\n",
      "'a' in my_set: True\n",
      "'z' in my_set: False\n",
      "a b 2 3 1 c "
     ]
    }
   ],
   "source": [
    "my_set = {'a','c','b', 1, 3, 2}; print(my_set)\n",
    "\n",
    "print(\"len(my_set):\", len(my_set))\n",
    "print(\"'a' in my_set:\", 'a' in my_set)\n",
    "print(\"'z' in my_set:\", 'z' in my_set)\n",
    "\n",
    "for element in my_set:\n",
    "   print(element, end=' ')"
   ]
  },
  {
   "cell_type": "markdown",
   "metadata": {},
   "source": [
    "<a id=\"moresetmethods\"></a>\n",
    "\n",
    "##### **`More Set Methods`**\n",
    "\n",
    "There are two ways to call typical mathematical set operations: using a method or using a binary operator. The results of either approach are the same, though there is some difference in the way they are used:"
   ]
  },
  {
   "cell_type": "markdown",
   "metadata": {},
   "source": [
    "The binary operators for set operations are `&`, `|`, `-`, `^`, `<=`, and `>=`. Each binary operator takes two sets with an intervening operator; for example, a_set & b_set. \n",
    "\n",
    "The methods available are `.intersection()`, `.union()`, `.difference()`, and `.symmetric_difference()`, `.issubset()`, and `.issuperset()`. For these methods, a set calls the method with another collection as the argument. \n",
    "\n",
    "One difference between the binary operators and methods are that the methods approach allows the argument to be any iterable collection. The binary operators require both arguments to be sets. \n",
    "\n",
    "The binary operators and methods accomplish the same thing, respective to the specific binary operator and method, but the methods approach is mostly used because of the clarity of the names."
   ]
  },
  {
   "cell_type": "markdown",
   "metadata": {},
   "source": [
    "`Intersection`\n",
    "\n",
    "Intersection is done using the binary `&` operator or the `.intersection()` method. This operation **creates a new set of the elements that are common to both sets.** Again, the order of the sets does not matter.\n",
    "\n",
    "```python\n",
    "a_set = {'a','b','c','d'}\n",
    "b_set = {'c','d','e','f'}\n",
    "\n",
    "a_set & b_set # same as b_set & a_set\n",
    "→ {'c', 'd'}\n",
    "\n",
    "a_set.intersection(b_set) # same as & binary operator\n",
    "→ {'c','d'}\n",
    "\n",
    "a_set.intersection('cdef') # string iterable can be used as an arg\n",
    "→ {'c','d'}\n",
    "```"
   ]
  },
  {
   "cell_type": "markdown",
   "metadata": {},
   "source": [
    "`Union`\n",
    "\n",
    "Union is done using the binary `|` operator or the `.union()` method. This operation **creates a new set that contains all the elements in both sets.** Again, the order of the sets does not matter.\n",
    "\n",
    "```python\n",
    "a_set = {'a','b','c','d'}\n",
    "b_set = {'c','d','e','f'}\n",
    "\n",
    "a_set | b_set # same as b_set | a_set\n",
    "→ {'a','b','c','d','e','f'}\n",
    "\n",
    "a_set.union(b_set) # same as | binary operator\n",
    "→ {'a','b','c','d','e','f'}\n",
    "\n",
    "a_set.union(['c','d','e','f']) # string iterable can be used as an arg\n",
    "→ {'a','b','c','d','e','f'}\n",
    "```"
   ]
  },
  {
   "cell_type": "markdown",
   "metadata": {},
   "source": [
    "`Difference`\n",
    "\n",
    "Difference is done using the binary `-` operator or the `.difference()` method. This operation **creates a new set whose elements are in the first set and not in the second set.** Unlike the other set operators, the difference operator is not commutative (a_set - b_set is NOT the same as b_set - a_set)\n",
    "\n",
    "```python\n",
    "a_set = {'a','b','c','d'}\n",
    "b_set = {'c','d','e','f'}\n",
    "\n",
    "a_set - b_set\n",
    "→ {'a','b'}\n",
    "\n",
    "b_set - a_set \n",
    "→ {'e','f'}\n",
    "\n",
    "a_set.difference(b_set)\n",
    "→ {'a','b'}\n",
    "\n",
    "b_set.difference(a_set)\n",
    "→  {'e','f'}\n",
    "\n",
    "a_set.difference('cdef')\n",
    "→ {'a','b'}\n",
    "```"
   ]
  },
  {
   "cell_type": "markdown",
   "metadata": {},
   "source": [
    "`Symmetric Difference`\n",
    "\n",
    "Symmetric Difference is done using the binary `^` or the `.symmetric_differce()` method. This operation is the opposite of intersection: it **creates a new set of values that are different, not in either of the two sets.** The order of the sets does not matter.\n",
    "\n",
    "```python\n",
    "a_set = {'a','b','c','d'}\n",
    "b_set = {'c','d','e','f'}\n",
    "\n",
    "a_set ^ b_set\n",
    "→ {'a','b','e','f'} # commutative, so b_set ^ a_set is the same \n",
    "\n",
    "a_set.symmetric_difference(b_set)\n",
    "→ {'a','b','e','f'}\n",
    "\n",
    "a_set.symmetric_difference('cdef')\n",
    "→ {'a','b','e','f'}\n",
    "```"
   ]
  },
  {
   "cell_type": "markdown",
   "metadata": {},
   "source": [
    "`Subset and Superset`\n",
    "\n",
    "A subset is a set that is a **subset of another set only if every element of the first set is an element of the second set.** `<=` or `.issubset()`\n",
    "\n",
    "A superset **is the opposite: set A is a superset of set B only if set B is a subset of set A.** `>=` or `.issuperset`\n",
    "\n",
    "In both of these operations, the order of set operation matters, so it is not commutative. A **set is both a subset and a superset of itself.** \n",
    "\n",
    "```python\n",
    "{'a','b','c'} is a subset of {'a','b','c','d','e','f'}\n",
    "```"
   ]
  },
  {
   "cell_type": "markdown",
   "metadata": {},
   "source": [
    "```python\n",
    "small_set = {'a','b','c'}\n",
    "big_set = set('abcdef')\n",
    "\n",
    "small_set <= big_set #small_set a subset of big_set\n",
    "→ True\n",
    "\n",
    "big_set >= small_set # superset \n",
    "→ True\n",
    "\n",
    "big_set <= big_set # each set is a subset of itself\n",
    "→ True \n",
    "\n",
    "small_set >= small_set # each set is a superset of itself\n",
    "→ True\n",
    "\n",
    "small_set >= big_set\n",
    "→ False\n",
    "\n",
    "small_set.issubset('abcdef') # string iterable as arg\n",
    "→ True\n",
    "\n",
    "small_set.issuperset('abcdef')\n",
    "→ False\n",
    "```"
   ]
  },
  {
   "cell_type": "markdown",
   "metadata": {},
   "source": [
    "<a id=\"setapplications\"></a>\n",
    "\n",
    "##### **`Set Applications`**\n",
    "\n",
    "The first main application that is used by sets is to **find the unique elements (of a list, file, etc)**. This is done by adding each element ot the set and letting the set deal with multiple copies. The second main application used by sets is to **find various combinations of elements using the set operators.**"
   ]
  },
  {
   "cell_type": "markdown",
   "metadata": {},
   "source": [
    "<a id=\"dictandsetcomprehensions\"></a>\n",
    "\n",
    "#### **`Dictionary and Set Comprehensions`**\n",
    "\n",
    "Dictionaries and sets can be used in comprehensions:\n",
    "```python\n",
    "{expression for-clause condition}\n",
    "```\n",
    "These comprehensions both use curly brackets `{}`but dictionaries are differentiated by the colon used to separate the elements of the expression part of the comprehension. A dictionary comprehension returns a dictionary:"
   ]
  },
  {
   "cell_type": "markdown",
   "metadata": {},
   "source": [
    "```python\n",
    "a_dict = {k:v for k,v in enumerate(\"abcdefg\")} # key-vaue pair comprehension\n",
    "a_dict\n",
    "→ {0:'a', 1:'b', 2:'c', 3:'d', 4:'e', 5:'f', 6:'g'}\n",
    "\n",
    "b_dict = {v:k for k,v in a_dict.items()} # reverse key-value pair comprehension\n",
    "b_dict\n",
    "→ {'a':0, 'c':2, 'b':1, 'e':4, 'd':3, 'g':6, 'f':5}\n",
    "\n",
    "sorted(b_dict)\n",
    "→ ['a', 'b', 'c', 'd', 'e', 'f', 'g']\n",
    "\n",
    "b_list = [(v,k) for v,k in b_dict.items()] # create list\n",
    "sorted(b_list) # sort keys\n",
    "→ [('a', 0), ('b', 1), ('c', 2), ('d', 3), ('e', 4), ('f', 5), ('g', 6)]\n",
    "```"
   ]
  },
  {
   "cell_type": "markdown",
   "metadata": {},
   "source": [
    "The set comprehension returns a set with unique values, and do not have colons in the expression portion in the comprehension:\n",
    "\n",
    "```python\n",
    "a_set = {ch for ch in 'to be or not to be'}\n",
    "a_set\n",
    "→ {' ', 'b', 'e', 'o', 'n', 'r', 't'}\n",
    "\n",
    "sorted(a_set)\n",
    "→ [' ', 'b', 'e', 'n', 'o', 'r', 't']\n",
    "```"
   ]
  },
  {
   "cell_type": "markdown",
   "metadata": {},
   "source": [
    "<a id=\"stacks\"></a>\n",
    "\n",
    "#### **`Stacks`**\n",
    "\n",
    "This is a sequential collection, with the principle of **Last-In-First-Out (LiFo).** This has to be defined by the progammer, but the principle operations include:\n",
    "\n",
    "**1. `push()`:** Add to the top\n",
    "\n",
    "**2. `pop()`:** Remove from the top\n",
    "\n",
    "**3. `peek()`:** Examine top"
   ]
  },
  {
   "cell_type": "code",
   "execution_count": null,
   "metadata": {},
   "outputs": [],
   "source": [
    "stack = [] # empty list\n",
    "\n",
    "def push(element):\n",
    "   stack.append(element)\n",
    "\n",
    "def peek():\n",
    "   if len(stack) > 0:\n",
    "      return stack[-1]\n",
    "   else:\n",
    "      return None\n",
    "   \n",
    "def pop():\n",
    "   if len(stack) > 0:\n",
    "      return stack.pop(-1)\n",
    "   else:\n",
    "      return None\n",
    "   \n",
    "push(1); push(2); push(3); print(stack)\n",
    "\n",
    "for i in range(len(stack)):\n",
    "   print(pop(), end= ' ')"
   ]
  },
  {
   "cell_type": "markdown",
   "metadata": {},
   "source": [
    "`Stack with Python Collections`\n",
    "\n",
    "The deque submodule can be used from the collections module. This can be used instead of the `push()` and `pop()` methods for better efficiency"
   ]
  },
  {
   "cell_type": "code",
   "execution_count": null,
   "metadata": {},
   "outputs": [],
   "source": [
    "from collections import deque\n",
    "\n",
    "stack = deque()\n",
    "stack.append (1) # implements a push\n",
    "stack.append (2); stack.append (3); print(stack)\n",
    "\n",
    "for i in range(len(stack)):\n",
    "   print(stack.pop(), end=' ')"
   ]
  },
  {
   "cell_type": "markdown",
   "metadata": {},
   "source": [
    "Similarly, the LiFoQueue object can be used. The `put()` method implements the `push()` method, and the `get()` method implements the `pop()` method."
   ]
  },
  {
   "cell_type": "code",
   "execution_count": 13,
   "metadata": {},
   "outputs": [
    {
     "name": "stdout",
     "output_type": "stream",
     "text": [
      "3 2 1 "
     ]
    }
   ],
   "source": [
    "from queue import LifoQueue\n",
    "\n",
    "stack = LifoQueue(maxsize=10)\n",
    "\n",
    "stack.put(1); stack.put(2); stack.put(3)\n",
    "\n",
    "for i in range(stack.qsize()):\n",
    "   print(stack.get(), end=' ')"
   ]
  },
  {
   "cell_type": "markdown",
   "metadata": {},
   "source": [
    "<a id=\"queues\"></a>\n",
    "\n",
    "#### **`Queues`**\n",
    "\n",
    "This is a sequential collection, with the **Last-In-Last-Out (LiLo) principle.** This has to be defined by the programmer, but the principle operations include:\n",
    "\n",
    "**1. Enqueue:** Add to the back of the queue\n",
    "\n",
    "**2.Dequeue:** Remove from front"
   ]
  },
  {
   "cell_type": "code",
   "execution_count": 24,
   "metadata": {},
   "outputs": [
    {
     "name": "stdout",
     "output_type": "stream",
     "text": [
      "[2, 1]\n",
      "1 2 "
     ]
    }
   ],
   "source": [
    "queue = []\n",
    "\n",
    "def enqueue(element):\n",
    "   global queue\n",
    "   return queue.insert(0, element)\n",
    "\n",
    "def dequeue():\n",
    "   global queue\n",
    "   if len(queue) > 0:\n",
    "      return queue.pop(-1)\n",
    "   else:\n",
    "      return None\n",
    "   \n",
    "enqueue(1); enqueue(2); print(queue)\n",
    "\n",
    "for i in range(len(queue)):\n",
    "   print(dequeue(), end=' ')"
   ]
  },
  {
   "cell_type": "markdown",
   "metadata": {},
   "source": [
    "The deque submodule can also be imported from the collections module. Through this library, the `append()` method implements the `enqueue()` function, and the `popleft` method implements the `dequeue()` function."
   ]
  },
  {
   "cell_type": "code",
   "execution_count": 27,
   "metadata": {},
   "outputs": [
    {
     "name": "stdout",
     "output_type": "stream",
     "text": [
      "deque([1, 2, 3])\n",
      "1 2 3 "
     ]
    }
   ],
   "source": [
    "from collections import deque\n",
    "\n",
    "queue = deque()\n",
    "\n",
    "queue.append(1); queue.append(2); queue.append(3); print(queue)\n",
    "\n",
    "for i in range(len(queue)):\n",
    "   print(queue.popleft(), end=' ')"
   ]
  },
  {
   "cell_type": "markdown",
   "metadata": {},
   "source": [
    "<a id=\"singlylinkedlist\"></a>\n",
    "\n",
    "#### **`Singly Linked List`**\n",
    "\n",
    "A singly linked list is a data structure that consists of a sequence of elements (nodes), where each node contains two parts:\n",
    "\n",
    "**1. Data:** The actual value stored in the node\n",
    "\n",
    "**2. Reference (Pointer):** A reference to the next node in the list\n",
    "\n",
    "Essentially, this is a linear collection of nodes"
   ]
  },
  {
   "cell_type": "markdown",
   "metadata": {},
   "source": [
    "In a singly linked list, each node points only to the next node in the sequence, forming a chain. The first node is called the **head,** and the last node's reference points to **None,** indicating the end of the list. \n",
    "\n",
    "Singly linked lists allow for efficient insertion and deletion, but do not offer random access"
   ]
  },
  {
   "cell_type": "markdown",
   "metadata": {},
   "source": [
    "```python\n",
    "DATA = 0; NEXT_PTR = 1\n",
    "\n",
    "data_list = ['A','B','C']\n",
    "head = None; tail = None\n",
    "\n",
    "for e in data_list:\n",
    "   new_node = [e, None]\n",
    "   if head is None:\n",
    "      head = new_node; tail = new_node\n",
    "   else:\n",
    "      tail[NEXT_PTR] = new_node;\n",
    "      tail = new_node\n",
    "\n",
    "next_node = head\n",
    "while next_node is not None:\n",
    "   print(next_node[DATA], end=' ')\n",
    "   next_node = next_node[NEXT_PTR]\n",
    "→ A B C\n",
    "\n",
    "# Insert at List End\n",
    "new_node = ['D', None]\n",
    "tail = head\n",
    "while tail[NEXT_PTR] is not None:\n",
    "   tail = tail[NEXT_PTR]\n",
    "→ A B C D\n",
    "\n",
    "# Insert at Head\n",
    "new_node = ['D', None]\n",
    "new_node[NEXT_PTR] = head\n",
    "head = new_node\n",
    "→ D A B C\n",
    "\n",
    "# Remove at Head\n",
    "if head is not None:\n",
    "   head = head[NEXT_PTR]\n",
    "→ B C\n",
    "\n",
    "# Reverse Linked List\n",
    "current = head; prev = None\n",
    "while current is not None:\n",
    "   node = current[NEXT_PTR]\n",
    "   current[NEXT_PTR] = prev\n",
    "   prev = current\n",
    "   current = node\n",
    "head = prev\n",
    "→ C B A\n",
    "\n",
    "# Reverse via Recursion\n",
    "def rev_list(current_node, tail=None):\n",
    "   next_node = current_node[NEXT_PTR]\n",
    "   current_node[NEXT_PTR] = tail\n",
    "   if next_node is None:\n",
    "      return current_node\n",
    "   else:\n",
    "      return rev_list(next_node, current_node)\n",
    "reverse_head = rev_list(head)\n",
    "→ C B A\n",
    "```"
   ]
  },
  {
   "cell_type": "markdown",
   "metadata": {},
   "source": [
    "<a id=\"doublylinkedlist\"></a>\n",
    "\n",
    "#### **`Doubly Linked List`**\n",
    "\n",
    "A doubly linked list is a data structure similar to a singly linked list, but **each node contains two references,** one to the next node and one to the previous node. This allows traversal of the list in both directions, from head to tail or from tail to head. \n",
    "\n",
    "**1. Data:** The value stored in the node\n",
    "\n",
    "**2. Next:** A pointer to the next node\n",
    "\n",
    "**3. Prev:** A pointer set to the previous\n",
    "\n",
    "The first node is called the **head,** and it has a **prev** pointer set to None, while the last node is called the **trail** and it has a **next** pointer set to None"
   ]
  },
  {
   "cell_type": "markdown",
   "metadata": {},
   "source": [
    "Doubly linked lists also offer efficient insertion and deletion, but do not provide random access"
   ]
  },
  {
   "cell_type": "markdown",
   "metadata": {},
   "source": [
    "`Constructing Doubly Linked List`\n",
    "\n",
    "```python\n",
    "def construct_double_list(data_list):\n",
    "   head = None\n",
    "   tail = None\n",
    "   for e in data_list:\n",
    "      new_node = [e, None, None]\n",
    "      if head is None:\n",
    "         head = new_node\n",
    "         tail = new_node\n",
    "      else:\n",
    "         tail[NEXT_PTR] = new_node;\n",
    "         new_node[PREV_PTR] = tail\n",
    "         tail = new node\n",
    "   return head, tail \n",
    "\n",
    "data_items = ['A', 'B']\n",
    "head, tail = construct_double_list(data_items)\n",
    "\n",
    "→ head, tail = contruct_double_list(['A', 'B'])\n",
    "```\n",
    "\n",
    "`List Traversal`\n",
    "\n",
    "```python\n",
    "def forward_traverse(head):\n",
    "   print(\"\\n forward traversal: \", end=' ')\n",
    "   next_node = head\n",
    "      while next_node is not None:\n",
    "         print(next_node[DATA], end=' ')\n",
    "            next_node = next_node[NEXT_PTR]\n",
    "      return\n",
    "\n",
    "def reverse_traverse(tail):\n",
    "   print(\"\\n reverse traversal: \", end=' ')\n",
    "   next_node = tail\n",
    "      while next_node is not None:\n",
    "         print(next_node[DATA], end=' ')\n",
    "            next_node = next_node[PREV_PTR]\n",
    "      return\n",
    "```\n",
    "\n",
    "`Example`\n",
    "\n",
    "```python\n",
    "head, tail = construct_double_list(['A','B','C'])  \n",
    "forward_traverse(head)\n",
    "reverse_traverse(tail)\n",
    "```\n",
    "\n",
    "`Finding an Element`\n",
    "\n",
    "```python\n",
    "def find_node(head, target):\n",
    "   node = head\n",
    "   while node is not None:\n",
    "      if node[DATA] == target:\n",
    "         return node\n",
    "      else:\n",
    "         node = node[NEXT_PTR]\n",
    "   return node\n",
    "\n",
    "head, tail = construct_double_list(['A', 'B'])\n",
    "node = find_node(head, 'B')\n",
    "```"
   ]
  },
  {
   "cell_type": "markdown",
   "metadata": {},
   "source": [
    "***\n",
    "<a id=\"functionsindetail\"></a>\n",
    "\n",
    "## **Functions in Detail**\n",
    "\n",
    "This section goes into detail about **Exceptions, Functions, Parameter Passing, Generators, Recursive Functions, and Functional Programming**"
   ]
  },
  {
   "cell_type": "markdown",
   "metadata": {},
   "source": [
    "<a id=\"handlingerrors\"></a>\n",
    "\n",
    "#### **`Handling Errors`**\n",
    "\n",
    "There are two main error types:\n",
    "\n",
    "**1. Synatax Errors:** Those where the code is malformed by the programmer. The code does not follow the rules of Python, and must be rewritten to follow the rules. \n",
    "\n",
    "**2. Runtime Errors:** Those where there is an error of application and not syntax. For example, dividing by zero, accessing a character past the end of a string, infinite while loop. \n",
    "\n",
    "The **Exception** system is one of the best way to deal with errors (more later)"
   ]
  },
  {
   "cell_type": "markdown",
   "metadata": {},
   "source": [
    "<a id=\"try-exceptconstruct\"></a>\n",
    "\n",
    "#### **`The try-except Construct`**\n",
    "\n",
    "The **try-except** construct allows a programmer to capture a runtime error and give the programmer the option to handle that error. This construct contains the **try** suite and some number of **except** suites:"
   ]
  },
  {
   "cell_type": "markdown",
   "metadata": {},
   "source": [
    "1. The **try** suite contains code that programmers want to \"watch over\" for possible runtime errors. \n",
    "\n",
    "2. Each **except** clause has associated with a particular Python error name, and a suite of code that will run if that particular error occurs.\n",
    "\n",
    "```python\n",
    "try:\n",
    "   # suite of code to watch here\n",
    "except ParticularErrorName:\n",
    "   # suite of code to handle the named error, if it occurs\n",
    "```\n",
    "\n",
    "A try suite is usually used where the user provides input to a program. This is because errors might occur if the user provides incorrect input, and the programmer should watch the code to ensure that the user provides a valid input, guiding the user to correct their input if possible."
   ]
  },
  {
   "cell_type": "markdown",
   "metadata": {},
   "source": [
    "Flow of control in detail:\n",
    "\n",
    "**1.** Normal flow of Python control enters a `try` suite.\n",
    "\n",
    "**2.** If an error occurs within the `try` suite, stop executing the suite at the point where the error occurred and abandon the rest of the suite. If unexecuted lines of the `try` suite remain, then will be ignored.\n",
    "\n",
    "**3.** Raise the particular exception for that error that was encountered. \n",
    "\n",
    "**4.** Look for an `except` suite that can handle that exception. That is, an `except` associated with the particular error name that occurred.\n",
    "\n",
    "**5.** If such an `except` suite is found, move control from the error in the `try` suite to the beginning of the appropriate `except` suite. When the `except` suite finishes, skip to the end of the `try-except` construct and continue normal Python execution.\n",
    "\n",
    "**6.** If an error occurs and no appropriate `except` suite is found, let Python handle it. This is the normal error process: print the type of error encountered, stop the program, and go back to the interpreter.\n",
    "\n",
    "**7.** If no error occurs in the `try` suite, that suite finishes, the `except` suites are skipped, and Python continues with normal execution after the `try-except` construct. \n"
   ]
  },
  {
   "cell_type": "markdown",
   "metadata": {},
   "source": [
    "<a id=\"exceptionexample\"></a>\n",
    "\n",
    "##### **`Exception Example`**\n",
    "\n",
    "The following example shows the try-except construct in the context of user interaction. This particular example reads a particular line indicated by a line number, from a file. The user is required to provide the file name and line number:"
   ]
  },
  {
   "cell_type": "markdown",
   "metadata": {},
   "source": [
    "```python\n",
    "file_str = input(\"Open what file:\")\n",
    "find_line_str = input(\"Which line (integer):\")\n",
    "\n",
    "try:\n",
    "   input_file = open(file_str)   # potential user error\n",
    "   find_line_int = int(find_line_str)  # potential user error\n",
    "   line_count_int = 1\n",
    "   for line_str in input_file:\n",
    "      if line_count_int == find_line_int:\n",
    "         print(f\"Line {find_line_int} of file {file_str} is {line_str}\")\n",
    "         break\n",
    "      line_count_int += 1\n",
    "   else:\n",
    "      print(f\"Line {find_line_int} of file {file_str} not found\")\n",
    "   input_file.close()\n",
    "\n",
    "except FileNotFoundError:\n",
    "   print(f\"The file {file_str} doesn't exist.\")\n",
    "\n",
    "except ValueError:\n",
    "   print(f\"Line {find_line_str} isn't a legal line number\")\n",
    "\n",
    "print(\"End of program\")\n",
    "```"
   ]
  },
  {
   "cell_type": "markdown",
   "metadata": {},
   "source": [
    "<a id=\"moreonexceptions\"></a>\n",
    "\n",
    "##### **`More on Exceptions`**\n",
    "\n",
    "The try-except construct has two parts to the handling of exceptions:"
   ]
  },
  {
   "cell_type": "markdown",
   "metadata": {},
   "source": [
    "* **`try suite`:** If an exception occurs anywhere in the try suite, Python will halt execution of the suite at the error line and look for some exception code to handle the particular error that occurred. If no handler is found, Python will halt the entire program and print the exception. \n",
    "\n",
    "* **`exception suite`:** The except suite almost always has a particular exception as indicated by Python's standard error names on the line that it is called. There are multiple exception suites, with each one written to handle a particular kind of error that might have happened in the try suite. \n",
    "   * An **except statement** can take a parenthetical list of comma separated exceptions that it can handle: if any of the listed exceptions occur, then that statement is activated. \n",
    "   * It is legal to have an exception handler with no particular exception name specified; this will catch all exceptions, but this is generally not recommended. Specific exception handlers can be created with strategies that handle specific exceptions. \n",
    "\n",
    "If no error occurs, the try suite finishes normally; all exception suites are not executed and control passes to whatever code follows the try-except group. "
   ]
  },
  {
   "cell_type": "markdown",
   "metadata": {},
   "source": [
    "`Events`\n",
    "\n",
    "Besides input and related errors, another major type of exception that occurs in programs comes from **events** that need to be handled. These are not errors, but “things that happened” and that need to be addressed. Handling events as they occur is an important task. For example, in an operating system an event occurs every time someone clicks a mouse button. The operating system, also a program, may be working on something else such as processing information coming from a network when the mouse-click event happens However, the mouse-click event needs attention immediately. The operating system needs to divert its “attention” to that mouse-click event now (waiting a long time to\n",
    "deal with a mouse click would not be good for the user). Once it’s finished handling that mouse click, it can go back to deal with other events (keyboard clicks, network information arrival, video updates, etc.). Exception handling is a way for the developer to handle such an event."
   ]
  },
  {
   "cell_type": "markdown",
   "metadata": {},
   "source": [
    "<a id=\"functions\"></a>\n",
    "\n",
    "#### **`Functions`**\n",
    "\n",
    "In mathematics, a function defines the relationship between values: a function will perform a calculation and return the associated value. It is possible for a function to have multiple arguments, but only one object will be returned. A function that returns an ordered pair object also returns a single value, but it is a value with multiple elements. \n",
    "\n",
    "Python functions **represents a single operation to be performed, take zero or more arguments as input, and returns one value (potentially a compund object) as output.**"
   ]
  },
  {
   "cell_type": "markdown",
   "metadata": {},
   "source": [
    "A function represents **encapsulation,** which hides the details of an operation. A function can represent the performance of an operation without making the reader plow through the details of how the operation is actually performed. \n",
    "\n",
    "Functions allow for better code to be written by dividing programs into smaller pieces. Once a function is written, it can be shared and used by other programmers. Functions provide the following features:\n",
    "\n",
    "\n",
    "* **Divide-and-Conquer Problem Solving:** Functions divide programs into smaller pieces, which corresponds to a divide-and-conquer approach to problem solving.\n",
    "\n",
    "* **Abstraction:** Functions provide a higher-level interface to operation that the function implements. By encapsulating details, functions provide a programmer with a high-level view of the function's operation that could be implemented in multiple ways, even by someone else. Abstraction means that the operation the function represents can be implemented in many ways that does not affect the interface. The underlying operations can also be changed without changing the interface. \n",
    "\n",
    "* **Reuse:** Once a function has been created, it can be reused. If a function is written that locates strings in a database, then anywhere that functionality is required can reuse that function. The more such a function is needed, the \"simpler\" the code that uses it. \n",
    "\n",
    "* **Sharing:** Once a function is well-tested, it can be distributed for use by other programmers. Those programmers can further test the function, refine its capabilities, and through improvement provide a service to everyone in the field. Useful functions can be collected into modules for sharing. \n",
    "\n",
    "* **Security:** Small pieces of code can be more easily vetted, and security can be more easily addressed. Once they have been approved, they can be used to construct other secure components, which can also be reused, and so on. Building securely from the \"bottom up\" is one approach to writing secure code.\n",
    "\n",
    "* **Simplification and Readability (duplication removal):** Because a function provides encapsulation, it can be used to simplify a program and make it more readable. Anywhere that multiple lines of code might be needed to address a problem, a function can replace those lines. If the replacement can be done in multiple places, the result is simpler code. "
   ]
  },
  {
   "cell_type": "markdown",
   "metadata": {},
   "source": [
    "<a id=\"pythonfunctions\"></a>\n",
    "\n",
    "##### **`Python Functions`**\n",
    "\n",
    "There are two parts to a Python function, and they correspond to the two parts found in mathematical functions:\n",
    "\n",
    "**1. Definition:** Defines (creates) the function. This creates a name associated with an object in Python, being an assignment statement. \n",
    "* ```python \n",
    "   def f(celsius_float):\n",
    "      return celsius_float * 1.8 + 32\n",
    "   ```\n",
    "\n",
    "**2. Invocation:** The application (running or calling) of the function in a program\n",
    "* ```python \n",
    "   fahrenheit = f(C)\n",
    "   ```\n"
   ]
  },
  {
   "cell_type": "markdown",
   "metadata": {},
   "source": [
    "In the previous example, the `celsius_float` variable is the **parameter** of the function. Upon invoking the function, the argument C's value is passed to the parameter value `celsius_float` for use in the calculation.\n",
    "\n",
    "A function definition begins with the keyword `def`. This works similar to an assignment statement; by executing a def statement, a new name is created in the namespace and a new object, a function object, is associated with that name. As previously mentioned, everything is an object in Python, including functions. \n",
    "\n",
    "`def` is a compound statement, meaning that it provides a suite of other Python statements and expressions that are part of the function. The suite of statements are what will constitute the calculation done by the function object. A `return` statement can be used within a function, which indicates a value that is returned as an output from the function invocation. A function's operation ends after a return statement is executed; a function may have more than one return statement, but the first one that is executed will end the function's operation. "
   ]
  },
  {
   "cell_type": "code",
   "execution_count": 1,
   "metadata": {},
   "outputs": [
    {
     "data": {
      "text/plain": [
       "64.4"
      ]
     },
     "execution_count": 1,
     "metadata": {},
     "output_type": "execute_result"
    }
   ],
   "source": [
    "def celsius_to_fahrenheit(celsius_float):\n",
    "   return celsius_float * 1.8 + 32\n",
    "\n",
    "celsius_to_fahrenheit(18.0)"
   ]
  },
  {
   "cell_type": "markdown",
   "metadata": {},
   "source": [
    "<a id=\"functionflowofcontrol\"></a>\n",
    "\n",
    "##### **`Flow of Control with Functions`**\n",
    "\n",
    "Functions introdice a new flow of control model. With functions, a small set of independent subprograms are created that can be used to construct a larger program. \n",
    "\n",
    "Essentially, the flow of control with functions is to flow from the invocation in the calling program, to the function itself, and then back to the calling program with the function's return value being made available to the calling program. Control within a function remains sequential: one statement after another along with local control statements. "
   ]
  },
  {
   "cell_type": "markdown",
   "metadata": {},
   "source": [
    "For every program, there is usually one main part where execution begins, After that, the flow of control is based on the order of both statements and functions. In particular for functions, **operation of a function is determined by when it is invoked, not when it is defined.** Functions can be defined anywhere in the program file, as long as they are defined before they are invoked because the function name must be placed in the namespace before it can be called. "
   ]
  },
  {
   "cell_type": "markdown",
   "metadata": {},
   "source": [
    "<a id=\"parameterpassing\"></a>\n",
    "\n",
    "##### **`Parameter Passing`**\n",
    "\n",
    "Parameter passing is the passing of values from a calling program to a function, so that the function can perform its operation. Depending on the function, there may be a single parameter or multiple parameters."
   ]
  },
  {
   "cell_type": "markdown",
   "metadata": {},
   "source": [
    "Parameter passing is done just before the calling program suspends. The caller associates its argument values to the corresponding function parameter in the function object. The parameter is then defined in the function's namespace and associated with the value of its corresponding argument; after that, function operation begins. "
   ]
  },
  {
   "cell_type": "markdown",
   "metadata": {},
   "source": [
    "Argument values are typically passed to parameter names in the order they are listed. The names of the corresponding argument and parameter do not need to match, only the order matters: the first argument value is passed to the first parameter and the second argument value to the second parameter, and so on. The number of arguments and parameters must match.\n",
    "\n",
    "During function execution, if a `return` statement is executed, the function ends and the return value is provided to the caller. "
   ]
  },
  {
   "cell_type": "code",
   "execution_count": null,
   "metadata": {},
   "outputs": [],
   "source": [
    "def c_to_f(celsius):\n",
    "   return celsius * 1.8 + 32\n",
    "\n",
    "# main part of the program\n",
    "print(\"Convert Celsius to Farhenheit.\")\n",
    "celsius = float(input(\"Enter a Celsius temp: \"))\n",
    "\n",
    "fahrenheit = c_to_f(celsius)\n",
    "\n",
    "print(f\"{celsius} Celsius converts to {fahrenheit:.2f} Fahrenheit\")"
   ]
  },
  {
   "cell_type": "markdown",
   "metadata": {},
   "source": [
    "<a id=\"functionscallingfunctions\"></a>\n",
    "\n",
    "##### **`Functions Calling Functions & When to Use a Function`**\n",
    "\n",
    "There is no limitation to when a function can be called, except that it must be defined before it is called. It is often the case that a function will call another function: this does not change the previously described process, but it does make the flow of control slightly more complicated to follow."
   ]
  },
  {
   "cell_type": "markdown",
   "metadata": {},
   "source": [
    "`When to Use a Function`\n",
    "\n",
    "There are no rules about when to write something as a function or when to leave code as part of a larger program, but the following are guidelines that may prove helpful:\n",
    "\n",
    "* **Do One Thing:** A function should be the encapsulation of a single, identifiable operation. A function should do only one thing. Functions that try to do too many things can, and should be, broken into multiple functions (refactored).\n",
    "\n",
    "* **Readable & Not Too Long:** A function should be readable and shouldn't be too long. Because a function should only do one thing, it shouldn't be too long, so it should be able to read easily. \n",
    "\n",
    "* **Reusable:** A function should be reusable in contexts other than the program it was written for originally. If possible, the function should be self-contained and not dependent on some nuance of the calling program. If it has dependencies, then those dependencies should be made clear. \n",
    "\n",
    "* **Complete:** A function should be complete, in that it works in all potential situations. If a program is written to perform one thing, the programmer should ensure that all cases where it might be used are taken into account. It is often the case that the core of the function is straightforward, but handling all the cases it might encounter requires supporting code. \n",
    "\n",
    "* **Refactoring:** The process of taking existing code and modifying it such that its structure is somehow improved but the functionality of the code remains the same. Functions can be broken up into smaller, more manageable pieces."
   ]
  },
  {
   "cell_type": "markdown",
   "metadata": {},
   "source": [
    "<a id=\"returnstatements\"></a>\n",
    "\n",
    "##### **`Return Statements`**\n",
    "\n",
    "Functions that do not have a return statement are known as **procedures.** In these cases, the Python value of `None` is returned by default if the programmer does not provide a return statement. \n",
    "\n",
    "Procedures are often used for **formatted output;** a print procedure is a good place to use procedures. The procedure isolates all the printing format, but does not return a value. "
   ]
  },
  {
   "cell_type": "code",
   "execution_count": 12,
   "metadata": {},
   "outputs": [
    {
     "name": "stdout",
     "output_type": "stream",
     "text": [
      "The result of the processing for Bill was 100\n",
      "The result of the processing for Fred was 60\n",
      "Value of the result variable: None\n"
     ]
    }
   ],
   "source": [
    "def formatted_output(my_str, my_int):\n",
    "   print(f\"The result of the processing for {my_str} was {my_int}\")\n",
    "\n",
    "formatted_output('Bill', 100)\n",
    "\n",
    "result = formatted_output(\"Fred\", 60)\n",
    "print(f\"Value of the result variable: {result}\")"
   ]
  },
  {
   "cell_type": "markdown",
   "metadata": {},
   "source": [
    "If there are multiple return statements, the first return encountered during the operation of the function stops the function at that point and returns that value. "
   ]
  },
  {
   "cell_type": "code",
   "execution_count": 12,
   "metadata": {},
   "outputs": [
    {
     "name": "stdout",
     "output_type": "stream",
     "text": [
      "Positive, Negative, Zero\n"
     ]
    }
   ],
   "source": [
    "def pos_neg_zero(number):\n",
    "   if number > 0:\n",
    "      return \"Positive\"\n",
    "   if number < 0:\n",
    "      return \"Negative\"\n",
    "   if number == 0:\n",
    "      return \"Zero\"\n",
    "   \n",
    "print(f\"{pos_neg_zero(5)}, {pos_neg_zero(-2.5)}, {pos_neg_zero(0)}\")"
   ]
  },
  {
   "cell_type": "markdown",
   "metadata": {},
   "source": [
    "<a id=\"varyingnumberofparams\"></a>\n",
    "\n",
    "##### **`Having a Varying Number of Parameters`**\n",
    "\n",
    "Imagine reimplementing the `print()` function with the same basic operation. The number of parameters for this function varies, which is a problem for reimplementing this function. Python provides a way to pass a varying number of arguments to a function"
   ]
  },
  {
   "cell_type": "markdown",
   "metadata": {},
   "source": [
    "Before solving this problem, it is important to differentiate between **Positional Arguments** (arguments that are provided in the function call at some position in the argyment list; the argument is passed to the parameter based on their positions: first argument to first parameter, etc) and **Keyword Arguments** (Designated in the call with an = sign; these arguments are passed to parameters based on the name of the parameter.)\n",
    "\n",
    "It is recommended to **NOT** mix keyword arguments and positional arguments because it can be tangled; if not done correctly, this can lead to syntax errors. However, if these arguments are mixed, all of the positional arguments should be provided before the keyword arguments, to ensure a parameter is not \"double assigned\" with both a positional and keyword argument."
   ]
  },
  {
   "cell_type": "markdown",
   "metadata": {},
   "source": [
    "`Multiple Positional Arguments`\n",
    "\n",
    "Special parameters can be defined in the parameter list of a function definition, which will gather all the extra positional arguments provided by a function call. This parameter is preceded by an asterisk "
   ]
  },
  {
   "cell_type": "code",
   "execution_count": 30,
   "metadata": {},
   "outputs": [
    {
     "name": "stdout",
     "output_type": "stream",
     "text": [
      "p1=1, p2=2, p3=()\n",
      "p1=1, p2=2, p3=(3, 4, 5)\n"
     ]
    }
   ],
   "source": [
    "def mpa(param1, param2, *param_rest):\n",
    "   print(f\"p1={param1}, p2={param2}, p3={param_rest}\")\n",
    "\n",
    "mpa(1,2)\n",
    "mpa(1,2,3,4,5)"
   ]
  },
  {
   "cell_type": "markdown",
   "metadata": {},
   "source": [
    "Placing this single asterisk in front of a parameter name means that any extra positional arguments are gathered as a tuple and associated with that parameter. If no extra arguments are passed, then the starred parameter has the value of an empty tuple. This means that no matter how many arguments are passed, the starred parameter will store the additional arguments (after the required ones, if any)."
   ]
  },
  {
   "cell_type": "markdown",
   "metadata": {},
   "source": [
    "`Multiple Keyword Arguments`\n",
    "\n",
    "There is also a way to pass an unknown number of keyword arguments where keyword parameters have **NOT** all been provided. For example, `my_key = value` can be written as an argument, where my_key has not been defined as a parameter of the function"
   ]
  },
  {
   "cell_type": "code",
   "execution_count": 37,
   "metadata": {},
   "outputs": [
    {
     "name": "stdout",
     "output_type": "stream",
     "text": [
      "2 1 {}\n",
      "2 1 {'my_key': 'value', 'other_key': 'other_value'}\n"
     ]
    }
   ],
   "source": [
    "def mka(param1, param2, **param_dict):\n",
    "   print(param1, param2, param_dict)\n",
    "\n",
    "mka(param1=2, param2=1)\n",
    "mka(param1=2, param2=1, my_key='value', other_key=\"other_value\")"
   ]
  },
  {
   "cell_type": "markdown",
   "metadata": {},
   "source": [
    "In this case, the special parameter **requires two asterisks,** indicating that any **extra keyword arguments are assigned to a dictionary** stored in the two-starred parameter. The keywords are assigned as string keys in the dictionary, as seen in the previous example. \n",
    "\n",
    "The **parameter allows more freedom in mixing positional and keyword arguments. Positional arguments can be provided first in the argument list, followed by keyword arguments; however only the number of positional arguments in the function definition can be used positionally, so the **parameter will not pick up extra positional arguments. Additionally, these parameters cannot be used as a keyword argument. \n",
    "\n"
   ]
  },
  {
   "cell_type": "markdown",
   "metadata": {},
   "source": [
    "Both *parameters and **parameters can be used in the same function, as long as the *parameter precede **parameter. The following example shows this by creating a grade dictionary, accepting the dictionary and a default grade as two positional arguments, then a variable number of students, then a variable number of keyword arguments that will also be entered in the dictionary:"
   ]
  },
  {
   "cell_type": "code",
   "execution_count": 40,
   "metadata": {},
   "outputs": [
    {
     "name": "stdout",
     "output_type": "stream",
     "text": [
      "wanda      |     0\n",
      "fred       |     0\n",
      "irving     |     0\n",
      "bill       |   100\n",
      "rich       |   100\n"
     ]
    }
   ],
   "source": [
    "def setup_grades(grade_dict, default_grade, *student_tuple, **special_dict):\n",
    "   for student in student_tuple:\n",
    "      grade_dict[student] = default_grade\n",
    "   \n",
    "   for student, grade in special_dict.items():\n",
    "      grade_dict[student] = grade\n",
    "\n",
    "grade_dict = {}\n",
    "\n",
    "setup_grades(grade_dict, 0, 'wanda', 'fred', 'irving', bill=100, rich=100)\n",
    "\n",
    "for key, val in grade_dict.items():\n",
    "   print('{:10} | {:5}'.format(key, val))"
   ]
  },
  {
   "cell_type": "markdown",
   "metadata": {},
   "source": [
    "<a id=\"iteratorsandgenerators\"></a>\n",
    "\n",
    "##### **`Iterators and Generators`**\n",
    "\n",
    "As previously mentioned, iterators mostly iterate over a collection of elements. Elements can be placed in a `for` loop and the loop will move through every element of the collection. While this may already be understood, it is important to know how iteration is done "
   ]
  },
  {
   "cell_type": "markdown",
   "metadata": {},
   "source": [
    "**`Iterators`**\n",
    "\n",
    "Iterators are objects. As an object, iterators support two attributes (the `__next__()` method and the `__iter__()` method). Both of these methods are more easily accessed using their respective built-in function:\n",
    "\n",
    "**1. `next(iterator)`:** This function takes a single argument (an iterator), and returns the next element of the iteration. It raises a **StopError** exception when it reaches the end of the elements it can provide. This is the heart of iteration\n",
    "\n",
    "**2. `iter(iterator)`:** This function takes an argument as an iterator and returns that iterator\n",
    "\n",
    "```python\n",
    "'''Contents of test.txt'''\n",
    "First Line\n",
    "Second Line\n",
    "Third Line\n",
    "Fourth Line\n",
    "\n",
    "test_file = open(\"test.txt\", \"r\")\n",
    "test_file\n",
    "→ <_io.TextIOWrapper name='test.txt' mode='r' encoding='UTF-8'>\n",
    "\n",
    "iter(test_file)\n",
    "→ <_io.TextIOWrapper name='test.txt' mode='r' encoding='UTF-8'>\n",
    "\n",
    "next(test_file)\n",
    "→ 'First line\\n'\n",
    "```\n",
    "\n",
    "Based on this output, it is clear that a **file object is iterator object.** It can be used as an argument in both the iterator functions. When used in a `next` call, it yields the next item in iteration, in this case, a line of the file. Every subsequent call yields the next item until no more items are available, at which point the next call yields a StopIteration exception, and will continue to do so for subsequent calls. \n",
    "\n",
    "Iterator objects store some state information about the elements they are iterating over. They \"remember\" what the last call of the next provided, and provide the following elements for subsequent calls."
   ]
  },
  {
   "cell_type": "markdown",
   "metadata": {},
   "source": [
    "**`Collections and Iterator Objects`**\n",
    "\n",
    "Collections are **NOT** iterators. They cannot be used as an argument to the next method; however, all collections are iterable objects, meaning that an iterator can be created from any collection:\n",
    "\n",
    "* `iter(collection)`: Creates an iteration object for the particular collection\n",
    "\n",
    "When called with a collection as an argument, `iter()` yields an iterator object specific for the type of collection. It is specific for the type as it matters what elements are provided and their order, depending on the type (a **str** the next character in the sequence, a **dict** one of the keys but without any implicit order). Each call of next on the iterator yields the next value. It is important to note that if the `list()` function is used with the iterator object as an argument, all the elements are provided and a list of the elements created"
   ]
  },
  {
   "cell_type": "code",
   "execution_count": 149,
   "metadata": {},
   "outputs": [
    {
     "name": "stdout",
     "output_type": "stream",
     "text": [
      "<class 'range'>\n",
      "<class 'range_iterator'>\n",
      "0\n",
      "1\n",
      "<class 'dict_keyiterator'>\n",
      "a\n",
      "b\n"
     ]
    }
   ],
   "source": [
    "range_object = range(10); print(type(range_object))\n",
    "\n",
    "'''next(range_object) # error'''\n",
    "\n",
    "range_iter = iter(range(10)); print(type(range_iter))\n",
    "print(next(range_iter))\n",
    "print(next(range_iter)) # this can be continued until end\n",
    "\n",
    "dict_iter = iter({'a':1, 'b':2, 'c':3}); print(type(dict_iter))\n",
    "print(next(dict_iter))\n",
    "print(next(dict_iter)) # this can be continued until end"
   ]
  },
  {
   "cell_type": "markdown",
   "metadata": {},
   "source": [
    "Now, to answer how a `for` loop based on all of this information. When started, the loop uses the `iter()` function to create an iterator object from its target. If the target is already an iterator object, then it returns that object. If the target is a collection, it returns a new iterator object specific for that collection. The loop then calls the `next()` function on the iterator object during each iteration of the loop. It continues to do so until the next function call results in a **StopIteration** exception, which the for loop captures and uses to end the loop"
   ]
  },
  {
   "cell_type": "markdown",
   "metadata": {},
   "source": [
    "**`Generators`**\n",
    "\n",
    "Functions can be written that act like iterator objects. These are functions that yield a sequence of elements as a result of their operation, but yield them one at a time in response to a next call. As a result, these functions \"remember\" what element they yielded last and know what element to yield next.\n",
    "\n",
    "The only thing that differentiates a regular function and a generator is the `yield` statement. Instead of a return statement, generators use the yield statement to return values; in doing so, the function changes. When a yield expression is evaluated, the associated function generates its next value, only its next value, returns it, and then waits for its next function call at the yield. When the function ends (cannot yield more data), the next call raises a **StopIteration** error. "
   ]
  },
  {
   "cell_type": "code",
   "execution_count": 150,
   "metadata": {},
   "outputs": [
    {
     "name": "stdout",
     "output_type": "stream",
     "text": [
      "Regular Function: [5, 10, 15]\n",
      "Generator Function: <generator object generator_function at 0x00000185553105F0>\n",
      "5\n",
      "10\n",
      "15\n"
     ]
    }
   ],
   "source": [
    "def regular_function(int_list, an_int):\n",
    "   result_list=[]\n",
    "   for num in int_list:\n",
    "      result_list.append(num * an_int)\n",
    "   return result_list\n",
    "\n",
    "def generator_function(int_list, an_int):\n",
    "   for num in int_list:\n",
    "      yield num * an_int\n",
    "\n",
    "print(\"Regular Function:\", regular_function([1,2,3], 5))\n",
    "print(\"Generator Function:\", generator_function([1,2,3], 5))\n",
    "\n",
    "gen_object = generator_function([1,2,3], 5)\n",
    "\n",
    "print(next(gen_object))\n",
    "print(next(gen_object))\n",
    "print(next(gen_object))"
   ]
  },
  {
   "cell_type": "markdown",
   "metadata": {},
   "source": [
    "The first function, `regular_function` iterates through the list, multiplies each element by the integer parameter, and collects the results in a list, which is returned. The second function, `generator_function`, does the same but uses the yield statement instead of the return statement, and no intermediate list is create and return, so each result is yielded individually.\n",
    "\n",
    "The first yields a list result as expected, but the second returns a **generator object**. That generator object can then be used as an argument to the `next()` function to yield the next result in the sequence. When all the results have been provided, subsequent calls to next raise a **StopIteration** error. If a generator object is used as the argument to the `list()` function, it captures all the elemtns of the generator in a list -> essentially, if `gen_object = list(generator_function([1,2,3], 5))`, the result would be the same as the first function."
   ]
  },
  {
   "cell_type": "markdown",
   "metadata": {},
   "source": [
    "The purpose of a generator is to represent a sequence of elements without having to generate all the elements in that sequence. Like the `range()` function, a generator is a representation of a sequence that could be very long, but only a representation, not the sequence. Saying that, it is possible to write a generator to represent a sequence that is infinitely long."
   ]
  },
  {
   "cell_type": "markdown",
   "metadata": {},
   "source": [
    "<a id=\"otherfuncprogrammideas\"></a>\n",
    "\n",
    "##### **`Other Functional Programming Ideas`**\n",
    "\n",
    "There are three main different programming paradigms in Python:\n",
    "\n",
    "**1. Procedural Programming:** The use of instructions, followed line by line, that changes the values of variables and other elements using built-in or user-defined functions\n",
    "\n",
    "**2. Object Oriented Programming:** Uses classes and instances as a way to encapsulate programming elements and provide interfaces to those elements via methods\n",
    "\n",
    "**3. Functional Programming:** Focused on the use of functions, but functions that do not have \"side effects.\" These functions focus on taking inputs, doing a computation, and providing outputs without side-effects. The use of generators, iterators, and comprehensions are a kind of functional programming. "
   ]
  },
  {
   "cell_type": "markdown",
   "metadata": {},
   "source": [
    "**`Anonymous Functions: Lambda`**\n",
    "\n",
    "This is an element of functional programming. Lambda has two main uses. One, anywhere an expression can be used, lambda can  be used to return something. Second, if a function is needed for something, but only for some small task, lambda can be used. This is essentially a **function without a name.** Lambda functions have three restrictions:\n",
    "\n",
    "* The body of a lambda expression can contain only a single line\n",
    "\n",
    "* The body can only contain an expression (something which returns a value), no statements or other elements\n",
    "\n",
    "* The result of the expression is automatically returned, no return statement is required (or allowed)\n",
    "\n",
    "The form of a lambda is:\n",
    "\n",
    "```python\n",
    "lambda arg_list: expression\n",
    "```"
   ]
  },
  {
   "cell_type": "code",
   "execution_count": 85,
   "metadata": {},
   "outputs": [
    {
     "name": "stdout",
     "output_type": "stream",
     "text": [
      "Regular: 5\n",
      "Lambda: 5\n"
     ]
    }
   ],
   "source": [
    "def add_func(int1, int2):\n",
    "   return int1 + int2\n",
    "\n",
    "add_lambda = lambda int1,int2: int1 + int2\n",
    "\n",
    "print(\"Regular:\", add_func(2,3))\n",
    "\n",
    "print(\"Lambda:\", add_lambda(2,3))"
   ]
  },
  {
   "cell_type": "markdown",
   "metadata": {},
   "source": [
    "<a id=\"functionalprogrammingtools\"></a>\n",
    "\n",
    "##### **`Some Functional Programming Tools`**\n",
    "\n",
    "**1. `map()`:** This function takes as arguments a function and one or more iterables. For one iterable, the function should take one argument: two iterables, two arguments. It applies the provided function to each element of the iterable(s). It returns an interable, a map object.\n",
    "\n",
    "**2. `filter()`:** This function takes as arguments a Boolean function and an iterable. It applies the function to each element of the iterable and collects those elements for which the function returns True. It returns an iterable, a filter object.\n",
    "\n",
    "**3. `reduce()`:** This function is part of the **functools module.** It takes as arguments a function of two arguments and an iterable. The function is applied first to the first two elements of the iterable, then reapplied to the previous result and the third element of the iterable, then reapplied to the previous result and the fourth element, etc. It returns the value that results from the application. "
   ]
  },
  {
   "cell_type": "code",
   "execution_count": 98,
   "metadata": {},
   "outputs": [
    {
     "name": "stdout",
     "output_type": "stream",
     "text": [
      "<map object at 0x000002609C6CEA90>\n",
      "[2, 3, 4, 5, 6] \n",
      "\n",
      "<filter object at 0x000002609C6CEA00>\n",
      "['1', '2', '3'] \n",
      "\n",
      "15\n"
     ]
    }
   ],
   "source": [
    "map_result = map(lambda x: x +1, [1,2,3,4,5])\n",
    "print(map_result)\n",
    "print(list(map_result), \"\\n\")\n",
    "# list(map_result)\n",
    "\n",
    "filter_result = filter(lambda x: x.isdigit(), 'abc123')\n",
    "print(filter_result)\n",
    "print(list(filter_result), \"\\n\")\n",
    "\n",
    "from functools import reduce\n",
    "reduce_result = reduce(lambda x,y: x + y, [1,2,3,4,5])\n",
    "print(reduce_result)"
   ]
  },
  {
   "cell_type": "markdown",
   "metadata": {},
   "source": [
    "<a id=\"scopefunctions\"></a>\n",
    "\n",
    "#### **`Scope in Functions`**\n",
    "\n",
    "A function is the first place where the effect of different scopes can be seen. When a function is executed, it creates its own namespace. Any variable that comes into existence within the suite of that function gets entered in the function's namespace. **A function's variables are *local* to the scope of the function.** Again, the \"Local Scope\" means that the variable can only be referenced, its associated object accessed, within the suite of the function because that is the active namespace. \n",
    "\n",
    "Variables defined locally within a function (within the scope of the function) are not accessible outside of the function because when a call to a function ends, its namespace is hidden. Every program and function has a namespace that defines a scope within which variables are defined and are available for use. Only variables within the current, active namespaces, can be referred to during execution"
   ]
  },
  {
   "cell_type": "markdown",
   "metadata": {},
   "source": [
    "```python\n",
    "def scope_function(a_int):\n",
    "   new_int = a_int\n",
    "   print(f\"new_int value is: {new_int}\")\n",
    "\n",
    "scope_function(27)\n",
    "print(f\"new_int value is: {new_int}\") # error (scope)\n",
    "```\n",
    "\n",
    "This program generates an error because new_int is defined in the local scope of the function, so it cannot be referenced outside of the suite of the function. The scope determined by the function is the function's suite; besides the suite, the namespace also includes the function's parameters as part of the function's local scope. The function's namespace becomes active when function execution begins and ends when function execution ends. "
   ]
  },
  {
   "cell_type": "markdown",
   "metadata": {},
   "source": [
    "<a id=\"argumentsparamsandnamespaces\"></a>\n",
    "\n",
    "##### **`Arguments, Parameters, and Namespaces`**\n",
    "\n",
    "A namespace contains a set of pairs: a name and a Python object associated with that name. The association itself is called a **reference** because the name references the object. "
   ]
  },
  {
   "cell_type": "markdown",
   "metadata": {},
   "source": [
    "When a `def` statement is executed, the function is created and made available for invocation.\n",
    "\n",
    "When a function is called, the **association (reference)** gets copied between the argument and its corresponding parameter. A new copy of the object itself is **NOT** copied. This means that after passing the argument to the parameter, both the parameter and argument will now be associated with the same object:"
   ]
  },
  {
   "cell_type": "code",
   "execution_count": 154,
   "metadata": {},
   "outputs": [
    {
     "name": "stdout",
     "output_type": "stream",
     "text": [
      "ID of arg: 1672066853936\n",
      "Parameter value is 25, its ID is 1672066853936\n"
     ]
    }
   ],
   "source": [
    "arg = 25\n",
    "print(\"ID of arg:\", id(arg))\n",
    "\n",
    "def my_function(param):\n",
    "   print(f\"Parameter value is {param}, its ID is {id(param)}\")\n",
    "\n",
    "# arg variable used as parameter\n",
    "\n",
    "my_function(arg)"
   ]
  },
  {
   "cell_type": "markdown",
   "metadata": {},
   "source": [
    "In this example, the parameter and argument are associated with the same object. If the function changes the value associated with `param`, the reference would be updated in the function's namespace to a different object. \n",
    "\n",
    "Similarly, the argument and parameter of the function make reference to an immutable object (integer in this case, but can also be a string or tuple). If the object being referenced is immutable, it is not possible to change anything about that object. Whenever a new object is assigned to a parameter, the association to the same object between the argument and parameter is broken, essentially creating another object:"
   ]
  },
  {
   "cell_type": "code",
   "execution_count": 18,
   "metadata": {},
   "outputs": [
    {
     "name": "stdout",
     "output_type": "stream",
     "text": [
      "ID of arg: 2204121001008\n",
      "Parameter value is 35, its ID is 2204121001328\n"
     ]
    }
   ],
   "source": [
    "arg = 25\n",
    "print(\"ID of arg:\", id(arg))\n",
    "\n",
    "def my_function(param):\n",
    "   param = 35\n",
    "   print(f\"Parameter value is {param}, its ID is {id(param)}\")\n",
    "\n",
    "# arg variable used as parameter\n",
    "\n",
    "my_function(arg)"
   ]
  },
  {
   "cell_type": "markdown",
   "metadata": {},
   "source": [
    "<a id=\"passingmutableobjects\"></a>\n",
    "\n",
    "##### **`Passing Mutable Objects`**\n",
    "\n",
    "Unlike the previous example, **mutable objects** can have their value(s) changed:"
   ]
  },
  {
   "cell_type": "code",
   "execution_count": 27,
   "metadata": {},
   "outputs": [
    {
     "name": "stdout",
     "output_type": "stream",
     "text": [
      "Before using arg_list as an arg to my_function: [1, 2, 3]\n",
      "[100, 2, 3]\n",
      "After using arg_list as an arg to my_function: [100, 2, 3]\n"
     ]
    }
   ],
   "source": [
    "arg_list = [1,2,3]\n",
    "print(f\"Before using arg_list as an arg to my_function: {arg_list}\")\n",
    "def my_function(param_list):\n",
    "   param_list[0] = 100\n",
    "   print(param_list)\n",
    "\n",
    "my_function(arg_list)\n",
    "print(f\"After using arg_list as an arg to my_function: {arg_list}\")"
   ]
  },
  {
   "cell_type": "markdown",
   "metadata": {},
   "source": [
    "In this example, an argument reference is passed to the parameter name, so both become associated with that object. The assignment statement `param_list[0] = 100` does not assign a new object to param_list, but changes the object itself. Similarly, arg_list also reflects the modification because it references the same object. This change would not be possible with an immutable object because they cannot be changed."
   ]
  },
  {
   "cell_type": "markdown",
   "metadata": {},
   "source": [
    "<a id=\"returningacomplexobj\"></a>\n",
    "\n",
    "##### **`Returning a Complex Object`**\n",
    "\n",
    "While a function returns one object, they can also return a collection as a single object that has multiple parts. The following example takes a single integer argument (n), indicating the quantity of even numbers to generate, then constructs a list of the first *n* even numbers."
   ]
  },
  {
   "cell_type": "code",
   "execution_count": 33,
   "metadata": {},
   "outputs": [
    {
     "name": "stdout",
     "output_type": "stream",
     "text": [
      "[2, 4, 6]\n",
      "List as an argument: [2, 4, 6]\n"
     ]
    }
   ],
   "source": [
    "def evens(n):\n",
    "   evens_list = []\n",
    "   for i in range(1, n+1):\n",
    "      evens_list.append(2*i) # always even \n",
    "   return evens_list\n",
    "\n",
    "print(evens(3))\n",
    "num_list = evens(3)\n",
    "print(\"List as an argument:\", num_list)"
   ]
  },
  {
   "cell_type": "markdown",
   "metadata": {},
   "source": [
    "If a series of results separated by commas is returned, Python will build a single tuple containing those values (in order) and return the tuple. \n",
    "\n",
    "The following function takes a single collection argument with at least two elements and returns the first two elements as a tuple in reverse order. **A tuple of two integers can be used as an argument, and they will be returned as a tuple.** Similarly, **multiple assignment** can also be done on the function, where the elements of the returned tuple are assigned in order to the variables *first* and *second.* Finally, if **single assignment** is used, then the assigned object is a tuple:"
   ]
  },
  {
   "cell_type": "code",
   "execution_count": 14,
   "metadata": {},
   "outputs": [
    {
     "name": "stdout",
     "output_type": "stream",
     "text": [
      "Function with parameters: (3, 2)\n",
      "Multiple assignment: (5, 4)\n",
      "1 Multiple assignment: 5\n",
      "2 Multiple assignment: 4\n",
      "Single assignment: (7, 6)\n"
     ]
    }
   ],
   "source": [
    "def mirror(pair):\n",
    "   return pair[1], pair[0]\n",
    "\n",
    "print(\"Function with parameters:\", mirror((2,3)))\n",
    "\n",
    "first, second = mirror((4,5))\n",
    "print(f\"Multiple assignment: {first, second}\")\n",
    "print(f\"1 Multiple assignment: {first}\")\n",
    "print(f\"2 Multiple assignment: {second}\")\n",
    "\n",
    "a_tuple = mirror((6,7))\n",
    "print(f\"Single assignment: {a_tuple}\")"
   ]
  },
  {
   "cell_type": "markdown",
   "metadata": {},
   "source": [
    "<a id=\"defaultvalsandparamsaskeywrds\"></a>\n",
    "\n",
    "#### **`Default Values and Parameters as Keywords`**\n",
    "\n",
    "Two additional characteristics of parameter passing are the ability to have **default values** and the ability to **pass parameters by name.**"
   ]
  },
  {
   "cell_type": "markdown",
   "metadata": {},
   "source": [
    "A **default parameter value** is a value assigned to a function parameter by default in the event that the user did not provide a value. When the user provides a value, that provided value always overrides the default value. \n",
    "\n",
    "A default parameter is created in the parameter list of a function definition:\n",
    " ```python\n",
    "def function(param_name=value)\n",
    "```\n",
    "The **value** is the default value for the parameter param_name. If a function is set up this way, the user of the function is free not to provide a value for that parameter, and the default will be used. If a parameter is listed without the assignment, it is a required parameter; the user must provide an argument for the parameter or an error will be thrown. \n",
    "\n",
    "Arguments are mapped to parameters in a left-to-right positional matching; the leftmost argument maps to the leftmost parameter, then the next leftmost argument is mapped to the next leftmost paremeter, etc. If there are more parameters than arguments, any unmatched parameters get their default values; therefore, default values can only be used on the rightmost parameters. \n",
    "\n",
    "```python\n",
    "def func1(param_required, param_default=2):\n",
    "   print(param_required, param_default)\n",
    "\n",
    "func1(5,6)\n",
    "→ 5 6 \n",
    "\n",
    "func1(5)\n",
    "→ 5 2\n",
    "```"
   ]
  },
  {
   "cell_type": "markdown",
   "metadata": {},
   "source": [
    "Python also allows the programmer to use the names of the parameters as keywords in the function invocation; in the invocation, an assignment statement of the form `param_name=value` can be used. This allows the programmer to ignore the standard order of argument-to-parameter names by specifically indicating which argument-to-parameter to match. \n",
    "\n",
    "```python\n",
    "def func1(param_required, param_default=2):\n",
    "   print(param_required, param_default)\n",
    "\n",
    "func1(param_default=4, param_required=3)\n",
    "→ 3 4 \n",
    "```\n",
    "\n",
    "Passing parameters by names is useful when there are many parameters and many have default values. Doing this, the programmer can easily specify a few desired arguments they wish to change, without regard to order, and accept the default values for the rest. \n",
    "\n",
    "If all parameters have a default argument, the function can be called without any arguments: `function()` instead of `function(arg1, arg2)`. In this case, the function will use all of the defaults. Similarly, if all of the parameters have default arguments, certain parameters can be specified with different arguments. "
   ]
  },
  {
   "cell_type": "markdown",
   "metadata": {},
   "source": [
    "<a id=\"issueswithdv\"></a>\n",
    "\n",
    "##### **`Issues with Default Values`**\n",
    "\n",
    "When mixing standard invocation (without parameter keyword names) and parameter keywords, argument-to-parameter order can be difficult. **It is recommended to stick with one style or the other: either invoke with all the parameters named or no parameters named.** However, if argument-to-parameter order is mixed, then the following should be followed:\n",
    "\n",
    "* No argument is provided twice, for example, first as normal argument and second as a parameter named argument\n",
    "\n",
    "* All the required arguments are provided"
   ]
  },
  {
   "cell_type": "markdown",
   "metadata": {},
   "source": [
    "A mutable, parameter default value (like a list) should **NOT** be used. This is because default parameter values are only evaluated once, when `def` is evaluated, and that association is preserved between invocations. This persistence means that changes to the default object associated with the parameter name persists between calls:\n",
    "\n",
    "```python\n",
    "def func2(element, param_list=[]):\n",
    "   param_list.append(element)\n",
    "   return param_list\n",
    "\n",
    "func2(1)\n",
    "→ [1]\n",
    "\n",
    "func2(2)\n",
    "→ [1, 2]\n",
    "\n",
    "func2(4, [7, 8, 9]) # no defaults, works as expected\n",
    "→ [7, 8, 9, 4]\n",
    "\n",
    "func2(5) # defaults used again; default modifications persist\n",
    "→ [1, 2, 5]\n",
    "```\n",
    "\n",
    "In the previous function, the parameter param_list has a default value of an empty list. The default value is evaluated when the function is defined and the association between param_list and its object is created in the function's local namespace. \n",
    "\n",
    "The first invocation `func2(1)` uses the default for param_list and appends a 1 onto the default list. In the second invocation, again using a default argument for param_list, `func2(2)`, the 2 gets appended onto the default object as well. Because the object was modified in the previous call, that change remains and the returned value is now [1, 2]. Any change to the default object, if that object is mutable and modified, will be preserved across invocations. \n",
    "\n",
    "If a default mutable is required, it is better to provide a value such as `None` as the default value in the function definition, and then check for that default value in the function code itself. At that point in the code, a new object can be created to perform the required task."
   ]
  },
  {
   "cell_type": "markdown",
   "metadata": {},
   "source": [
    "<a id=\"functionsasobjects\"></a>\n",
    "\n",
    "#### **`Functions as Objects`**\n",
    "\n",
    "Again, defining a function creates an object in Python. As with any other object, there are methods and variables associated with function objects. To see what those methods and variables are, the function name is typed, followed by a period, and the tab character in the Python shell to see what they are: `function.<tab>`"
   ]
  },
  {
   "cell_type": "markdown",
   "metadata": {},
   "source": [
    "The most interesting properties begin and end with double underscores `__`: these are the names reserved by Python and serve special purposes:\n",
    "\n",
    "**1. `.__name__`:** The name associated with the function\n",
    "\n",
    "**2. `.__str__`:** The function used to construct a string from the function. This is the function that **print** uses to represent a function\n",
    "\n",
    "**3. `.__dict__`:** The namespace of the function (a dictionary)\n",
    "\n",
    "**4. `.__doc__`:** The docstring, which contains information about the function provided by the programmer. "
   ]
  },
  {
   "cell_type": "markdown",
   "metadata": {},
   "source": [
    "<a id=\"functionannotations\"></a>\n",
    "\n",
    "##### **`Function Annotations`**\n",
    "\n",
    "Python allows the programmer to indicate an annotation for both the parameter of a function and the return value of the function. An annotation is an arbitrary piece of information that can be associated with a parameter or return value that can be used by either the function writer or a user. \n",
    "\n",
    "The function writer can associate any kind of information with some or all of the parameters or the return value of the function, but Python does nothing with the annotation."
   ]
  },
  {
   "cell_type": "markdown",
   "metadata": {},
   "source": [
    "Annotations are associated as pairs in the parameter list, in the form **param_name : annotation.** Annotations on the return value are done using the special symbols `->` after the parameter list but before the `:` symbol\n",
    "\n",
    "```python\n",
    "def my_func(param1 : int, param2 : float) -> None :\n",
    "   print(param1 + param2)\n",
    "\n",
    "my_func(1, 2.0)\n",
    "→ 3.0 \n",
    "\n",
    "my_func('a','b')\n",
    "→ ab\n",
    "```\n",
    "\n",
    "In this example, param1 is associated with the type int,  param2 is associated with the type float, and the return value is associated with None; however, these values are not used in the function itself, they are ignored."
   ]
  },
  {
   "cell_type": "markdown",
   "metadata": {},
   "source": [
    "While the annotations are ignored, the function writer can provide annotations as suggestions to the function user. In this case, the suggestion is the types that are expected for the parameters and return value. These annotations are made into a dictionary at function definition time and provided in a special variable as part of the function object called `.__annotations__`: this data structure is part of the function object itself and can be accessed by the following: \n",
    "\n",
    "```python\n",
    "my_func.__annotations__\n",
    "→ {'return': None, 'param2': <class 'float'>, 'param1': <class 'int'>}\n",
    "```"
   ]
  },
  {
   "cell_type": "markdown",
   "metadata": {},
   "source": [
    "<a id=\"docstrings\"></a>\n",
    "\n",
    "##### **`Docstrings`**\n",
    "\n",
    "Python allows documentation of functions that can be inputted through a docstring `'''docstring'''` and viewed through the `__doc__` method. Through this method, it is possible for a user to retrieve information about a function; for example, how to invoke it, what is returned, its purpose, etc. "
   ]
  },
  {
   "cell_type": "markdown",
   "metadata": {},
   "source": [
    "This method can be used with the `dir()` function, which lists the names in the module. To learn more about a particular function, the doc method can be used to inquire about a particular function. "
   ]
  },
  {
   "cell_type": "code",
   "execution_count": 18,
   "metadata": {},
   "outputs": [
    {
     "data": {
      "text/plain": [
       "'Return x**y (x to the power of y).'"
      ]
     },
     "execution_count": 18,
     "metadata": {},
     "output_type": "execute_result"
    }
   ],
   "source": [
    "import math\n",
    "math.pow.__doc__"
   ]
  },
  {
   "cell_type": "markdown",
   "metadata": {},
   "source": [
    "Although minimal information about each function is returned in the dosctring, something useful can always be found. \n",
    "\n",
    "As mentioned, a docstring is included in a function using triple quotes to delimit the string. It must appear after the header line (just after the def). A docstring should either be one brief line, or a bried line followed by a blank line, followed by a lengthier description. It is good practice to include one-line docstrings in functions. "
   ]
  },
  {
   "cell_type": "markdown",
   "metadata": {},
   "source": [
    "<a id=\"recursion\"></a>\n",
    "\n",
    "#### **`Recursion`**\n",
    "\n",
    "**Recursion is a function that calls itself.** While it may look circular, if there is a condition under which the circularity ends, it \"bottoms out\" at some point. To understand recursion in a problem, two parts need to be understood:\n",
    "\n",
    "```python\n",
    "def f(n):\n",
    "   ...\n",
    "   f(n-1)\n",
    "```\n",
    "\n",
    "1. How to break the problem into smaller pieces, each of which can be addressed by the function, and then \"put back together\"\n",
    "\n",
    "2. Determining when the recursive invocation of a function ends, when the recursion \"bottoms out\""
   ]
  },
  {
   "cell_type": "markdown",
   "metadata": {},
   "source": [
    "Recursion essentially ends up being an algorithm that, in itself, uses a form of divide and conquer. Recursion breaks a problem down into pieces, down to the \"smallest\" piece, solves that piece, and then reassembles the smaller solutions into an overall answer.\n",
    "\n",
    "\n",
    "Correctly controlling recursion requires dealing with two different cases:\n",
    "\n",
    "**1**. Terminates a recursive sequence, known as the **Base Case.** If the base case is missing, the recursive function calls go on forever. Such a program never halts with an answer - **Infinite Recursion**\n",
    "\n",
    "**2.** **Recursive Step** breaks the problem down and reassembles the partial solutions. \n",
    "\n",
    "<ins>Example using Recursion:</ins>\n",
    "\n",
    " A journey of a thoursan miles begins with a single step\n",
    "\n",
    "**Recursion:** \"If you have taken 999 steps, you can easily take that 1000th step. If you have 998 steps, you can easily take the 999th step.\"\n",
    "\n",
    "Taking this example and converting into a Pythonic function would look different:\n",
    "\n",
    "```python\n",
    "def take_step(n):\n",
    "   if n == 1: # base case\n",
    "      return \"Easy\"\n",
    "   else:\n",
    "      this_step = \"step(\" + str(n) + \")\"\n",
    "      previous_steps = take_step(n-1) # recursive call\n",
    "      return this_step + \" + \" + previous_steps\n",
    "```"
   ]
  },
  {
   "cell_type": "markdown",
   "metadata": {},
   "source": [
    "<a id=\"recursionstring\"></a>\n",
    "\n",
    "##### **`Example: Reversing a String`**\n",
    "\n",
    "While a string can be reversed by slicing with a negative step, a recursive function can do the same thing. "
   ]
  },
  {
   "cell_type": "markdown",
   "metadata": {},
   "source": [
    "<ins>Skeletal Function</ins>\n",
    "\n",
    "```python\n",
    "def reverser (a_str):\n",
    "   # base case\n",
    "   # recursive step\n",
    "      # divide into parts\n",
    "      # reassemble\n",
    "\n",
    "the_str = input(\"Reverse what string: \")\n",
    "result = reverser(the_str)\n",
    "print(f\"The reverse of {the_str} is {result}\")\n",
    "```"
   ]
  },
  {
   "cell_type": "markdown",
   "metadata": {},
   "source": [
    "In this case, the base case is if a string has a length of 1. \n",
    "\n",
    "```python\n",
    "   if len(a_str) == 1:\n",
    "```\n",
    "\n",
    "For the divide-and-conquer step, two questions need to be answered: how to divide the data up and how to reassemnle (conquer) that data once the parts are calculated. In this case, the function should take the first letter and append that to the end of the rest of the string if that string was reversed. \n",
    "\n",
    "```python\n",
    "reverser(a_str[1:] + a_str[0])\n",
    "```\n",
    "\n",
    "This approach reverses the position of the first letter and leaves the work of reversing the rest of the string to a recursive call. This process is continued until the string length reaches 1. "
   ]
  },
  {
   "cell_type": "code",
   "execution_count": 15,
   "metadata": {},
   "outputs": [
    {
     "name": "stdout",
     "output_type": "stream",
     "text": [
      "\n",
      "Got as an argument: string\n",
      "Got as an argument: tring\n",
      "Got as an argument: ring\n",
      "Got as an argument: ing\n",
      "Got as an argument: ng\n",
      "Got as an argument: g\n",
      "Base Case\n",
      "Reassembling g and n into gn\n",
      "Reassembling ng and i into gni\n",
      "Reassembling ing and r into gnir\n",
      "Reassembling ring and t into gnirt\n",
      "Reassembling tring and s into gnirts\n",
      "The reverse of string is gnirts\n"
     ]
    }
   ],
   "source": [
    "def reverser (a_str):\n",
    "   '''Recursive function to reverse a string'''\n",
    "   print(f\"Got as an argument: {a_str}\")\n",
    "\n",
    "   # base case\n",
    "   if len(a_str) == 1:\n",
    "      print(\"Base Case\")\n",
    "      return a_str\n",
    "\n",
    "   # recursive step \n",
    "   else:\n",
    "      new_str = reverser(a_str[1:]) + a_str[0]\n",
    "      print(f\"Reassembling {a_str[1:]} and {a_str[0]} into {new_str}\")\n",
    "      return new_str\n",
    "\n",
    "the_str = input(\"Reverse what string: \")\n",
    "print()\n",
    "result = reverser(the_str)\n",
    "print(f\"The reverse of {the_str} is {result}\")"
   ]
  },
  {
   "cell_type": "markdown",
   "metadata": {},
   "source": [
    "<a id=\"howrecursionworks\"></a>\n",
    "\n",
    "##### **`How Recursion Works`**\n",
    "\n",
    "The computer keeps track of function calls on a data structure known as a **stack,** which is a data structure that grows and shrinks only at one end. \n",
    "\n",
    "In stacks, new data can be added and removed; the order of availability follows the **LIFO** (Last in First Out) model. The last data item added to the stack is the first item retrieved. However, it is important to remember that a stack might fill to a capacity or run out of data items to provide. "
   ]
  },
  {
   "cell_type": "markdown",
   "metadata": {},
   "source": [
    "A stack has three standard operations:\n",
    "\n",
    "**1. Pop:** Removes the item at the top of the stack and returns it. The stack is one element smaller as a result. \n",
    "\n",
    "**2. Push:** Takes a parameter and adds that parameter as an element to the top of the stack. The stack is one element larger as a result. The item just pushed becomes the top element of the stack \n",
    "\n",
    "**3. Top:** Returns but does not remove the top element of the stack. The stack is not modified. \n",
    "\n",
    "<br>\n",
    "\n",
    "|Stack Terminology|Python Terminology|Action|\n",
    "|-----------------|------------------|------|\n",
    "| **top()**       | `List[-1]`       | Return the value of the top stack |\n",
    "| **push(x)**     | `List.append(x)` | Push x onto top of stack |\n",
    "| **y = pop()**   | `y = List.pop()` | Pop top off of stack and assign to y|\n",
    "\n",
    "`.append()` adds an element to the end of the list (the top); `.pop()` removes an element from the end of a list (the top); and the `top` method corresponds to the last element of the list"
   ]
  },
  {
   "cell_type": "markdown",
   "metadata": {},
   "source": [
    "<a id=\"stacksandfunctioncalls\"></a>\n",
    "\n",
    "##### **`Stacks and Function Calls`**\n",
    "\n",
    "Python keeps track of function calls by pushing the namespace for each function call onto a stack. Examining the stack during recursive calls shows how Python keeps track of the many calls to the same function. "
   ]
  },
  {
   "cell_type": "code",
   "execution_count": 16,
   "metadata": {},
   "outputs": [
    {
     "name": "stdout",
     "output_type": "stream",
     "text": [
      "        Enter factorial n =  4\n",
      "        Before recursive call f(3)\n",
      "            Enter factorial n =  3\n",
      "            Before recursive call f(2)\n",
      "                Enter factorial n =  2\n",
      "                Before recursive call f(1)\n",
      "                    Enter factorial n =  1\n",
      "                    Base case\n",
      "                After recursive call f(1) =  1\n",
      "            After recursive call f(2) =  2\n",
      "        After recursive call f(3) =  6\n"
     ]
    },
    {
     "data": {
      "text/plain": [
       "24"
      ]
     },
     "execution_count": 16,
     "metadata": {},
     "output_type": "execute_result"
    }
   ],
   "source": [
    "def factorial(n):\n",
    "\n",
    "   indent = 4*(6-n)*\" \"    # more indent on deeper recursion\n",
    "   print(indent + \"Enter factorial n = \", n)\n",
    "\n",
    "   if n == 1:     # base case\n",
    "      print(indent + \"Base case\")\n",
    "      return 1\n",
    "\n",
    "   else:        # recursive case\n",
    "      print(indent + \"Before recursive call f(\" + str(n-1) + \")\")\n",
    "      rest = factorial(n-1)\n",
    "      print(indent + \"After recursive call f(\" + str(n-1) + \") = \", rest)\n",
    "      return n * rest\n",
    "   \n",
    "factorial(4)"
   ]
  },
  {
   "cell_type": "markdown",
   "metadata": {},
   "source": [
    "Considering the output when `factorial(4)` is outputted, information about the state of each recursive function call is printed out. An **indent** variable was added so that deeper recursion gets more indentation so that it is easier to visualize the recursion. Printed statements with the same indentation are made within the same function instance. \n",
    "\n",
    "In the beginning of the output, there are a series of \"Enter-Before\" pairs that reflect entering each **Function Call (Enter...)** followed by a **Recursive Call(Before...).** This series of pairs reflects the even deeper recursive calls until the base case is finally reached. Each pair is indented as the recursion gets deeper. Each \"After...\" line matches up with a corresponding \"Before...\" line; identical indentation indicates that the lines are being printed in the same function instance. \n",
    "\n",
    "The overall pattern is a series of recursive calls that go deeper and deeper until the base case is reached. This is followed by an unwinding of the sequence of calls, each completing and returning a value until the original factorial value is computed. "
   ]
  },
  {
   "cell_type": "markdown",
   "metadata": {},
   "source": [
    "***\n",
    "<a id=\"classesindetail\"></a>\n",
    "\n",
    "## **Classes in Detail**\n",
    "\n",
    "This section **introduces Classes, Assignment and Copy, Static vs. Instance Variables, Data Encapsulation, Overloading, Inheritance and Polymorphism, and Multiple Inheritance and Abstract Classes**"
   ]
  },
  {
   "cell_type": "markdown",
   "metadata": {},
   "source": [
    "<a id=\"introtoclasses\"></a>\n",
    "\n",
    "#### **`Introduction to Classes`**\n",
    "\n",
    "Object-Oriented Programming (OOP) is a general approach to programming that grew out of a need to handle the increasing complexity of programming. OOP can be better though of as a point of view: a POV that a program is a set of objects, where each object can interact with other program objects to accomplish the programmer's goal:\n",
    "\n",
    "**1.** Each object has some number of **attributes** that are stored within the object\n",
    "\n",
    "**2.** The object responds to some **methods,** which are also attributes, that are particular for that kind of object. "
   ]
  },
  {
   "cell_type": "markdown",
   "metadata": {},
   "source": [
    "There are three characteristics associated with the OOP paradigm:\n",
    "\n",
    "**1. Encapsulation:** Understanding the details of underlying class structure should not be necessary to use an instance of a class. Python gives the class designed the ability to create methods as the interface a class's instances. \n",
    "\n",
    "**2. Polymorphism:** The process of using an operator (such as +) or method to perform different operations depending on the types that invoke them, \n",
    "\n",
    "**3. Inheritance:** Allows the class designer to use the design of an existing class to create a new class. A new class can be creates that specializes an existing class by using the existing class's attributes, specializing only those attributes that distinguish the new class. "
   ]
  },
  {
   "cell_type": "markdown",
   "metadata": {},
   "source": [
    "<a id=\"workingwithoop\"></a>\n",
    "\n",
    "##### **`Working with OOP`**\n",
    "\n",
    "A **class** is a template for making a new object, and that created object is called an **instance.** The instance reflects the structure provided by the class. The class can \"stamp out\" an infinite number of instances, each in the likeness of the class. \n",
    "\n",
    "A class operates in the same way as a `type()`; the type *int*, for example, is a class: a general model of the attributes of an integer and the operations can be performed on an integer. Different integers are each instances of the int type; because they are of the same type, each integer instance shares the operations that can be performed on all integers, but each integer instance has local, individual characteristics (individual value).\n"
   ]
  },
  {
   "cell_type": "markdown",
   "metadata": {},
   "source": [
    "The class template defines the two major aspects of an instance:\n",
    "\n",
    "**1. The attributes that might be contained in each instance**\n",
    "\n",
    "**2. The operations that can be performed on each instance**\n",
    "\n",
    "It is important to remember that the class defines the structure and operations of an instance, but that those operations are operations for class instances, not the class itself. Using the integer class as an example, two integers (instances) can be added, but the int type cannot be added to itself (it would be illegal to do `int + int`).\n",
    "\n",
    "Essentially, a class defines the instance, the potential attributes (not the values) of the instance, and the operations that can be performed on that instance. The most important operation that a class can do is the \"instance-making\" operation; all other operations are associated with the instance. \n"
   ]
  },
  {
   "cell_type": "markdown",
   "metadata": {},
   "source": [
    "<a id=\"workingwithclassesandinstances\"></a>\n",
    "\n",
    "##### **`Working with Classes and Instances`**\n",
    "\n",
    "`Built-In Class and Instance`\n",
    "\n",
    "Any of the built-in data structures are defined as a class: strings, lists, sets, tuples, and dictionaries are classes. These classes can be used to make individual instances using either their respective **constructor.** The constructor creates a new object, which is an instance of the class: these instances have internal attributes and associated methods that may be applied to those instances "
   ]
  },
  {
   "cell_type": "markdown",
   "metadata": {},
   "source": [
    "When an instance is made of any of the built-in data structures, the new instance has a type: the type of the class it was created from. As a result, certain methods defined by the class are available to those instances; however, when an instance attempts to use a method not defined as part of the class, an error results."
   ]
  },
  {
   "cell_type": "markdown",
   "metadata": {},
   "source": [
    "`Example Class`\n",
    "\n",
    "A class definition starts with the `class` keyword, followed by the class name. As with all names, the class name must adhere to normal Python naming rules: these names use the **CapWords** apprach, where each word is capitalized and joined together without underscores. \n",
    "\n",
    "```python\n",
    "class MyClass(object):\n",
    "   pass\n",
    "\n",
    "my_instance = MyClass()\n",
    "\n",
    "type(my_instance)\n",
    "→ __main__.MyClass\n",
    "```\n",
    "\n",
    "* **`Class`**: Keyword indicating class is being defined\n",
    "\n",
    "* **`MyClass`**: Classname. Must follow variable naming rules\n",
    "\n",
    "* **`(object):`**: Parent object, and the suite follows the colon\n",
    "\n",
    "* **`suite`**: In the example, pass is the class suite. This contains code to define class, typically methods or variable assignments. \n",
    "\n",
    "The keyword **class** makes a new association in a namespace. The name that follows the keyword is the name of the class and that name becomes associated with a class object. After the class name, the name of the parent class of the class is included\n",
    "\n",
    "Even if no attributes have been given to a user class, as in the example, there will be a set of attributes beginning and ending with double underscore characters. Python reserves a number of special methods and variables with a pair of underscore characters, which have predefined meaning to Python in its OOP class system. "
   ]
  },
  {
   "cell_type": "code",
   "execution_count": 17,
   "metadata": {},
   "outputs": [
    {
     "data": {
      "text/plain": [
       "['__class__',\n",
       " '__delattr__',\n",
       " '__dict__',\n",
       " '__dir__',\n",
       " '__doc__',\n",
       " '__eq__',\n",
       " '__format__',\n",
       " '__ge__',\n",
       " '__getattribute__',\n",
       " '__gt__',\n",
       " '__hash__',\n",
       " '__init__',\n",
       " '__init_subclass__',\n",
       " '__le__',\n",
       " '__lt__',\n",
       " '__module__',\n",
       " '__ne__',\n",
       " '__new__',\n",
       " '__reduce__',\n",
       " '__reduce_ex__',\n",
       " '__repr__',\n",
       " '__setattr__',\n",
       " '__sizeof__',\n",
       " '__str__',\n",
       " '__subclasshook__',\n",
       " '__weakref__']"
      ]
     },
     "execution_count": 17,
     "metadata": {},
     "output_type": "execute_result"
    }
   ],
   "source": [
    "class MyClass(object):\n",
    "   pass\n",
    "\n",
    "dir(MyClass)"
   ]
  },
  {
   "cell_type": "markdown",
   "metadata": {},
   "source": [
    "Even though nothing has been included in the previous class definition, a class comes with built-in abilities. It has the ability to make an instance. When creating a class, the programmer is given the opportunity to affect the instance-creation process, but even if they choose not to avail themselves of it, the class can make an instance. \n",
    "\n",
    "Any class's instance-making function can be invoked using the **name of the class as a function.** Using the previous example, `MyClass()` is the instance creation function: constructor. Because the class is empty, the default instance-making ability of Python is used. \n",
    "\n",
    "The `dir()` function can be used to see what attributes the instance contains. The instance attributes look like the class attributes because the instance was made from the class as a template. The instance is of the type of the class; an instance is made from a class and carries that class as a type. By creating a class, a new type is created which instances can be made of that type. "
   ]
  },
  {
   "cell_type": "markdown",
   "metadata": {},
   "source": [
    "`Changing Attributes`\n",
    "\n",
    "In general, any object can be referenced using the standard dot notation. As in any other assignment, the variable is assigned internally to the object when the dot notation is used. That is, as with other objects, a class and instance have a namespace, and when a new assignment is made, the name is added to the namespace. \n",
    "\n",
    "To create a variable in Python, a value is assigned to it. The same is true for an object attribute. To create a new attribute in an object, the programmer assigns a value to an object attribute, that is, to `object_name.attribute_name` using the dot notation. \n",
    "\n",
    "An attribute can be created via assignment: `MyClass.class_attribute = 'hello'`, resulting in the attribute **class_attribute** being added to **MyClass** with the value **'hello'.** This value can be printed using a normal `print()` statement and the full name: **print(MyClass.class_attribute).** After this is done, the `dir()` function can be used on the class, which will show that the assigned class (.class_attribute) is part of MyClass. \n",
    "\n",
    "The namespace for a class is named `__dict__`. An attribute can be added to an instance using the dot notation and assignment. As before, the attribute's value can be viewed by printing it. "
   ]
  },
  {
   "cell_type": "markdown",
   "metadata": {},
   "source": [
    "`Relationship Between an Instance and Class: Instance-of`\n",
    "\n",
    "From the previous section, the attribute **class_attribute**, set to be part of MyClass, shows up as an attribute of my instance, even though a class attribute was never assigned to the instance. \n",
    "\n",
    "```python\n",
    "class MyClass(object):\n",
    "   pass\n",
    "\n",
    "my_instance = MyClass()\n",
    "MyClass.class_attribute = 'hello'\n",
    "my_instance.instance_attribute = 'world'\n",
    "\n",
    "dir(my_instance)\n",
    "→ ['__class__', ... , 'class attribute', 'instance attribute']\n",
    "\n",
    "print(my_instance.__class__)\n",
    "→ <class '__main__.MyClass'>\n",
    "\n",
    "type(my_instance)\n",
    "→ __main__.MyClass\n",
    "\n",
    "print(my_instance.instance_attribute)\n",
    "→ world\n",
    "\n",
    "print(my_instance.class_attribute)\n",
    "→ hello\n",
    "\n",
    "print(Myclass.instance_attribute)\n",
    "→ Error \n",
    "```\n",
    "\n",
    "A special relationship holds between a class and its instance. This relationship is often called an **instance-of relationship.** Every instance is related to its respective class by the instance-of relationship: the instance is an instance-of its template class. When an instance is created, the class from which it was created is recorded in the special attribute name **`__class__`** in the instance. In this way, an instance always \"remembers\" its class, the template from which it was created.\n",
    "\n",
    "The scope of a variable is related to the namespace that defines where a variable is referenced. The previous rule was **L(ocal)E(nclosing)G(lobal)B(Built-in).** If it cannot be found in that search process, then the variable is undefined. This rule is similar to that of **objects:** different namespaces can be searched to find the value associated with a name. The instance-of relationship provides half of the object rule: if the nae cannot be found in the instance itself, Python will look up the instance-of relation to see whether the name can be found in the associated class namespace. In this way, OOP provides an economy of definition . A name defined in the class namespace is available to all instances of that class. **The class acts as a kind of global repository for attributes to be used and shared by all its instances.** This is how `class_attribute` becomes available to `my_instance`; it is not found in the instance itself, but is found in the class, MyClass, that formed my_instance. It is important to note that the relationship does not hold both ways: Python throws an error if `print(MyClass.instance_attribute)` is inputted. \n",
    "\n",
    "A programmer can override the class-global definition because the rule is to first look in the instance, then the class, defining any attribute in the instance overrides the definition of the class. If an attribute is changed in from the class, every instance of the class will be affected by the change, unless they have changed the attribute locally. \n"
   ]
  },
  {
   "cell_type": "markdown",
   "metadata": {},
   "source": [
    "<a id=\"objectmethods\"></a>\n",
    "\n",
    "#### **`Object Methods`**\n",
    "\n",
    "As previously mentioned, a method and a function are different. A **function** is a small-program (an encapsulation of an operation). It takes in a parameter and returns a value. By providing encapsulation of a task, more readable code can be written. Functions that define the operations that can be done on an object are called **methods.**"
   ]
  },
  {
   "cell_type": "markdown",
   "metadata": {},
   "source": [
    "To call a method, the same dot notation that is used for attributes is used. The notation works because a method is just another attribute of an object; a method is a callable (invokable) attribute. However, without putting closing parentheses on the method, a value indiciating that the attribute is a method of the object will be returned; to invoke it, parentheses after the method name must be used:\n",
    "\n",
    "```python\n",
    "a_str = \"hello world\"\n",
    "print(a_str.count(\"l\"))\n",
    "→ 3 \n",
    "\n",
    "print(a_str.count)\n",
    "→ <built-in method count of str object at 0xcb0f20>\n",
    "```"
   ]
  },
  {
   "cell_type": "markdown",
   "metadata": {},
   "source": [
    "In this example, it is important to note that `a_str` is the object that is used in the calling of the method (count). Both the type of the object and the method name are used to find the correct method. Using both names directs Python to the correct method even if it is overloaded. Similarly, the calling object is part of the invocation. It is essentially another argument to the method. "
   ]
  },
  {
   "cell_type": "markdown",
   "metadata": {},
   "source": [
    "<a id=\"writingmethodsandselfarg\"></a>\n",
    "\n",
    "##### **`Writing Methods and Self Argument`**\n",
    "\n",
    "When defining a method, there are really only a few differences between it and a function: **where a method is defined** and **an extra argument that is added to every method.**\n",
    "\n",
    "Methods are added to a class by defining functions in the suite of a class. By providing these specialized functions in the class, those functions become available to every instance made from the class using the class-instance scope rules. "
   ]
  },
  {
   "cell_type": "code",
   "execution_count": 18,
   "metadata": {},
   "outputs": [
    {
     "name": "stdout",
     "output_type": "stream",
     "text": [
      "output of dir:(my_instance):  ['__class__', '__delattr__', '__dict__', '__dir__', '__doc__', '__eq__', '__format__', '__ge__', '__getattribute__', '__gt__', '__hash__', '__init__', '__init_subclass__', '__le__', '__lt__', '__module__', '__ne__', '__new__', '__reduce__', '__reduce_ex__', '__repr__', '__setattr__', '__sizeof__', '__str__', '__subclasshook__', '__weakref__', 'class_attribute', 'my_method']\n",
      "\n",
      "hello world\n",
      "The object that called this method is <__main__.MyClass object at 0x00000185538E67F0>\n",
      "Instance has a new attribute with value 'world'\n",
      "output of dir(my_instance):  ['__class__', '__delattr__', '__dict__', '__dir__', '__doc__', '__eq__', '__format__', '__ge__', '__getattribute__', '__gt__', '__hash__', '__init__', '__init_subclass__', '__le__', '__lt__', '__module__', '__ne__', '__new__', '__reduce__', '__reduce_ex__', '__repr__', '__setattr__', '__sizeof__', '__str__', '__subclasshook__', '__weakref__', 'class_attribute', 'instance_attribute', 'my_method']\n"
     ]
    }
   ],
   "source": [
    "class MyClass(object):\n",
    "   class_attribute = 'world'\n",
    "\n",
    "   def my_method (self, param1):\n",
    "      print(f'\\nhello {param1}')\n",
    "      print(f'The object that called this method is {str(self)}')\n",
    "      self.instance_attribute = param1\n",
    "\n",
    "my_instance = MyClass()\n",
    "print(\"output of dir:(my_instance): \", dir(my_instance))\n",
    "my_instance.my_method('world')\n",
    "print(f\"Instance has a new attribute with value '{my_instance.instance_attribute}'\")\n",
    "print(f\"output of dir(my_instance): \", dir(my_instance))\n"
   ]
  },
  {
   "cell_type": "markdown",
   "metadata": {},
   "source": [
    "The method, `my_method` takes a single argument. The parameter, **param1**, can also be seen in the method definition. This is invoked by calling the method in the context of an instance of the class. The scope search process looks first in the instance, and not finding the method there, looks next in the class and, finding the method is in the class, runs that method. "
   ]
  },
  {
   "cell_type": "markdown",
   "metadata": {},
   "source": [
    "`Self Argument`\n",
    "\n",
    "From the previous example, the invocation only had one argument passed, but two parameters show up in the definition of the method: **self** and **param1.**\n",
    "\n",
    "Python automatically maps the first parameter in a method definition to the object that called the method. Traditionally, the first parameter is called `self`, indicating that the object calling the method on is the object itself. The variable can be called anything, but self is the expected name. The name **self** allows the programmer to always have a way to reference the object that called the method. Anywhere in the method where the code references self, the object that called the method is being referenced. In this way, the method's operation can be performed on the object that called it. \n",
    "\n",
    "Considering the previous code example, in the class definition, **my_method** prints the value of **self** and also performs the following operation: **self.instance_attribute = param1.** This means that the object that called the method (in this case my_instance) is associated with self, and self has a new attribute added to it called instance_attribute. \n",
    "\n",
    "It is important to remember that the method parameter **self** must always be placed as the first parameter in any method definition. Further, any reference to the calling object must be made through self; that is, when refering to part of the calling object, dot referencing is used. "
   ]
  },
  {
   "cell_type": "markdown",
   "metadata": {},
   "source": [
    "<a id=\"classmodel\"></a>\n",
    "\n",
    "#### **`The Python Class Model`**\n",
    "\n",
    "Every OOP approach provides an underlying class model that the class designed uses; Python does as well. What counts as an object depends on the context of the program. By making objects that make sense in the context of the program, it is easier to design the program. By designing the objects and how they interact, an overall design unfolds. "
   ]
  },
  {
   "cell_type": "markdown",
   "metadata": {},
   "source": [
    "<a id=\"newclass_ex\"></a>\n",
    "\n",
    "##### **`Example Class: Explained`**\n",
    "\n",
    "```python\n",
    "class Student(object):\n",
    "   def __init__(self, first='', last='', id=0):\n",
    "      self.first_name_str = first\n",
    "      self.last_name_str = last\n",
    "      self.id_int = id\n",
    "\n",
    "   def update(self, first='', last='', id=0):\n",
    "      if first:\n",
    "         self.first_name_str = first\n",
    "      if last:\n",
    "         self.last_name_str = last\n",
    "      if id:\n",
    "         self.id_int = id\n",
    "\n",
    "   def __str__(self):\n",
    "      return f\"{self.first_name_str} {self.last_name_str}, ID:{self.id_int}\"\n",
    "\n",
    "\n",
    "s1 = Student()\n",
    "print(s1.last_name_str)\n",
    "→ Nothing\n",
    "\n",
    "s2 = Student(last='Python', first='Monty')\n",
    "print(s2.last_name_str)\n",
    "→ Python\n",
    "```"
   ]
  },
  {
   "cell_type": "markdown",
   "metadata": {},
   "source": [
    "This example class has three attributes: **id_int**, **last_name_str**, and **first_name_str**.  \n",
    "\n",
    "Two instances of the Student() class are created: s1 and s2. The first instance, **s1**, is created without any arguments to the constructor call. Since a default value (empty) is specified for the last parameter, the value of last_name_str is empty. However, the second instance, **s2**, is made with two of the three arguments. \n",
    "\n",
    "It is important to remember that each instance carries its own copies of the three attributes, since they were created by assignment in the `__init__` method; they are part of the instance's namespace. \n",
    "\n",
    "There are also three methods in the example class:\n",
    "\n",
    "**1. `__init__`:** This is a **constructor** method because it is part of the sequence constructing a new instance of a class. When an instance is made of the class by using the name of the class as a function, the user can affect the creation of that instance through this method.\n",
    "\n",
    "   * Python creates a default instance when a constructor is called (when the name of a class is used as a function). After the default instance is made, Python searches for an `__init__` method in the class. If it is found, then the newly created default instance is passed to the parameter **self** of `__init__`, the remaining arguments are passed to the method's parameters. \n",
    "\n",
    "   * The instance is modified according to the `__init__` method suite. The updated instance is then returned from `__init__`. If no such method exists, then the default instance is returned. \n",
    "\n",
    "   * It is important to note that `__init__` does not have an explicit **return** statement. In fact, a return statement is forbidden for this method. This is because `__init__` is part of the instance creation cycle, so Python handles the return automatically\n",
    "\n",
    "   * By providing an `__init__` method, the class designer can add attributes to any instance made of that class. Because the dot-notation assignment creates attributes, the designed must make an assignment to **self.new_attribute**, creating the attribute as part of the instance. It is important to assign some value to each attribute, as assignment is how a value attribute is created. \n",
    "\n",
    "**2. `__str__`:** Mmethod to provide a string that represents the instance. This method is most useful in calls to the `print()` statement, as the print statement attempts to convert any object it is provided into a string.\n",
    "\n",
    "   * For the specific example class, the `__str__` method creates a single string that brings together the three attributes and returns that string. When a print function is called, the object is \"converted\" to a string and printed. \n",
    "\n",
    "   * The followng session uses the `__str__` method:\n",
    "   ```python\n",
    "   s1 = Student()\n",
    "   print(s1)\n",
    "   →  , ID:0\n",
    "\n",
    "   s2 = Student(first='Monty', last='Python')\n",
    "   print(s2)\n",
    "   → Monty Python, ID:0\n",
    "   ```\n",
    "\n",
    "**3. `update`:** Specific to the class, but allows modification to the user-defined attributes."
   ]
  },
  {
   "cell_type": "markdown",
   "metadata": {},
   "source": [
    "<a id=\"pyspecoopfeats\"></a>\n",
    "\n",
    "#### **`Python OOP Features`**\n",
    "\n",
    "While Python provides classes and OOP support, it differs from other OOP languages"
   ]
  },
  {
   "cell_type": "markdown",
   "metadata": {},
   "source": [
    "<a id=\"pubvpriv\"></a>\n",
    "\n",
    "##### **`Public versus Private`**\n",
    "\n",
    "Given the nature of the two groups using a class (class designer and programmer), one can differentiate the access that a member of each group can have. That is, the class designer may want to control and protect internal class structure from access other than that provided by methods. In doing so, the designer guarantees that the provided interface remains constant, but the designer can still modify the internal strucutre otherwise to meet changing demand. "
   ]
  },
  {
   "cell_type": "markdown",
   "metadata": {},
   "source": [
    "* **Public Attributes (variables, methods):** available to everyone (designer and programmer)\n",
    "\n",
    "* **Private Attributes (variables, methods):** available to only the designer\n",
    "\n",
    "Separation helps with large software development. Guarantees of public access to an object, while providing flexibility on private aspects of the object allows code to be written that can be more easily adapted to changing demands and requirements. "
   ]
  },
  {
   "cell_type": "markdown",
   "metadata": {},
   "source": [
    "<a id=\"privdoubleunder\"></a>\n",
    "\n",
    "##### **`Indicating Privacy with Double Underscores`**\n",
    "\n",
    "All methods and instance variables are public, so both designers and programmers have access. Python provides support for the designer to indicate attributes that the programmer should not modify directly."
   ]
  },
  {
   "cell_type": "markdown",
   "metadata": {},
   "source": [
    "Whenever there is an attribute with **two leading underscores**, the variable is considered **private.** This means that this value should not be changed or modified. To prevent this from happening, Python mangles the name of the attribute for outside use.\n",
    "   * For example, an attribute names **__attribute** is changed to be **_ClassName__attribute** for outside use\n",
    "\n",
    "```python\n",
    "class NewClass(object):\n",
    "   def __init__(self, attribute='default', name='Instance'):\n",
    "      self.name = name # public attribute\n",
    "      self.__attribute = attribute # private attribute\n",
    "\n",
    "   def __str__(self):\n",
    "      return f\"{self.name} has attribute {self.__attribute}\"\n",
    "\n",
    "inst1 = NewClass(name='Monty', attribute='Python')\n",
    "print(inst1)\n",
    "→ Monty has attribute Python\n",
    "\n",
    "print(inst1.name)\n",
    "→ Monty\n",
    "\n",
    "print(inst1.__attribute)\n",
    "→ AttributeError: 'newClass' object has no attribute '__attribute'\n",
    "\n",
    "print(inst1._NewClass__attribute)\n",
    "→ Python\n",
    "```\n",
    "\n",
    "In the `__init__` method, two attributes are assigned: **name** and **__attribute.** By preceding the second with two underscores, it indicates that the attribute is private and should not be accessed. Python changes the attribute name so that, if the provided attribute name is referenced outside of the class, an error is thrown. However, using the original attribute name within the class, such as in a method of the class (e.g, `__str__`) is allowed. \n",
    "\n",
    "Considering the `__str__` method, it makes reference to the name directly as **self.__attribute.** The `__str__` method is permitted this access, as it is within the class. "
   ]
  },
  {
   "cell_type": "markdown",
   "metadata": {},
   "source": [
    "<a id=\"moreonclasses\"></a>\n",
    "\n",
    "#### **`More on Classes`**\n",
    "\n",
    "To add onto *encapsulation*, **consistency** is an important concept to know. There are two characteristics to consider with this concept: \n",
    "\n",
    "* A new class should be consistent with the rules and syntax of the language\n",
    "\n",
    "* A new class should respond to \"standard methods\" (such as construction, printing, and iteration) that are appropriate for the object\n",
    "\n",
    "A created class should behave like any other object so that it can be used in a natural way, just like they have used other objects. "
   ]
  },
  {
   "cell_type": "markdown",
   "metadata": {},
   "source": [
    "<a id=\"variationonimportfrom\"></a>\n",
    "\n",
    "##### **`Variation on Import, from`**\n",
    "\n",
    "The general form `from module import *` is a variation on the syntax. The other import module form requires the programmer to precede every member of that module with the module name, for example **frac_class.Rational()** to call a constructor. While this statement is very clear, it is also tedious to type. The alternate syntax imports contents of the module directly into the top level of Python: every element of the module becomes part of the global scope of the Python interpreter. "
   ]
  },
  {
   "cell_type": "code",
   "execution_count": 2,
   "metadata": {},
   "outputs": [
    {
     "name": "stdout",
     "output_type": "stream",
     "text": [
      "2.0\n",
      "2.0\n"
     ]
    }
   ],
   "source": [
    "import math\n",
    "print(math.sqrt(4))\n",
    "\n",
    "from math import *\n",
    "print(sqrt(4))\n"
   ]
  },
  {
   "cell_type": "markdown",
   "metadata": {},
   "source": [
    "Using the two types of import, the global value dictionary changes. After the first import, the only change to the global dictionary is the inclusion of the math package (with a value pointing to the math package library). From the example, the `sqrt` function can be invoked using `math.sqrt(num)`.\n",
    "\n",
    "After the second import, using the new import syntax, all of the elements of the module are directly available without the package prefix. They would all be part of the global namespace pf Python. From the example, the `sqrt` function can be invoked by only using `sqrt(num)`.\n",
    "\n",
    "This new syntax offers positives and negatives. As a positive, there would be a shortened name for everything. Instead of typing **frac_class.Rational()**, only **Rational()** can be typed to run the constructor. As a negative, the global namespace is polluted. If the imported module has a function with the same name as one in the global namespace, the first mentioned function will get overwritten: if a function is defined before a module is imported into the global namespace (that contains a function with the same name), then the user-defined function will be overwritten. The opposite would be true if a module was imported before a function is defined. \n",
    "\n",
    "It is preferable to `import module` or to specifically import names with `from module import name1, name2`. In this case, only the specifically imported names would be imported into the global namespace. This is especially good if the programmer knows what they need from the module."
   ]
  },
  {
   "cell_type": "markdown",
   "metadata": {},
   "source": [
    "<a id=\"introspection\"></a>\n",
    "\n",
    "##### **`Introspection`**\n",
    "\n",
    "When a new class is created, a new type is created. With numbers. Type does not go with a variable name, but instead with the object with which the name is associated. Because the type associated with any variable name can change, it is useful to be able to inquire about the type of the object presently associated with the variable: this process is known as **introspection.** That is, while the program is running, it is possible to ask the object (or a variable associated with an object) what type the object is. Python offers two different introspection functions:"
   ]
  },
  {
   "cell_type": "markdown",
   "metadata": {},
   "source": [
    "* The **`type()`** function returns the type of the object associated with the variable. It can be invoked via type(variable)\n",
    "\n",
    "* The **`isinstance()`** function returns a Boolean indicating whether the object is of a specified type. It can be invoked via isinstance(object, type)"
   ]
  },
  {
   "cell_type": "code",
   "execution_count": 19,
   "metadata": {},
   "outputs": [
    {
     "name": "stdout",
     "output_type": "stream",
     "text": [
      "What type is math.pi? <class 'float'>\n",
      "Is math.pi a float? True\n",
      "Is math.pi a list? False\n",
      "What type is a list? <class 'type'> \n",
      "\n",
      "What type is my_instance? <class '__main__.MyClass'>\n",
      "What type is MyClass <class 'type'>\n",
      "Is my_instance of the MyClass type? True\n"
     ]
    }
   ],
   "source": [
    "import math\n",
    "\n",
    "print(\"What type is math.pi?\", type(math.pi))\n",
    "print(\"Is math.pi a float?\", isinstance(math.pi, float))\n",
    "print(\"Is math.pi a list?\", isinstance(math.pi, list))\n",
    "print(\"What type is a list?\", type(list),\"\\n\")\n",
    "\n",
    "class MyClass(object):\n",
    "   pass\n",
    "\n",
    "my_instance = MyClass()\n",
    "print(\"What type is my_instance?\", type(my_instance))\n",
    "print(\"What type is MyClass\", type(MyClass))\n",
    "print(\"Is my_instance of the MyClass type?\", isinstance(my_instance, MyClass))\n"
   ]
  },
  {
   "cell_type": "markdown",
   "metadata": {},
   "source": [
    "From this session, it is important to note:\n",
    "\n",
    "* Every type has a name, and that name is associated with a Pythob object. For example, float and list are names associated with types float and list respectively. These are the names that can be used when doing a comparison in the `isinstance()` function\n",
    "\n",
    "* The **type** of a type such as floar or list is **type.** Essentially, the type of Python types is type.\n",
    "\n",
    "* Even if a constructor isn't defined for a class, one is provided by default and an instance can be created using the class name as a constructor. \n",
    "\n",
    "* The type of an instance is of the type of its class. "
   ]
  },
  {
   "cell_type": "markdown",
   "metadata": {},
   "source": [
    "<a id=\"creatingoperatoroverloading\"></a>\n",
    "\n",
    "##### **`Creating Operator Overloading`**\n",
    "\n",
    "It is possible to create operator overloads for the created class. However, there are two requirements for overloading: a way to do so introspection and a way to relate operators and methods. Python establishes a relationship between operators and methods as part of its standard class mechanism. The relationship is fixed by Python: which operators can use and the method name that Python associates with each operator. If one of the special method names are provided in the class, then instances of that class can respond to the associated operator through the method name. "
   ]
  },
  {
   "cell_type": "markdown",
   "metadata": {},
   "source": [
    "Consider the example of `var1 + var2`. Python associates the $+$ operator with the special method name `__add__`. Firstly, Python determines the type of **var1.** Once determined, Python looks for the special method `__add__` in the class of **var1.**\n",
    "\n",
    "Overall, Python associates special method names with operators of the following three general class:\n",
    "\n",
    "* **math-like operators,** such as $+, -, *, /$\n",
    "* **collection operators,** such as [ ], len\n",
    "* **general class operators,** such as methods for printing, construction, etc"
   ]
  },
  {
   "cell_type": "markdown",
   "metadata": {},
   "source": [
    "**`Math-like Operators`**\n",
    "\n",
    "|Expression|Method Name|Description|\n",
    "|----------|-----------|-----------|\n",
    "|**x \\| y**|`__add__()`|Addition   |\n",
    "|**x - y** |`__sub__()`|Subtraction|\n",
    "|**x * y** |`__mul__()`|Multiplication|\n",
    "|**x/y**   |`__div__()`|Division   |\n",
    "|**x==y**  |`__eq__()` |Equality   |\n",
    "|**x>y**   |`__gt__()` |Greater Than|\n",
    "|**x>=y**  |`__ge__()` |Greater Than or Equal|\n",
    "|**x<y**   |`__lt__()` |Less Than  |\n",
    "|**x<=y**  |`__le__()` |Less Than or Equal| \n",
    "|**x!=y**  |`__ne__()` |Not Equal  |\n",
    "\n",
    "\n",
    "<br>\n",
    "<br>\n",
    "\n",
    "\n",
    "**`Sequence Operators`**\n",
    "\n",
    "|Expression|Method Name|Description|\n",
    "|----------|-----------|-----------|\n",
    "|**len(x)**|`__len__()`|Length of the sequence|\n",
    "|**x in y**|`__contains__()`|Does the sequence y contain x|\n",
    "|**x[key]**|`__getitem__()`|Access element key of sequence x|\n",
    "|**x[key]=y**|`__setitem__()`|Set element key of sequence x to value y|\n",
    "\n",
    "\n",
    "<br>\n",
    "<br>\n",
    "\n",
    "\n",
    "**`General Class Operations`**\n",
    "\n",
    "|Expression|Method Name|Description|\n",
    "|----------|-----------|-----------|\n",
    "|**x=myClass( )**|`__init__()`|Constructor|\n",
    "|**print (x), str(x)**|`__str__()`|Convert to a readable string|\n",
    "|^|`__repr__()`|Print a representation of x|\n",
    "|^|`__del__()`|Finalizer, called when x is garbage collected|"
   ]
  },
  {
   "cell_type": "markdown",
   "metadata": {},
   "source": [
    "<a id=\"mappingopertospecmeth\"></a>\n",
    "\n",
    "##### **`Mapping Operators to Special Methods`**\n",
    "\n",
    "The details of how $+$ gets mapped to `__add__` is particular to Python's standard class structure. Class designers have to fit into the Python mold for this mapping by providing the appropriate methods "
   ]
  },
  {
   "cell_type": "markdown",
   "metadata": {},
   "source": [
    "```python\n",
    "var1 + var2 → var1.__add__(var2)\n",
    "```\n",
    "\n",
    "These expressions are equivalent: either do the same, but the first is more familiar. The first variable in a binary operation (in this case, var1) becomes the variable that calls the associated method (in this case, `__add__`) and the second variable becomes the argument (in parentheses). For example, if the operands are reversed:\n",
    "\n",
    "```python\n",
    "var2 + var1 → var2.__add__(var1)\n",
    "```\n",
    "\n",
    "It is important to remember that **order matters.** In the following example, extra print statements have been added to the methods to illustrate when these functions are called. Print statements can help when developing and debugging functions and should be removed once the code is working correctly"
   ]
  },
  {
   "cell_type": "code",
   "execution_count": 49,
   "metadata": {},
   "outputs": [
    {
     "name": "stdout",
     "output_type": "stream",
     "text": [
      "in constructor\n",
      "<class '__main__.MyClass'> \n",
      "\n",
      "in str\n",
      "Val is 27 \n",
      "\n",
      "in add\n",
      "in constructor\n",
      "\n",
      " in str\n",
      "Val is 54\n"
     ]
    }
   ],
   "source": [
    "class MyClass(object):\n",
    "   def __init__(self, param1=0):\n",
    "      '''constructor, sets attribute value to param1, default is 0'''\n",
    "      print('in constructor')\n",
    "      self.value = param1\n",
    "\n",
    "   def __str__(self):\n",
    "      '''convert val attribute to string'''\n",
    "      print('in str')\n",
    "      return f\"Val is {str(self.value)}\"\n",
    "   \n",
    "   def __add__(self, param2):\n",
    "      '''perform addition with param2, a MyClass instance. \n",
    "      Return a new MyClass instance with sum as value attribute'''\n",
    "      print('in add')\n",
    "      result = self.value + param2.value\n",
    "      return MyClass(result)\n",
    "   \n",
    "inst1 = MyClass(27)\n",
    "print(type(inst1), \"\\n\")\n",
    "\n",
    "print(inst1, \"\\n\") # calls __str__\n",
    "\n",
    "a_sum = inst1 + inst1  # calls __add__\n",
    "print(\"\\n\", a_sum)\n"
   ]
  },
  {
   "cell_type": "markdown",
   "metadata": {},
   "source": [
    "Based on the session:\n",
    "\n",
    "* When inst1 was created, the constructor, via the `__init__` method, was called and the associated print statement \"in constructor\" was printed\n",
    "\n",
    "* The name inst1 is of type MyClass, and MyClass is of type **type.**\n",
    "\n",
    "* The statement **print(inst1)** cals `__str__` to convert the instance to a string. This is seen by the \"in str\" printed line\n",
    "\n",
    "* When the line **a_sum = inst1 + inst1** is invoked, the add method is called. Python translated \"$+$\" to `__add__`. Similarly, the constructor is called when a new instance of MyClass in `__add__` is made\n",
    "\n",
    "* The variable a_sum is assigned to an object of type MyClass since `__add__` returned a new MyClass instance. "
   ]
  },
  {
   "cell_type": "markdown",
   "metadata": {},
   "source": [
    "<a id=\"buildingaclass\"></a>\n",
    "\n",
    "#### **`Building a Class`**\n",
    "\n",
    "To implement a real class, the previously mentioned methods with the double underscores should be used, depending on the created class. This example class is specific to **Rational Numbers:**\n",
    "\n",
    "* **`__init__()`** **always needed**\n",
    "\n",
    "* **`__str__()`** **always needed**\n",
    "\n",
    "* **`__add__()`** for the \"$+$\" operator\n",
    "\n",
    "* **`__sub__()`** for the \"$-$\" operator\n",
    "\n",
    "* **`__eq__()`** for the \"$==$\" operator"
   ]
  },
  {
   "cell_type": "markdown",
   "metadata": {},
   "source": [
    "<a id=\"classstepone\"></a>\n",
    "\n",
    "##### **`Step One`**\n",
    "\n",
    "The first step in designing a class is to define the structure of the class; in particular, define the `__init__` method that establishes the attributes included in each instance. For the example **rational number class,** each instance will have a numerator and a denominator, both integers. Similarly, the `__str__` method needs to be established to be able to print a rational number instance. "
   ]
  },
  {
   "cell_type": "markdown",
   "metadata": {},
   "source": [
    "Within the interpreter, it is also expected to be able to type the name of a variable and have its associated object displayed. The method that Python calls to accomplish this is `__repr__` (short for representation). If this method is not included, then Python types a default value. It is usually recommended to include this in a class. It is usually sufficient for the `__repr__` implementation to call the `__str__` method, as seen in the next example. Note the dot notation and the use of **self** in the call to the `__str__` method.\n",
    "\n",
    "As with the previous example, additional print statements are included to help recognize when those methods are called. This is the first step of the example class:\n",
    "\n",
    "```python\n",
    "class Rational(object):\n",
    "   def __init__(self,numer,denom=1):\n",
    "      print('in constructor')\n",
    "      self.numer = numer\n",
    "      self.denom = denom\n",
    "\n",
    "   def __str__(self):\n",
    "      print('in str')\n",
    "      return str(self.numer)+'/'+str(self.denom)\n",
    "   \n",
    "   def __repr__(self):\n",
    "      print('in repr')\n",
    "      return self.__str__(str)\n",
    "```"
   ]
  },
  {
   "cell_type": "markdown",
   "metadata": {},
   "source": [
    "* `__init__` assigns the two attributes to each instance: numer and denom. It also takes a default argument on parameter two (denom). If only the numerator is provided, the denomintator will be 1, meaning that the fractional value will be the value of the numerator.\n",
    "\n",
    "* `__str__` creates a new string by concatenation. It converts the numerator and denominator to strings and places a slash between them. It then returns that combined string\n",
    "\n",
    "* The `__repr__` method, called when an instance value is required by the interpreter, simply calls the `__str__` method. Note how it is called. The variable **self** is in the instance being printed. The string is given by invoking `self.__str__()`, an explicit call to `__str__`"
   ]
  },
  {
   "cell_type": "markdown",
   "metadata": {},
   "source": [
    "```python\n",
    "inst1_Rational = Rational(1,2)\n",
    "→ in constructor\n",
    "\n",
    "print(inst1_Rational)\n",
    "→ in str\n",
    "→ 1/2\n",
    "\n",
    "inst1_Rational # interpreter calls __repr__ to print\n",
    "→ in repr\n",
    "\n",
    "→ in str\n",
    "→ 1/2\n",
    "\n",
    "inst2_Rational = Rational(2)\n",
    "→ in constructor\n",
    "\n",
    "inst2_Rational\n",
    "→ in repr\n",
    "\n",
    "→ in str\n",
    "→ 2/1\n",
    "```\n",
    "\n",
    "* When a new **Rational** instance is created, the constructor `__init__` is called, indicated by the print statement \"in constructor\"\n",
    "\n",
    "* When a **Rational** instance is printed, the `__str__` is called\n",
    "\n",
    "* When a variable name is typed in the shell containing a **Rational** instance, Python calls `__repr__`\n",
    "\n",
    "* If only one value is provided to the **Rational** constructor, it is assumed to be the numerator, so the denominator is set to 1 by default\n",
    "\n",
    "* The type of a **Rational** instance is the **Rational** class"
   ]
  },
  {
   "cell_type": "markdown",
   "metadata": {},
   "source": [
    "<a id=\"classsteptwo\"></a>\n",
    "\n",
    "##### **`Step Two`**\n",
    "\n",
    "The second step is to add more functionality. This portion will add the fractions together by using the common denominator. One method is to determine the common denominator is the ***least common multiple* (LCM)** of the two denominators. The ***greatest common divisor* (GCD)** is the largest value that divides two values without a remainder. "
   ]
  },
  {
   "cell_type": "markdown",
   "metadata": {},
   "source": [
    "An easy method to find the GCD is to divide the larger number by the smaller number and return the remainder. The remainder is then divided by the previous smaller number. This process is continued until the remainder is 0; when the remainder is 0, the newer smaller number is the GCD:\n",
    "\n",
    "**GCD(8,20)** → 20%8 = 4 → **GCD(8,4)** → 8%4 = 0 → **GCD(4,0)** = 4 is the GCD of 20 and 8 \n",
    "\n",
    "This can be rewritten so that it is easier to implement in Python. Two positive integers are named: **bigger** and **smaller.**\n",
    "\n",
    "**1.** If smaller == 0, return bigger and stop\n",
    "\n",
    "**2.** Find the remainder of bigger divided by smaller: *bigger%smaller*\n",
    "\n",
    "**3.** Reapply the algorithm using smaller and the remainder\n",
    "\n",
    "The algorithm continues until smaller == 0, which is equivalent to continuing while smaller != 0."
   ]
  },
  {
   "cell_type": "code",
   "execution_count": 66,
   "metadata": {},
   "outputs": [
    {
     "name": "stdout",
     "output_type": "stream",
     "text": [
      "calculation, big:22 small: 8 rem:6\n",
      "calculation, big:8 small: 6 rem:2\n",
      "calculation, big:6 small: 2 rem:0\n",
      "2\n"
     ]
    }
   ],
   "source": [
    "def gcd(bigger, smaller):\n",
    "   if not bigger > smaller: # swap if necessary so bigger > smaller always\n",
    "      bigger, smaller = smaller, bigger\n",
    "   while smaller != 0:\n",
    "      remainder = bigger % smaller\n",
    "      print(f\"calculation, big:{bigger} small: {smaller} rem:{remainder}\") # comment out for lcm\n",
    "      bigger, smaller = smaller, remainder\n",
    "   return bigger\n",
    "\n",
    "print(gcd(22,8))"
   ]
  },
  {
   "cell_type": "markdown",
   "metadata": {},
   "source": [
    "An lcm function can be derived from the gcd function. The lcm function uses the gcd function, but the print calculation line should be commented out for better clarity."
   ]
  },
  {
   "cell_type": "code",
   "execution_count": 64,
   "metadata": {},
   "outputs": [
    {
     "data": {
      "text/plain": [
       "88"
      ]
     },
     "execution_count": 64,
     "metadata": {},
     "output_type": "execute_result"
    }
   ],
   "source": [
    "def lcm(a,b):\n",
    "   return (a*b)//gcd(a,b)\n",
    "\n",
    "lcm(22,8)"
   ]
  },
  {
   "cell_type": "markdown",
   "metadata": {},
   "source": [
    "<a id=\"classstepthree\"></a>\n",
    "\n",
    "##### **`Step Three`**\n",
    "\n",
    "To add and subtract the fractions, the `__add__` and `__sub__` methods need to be added, respectively, and the following needs to be done:\n",
    "\n",
    "**1.** Find the LCM of the two Rational instance denominators\n",
    "\n",
    "**2.** Modify the two Rational instances to have the LCM as the denominator, and the new numerator is the LCM times the rational number\n",
    "\n",
    "**3.** Find the sum of the modified numerators. Note the int conversion so the number will correctly be an int. Effectively, any floating-point rounding errors are truncated away\n",
    "\n",
    "**4.** Create a new **Rational,** with the sum as the numerator and the LCM as the denominator, and return it."
   ]
  },
  {
   "cell_type": "markdown",
   "metadata": {},
   "source": [
    "```python\n",
    "def gcd(bigger, smaller):\n",
    "   if not bigger > smaller: # swap if necessary so bigger > smaller always\n",
    "      bigger, smaller = smaller, bigger\n",
    "   while smaller != 0:\n",
    "      remainder = bigger % smaller\n",
    "      bigger, smaller = smaller, remainder\n",
    "   return bigger\n",
    "\n",
    "def lcm(a,b):\n",
    "   return (a*b)//gcd(a,b)\n",
    "\n",
    "class Rational(object):\n",
    "   def __init__(self, numer, denom=1):\n",
    "      self.numer = numer\n",
    "      self.denom = denom\n",
    "\n",
    "   def __str__(self):\n",
    "      return str(self.numer)+'/'+str(self.denom)\n",
    "\n",
    "   def __repr__(self):\n",
    "      return self.__str__()\n",
    "\n",
    "   def __add__(self, param_Rational): # add two rationals\n",
    "      # find lcm\n",
    "      the_lcm = lcm(self.denom, param_Rational.denom)\n",
    "      # multiply each by the lcm, then add\n",
    "      numerator_sum = (the_lcm * self.numer/self.denom) + \\\n",
    "         (the_lcm * param_Rational.numer/param_Rational.denom)\n",
    "      return Rational(int(numerator_sum), the_lcm)\n",
    "\n",
    "   def __sub__(self, param_Rational): # subtract two rationals\n",
    "      # subtraction is the same but with '-' instead of '+'\n",
    "      the_lcm = lcm(self.denom, param_Rational.denom)\n",
    "      numerator_diff = (the_lcm * self.numer/self.denom) - \\\n",
    "         (the_lcm * param_Rational.numer/param_Rational.denom)\n",
    "      return Rational(int(numerator_diff), the_lcm)\n",
    "\n",
    "one_half = Rational(1,2)\n",
    "two_fifths = Rational(2,5)\n",
    "\n",
    "sum_Rational = one_half + two_fifths\n",
    "print(sum_Rational)\n",
    "→ 9/10\n",
    "\n",
    "two = Rational(2)\n",
    "print(two - one_half)\n",
    "→ 3/2\n",
    "```"
   ]
  },
  {
   "cell_type": "markdown",
   "metadata": {},
   "source": [
    "* When **one_half** and **two_fifths** are added, many functions and methods get called. \n",
    "   * First, the system converts the binary operation into a method call by calling `__add__` with one_half **bound to self** and two_fifths as param_Rational. \n",
    "   * The `__add__` method calls **lcm,** which in turn calls **gcd.** The lcm value is then returned to the `__add__` method. \n",
    "   * Because a **Rational** needs to be returned, a call is made to the **Rational** constructor to construct the result. The numerator is converted into an int before calling the constructor; lcm returned an int so it didn't need conversion"
   ]
  },
  {
   "cell_type": "markdown",
   "metadata": {},
   "source": [
    "<a id=\"classstepfour\"></a>\n",
    "\n",
    "##### **`Step Four`**\n",
    "\n",
    "Now, the two rational numbers should be compared to see whether they are equal. Checking equality is complicated by the fact that two different rational numbers can be equal because their reduced values are equal, for example, $12/16 == 6/8$ because they both reduce to $3/4$. Therefore, the **fractions need to be reduced** to check for equality."
   ]
  },
  {
   "cell_type": "markdown",
   "metadata": {},
   "source": [
    "The first step in reducing a fraction is to find the greatest number that will divide into both the numerator and denominator: GCD. Having found that divisor, the numerator and denominator can be divided by that value, creating a new **Rational** instance that has been reduced.\n",
    "\n",
    "```python\n",
    "def reduce_rational(self):\n",
    "   # find the gcd and then divide the numer and denom by gcd\n",
    "   the_gcd = gcd(self.numer, self.denom)\n",
    "   return Rational(self.numer//the_gcd, self.denom//the_gcd)\n",
    "\n",
    "def __eq__(self, param_Rational):\n",
    "   # reduce both; then check that numer and denom are equal\n",
    "   reduced_self = self.reduce_rational()\n",
    "   reduced_param = param_Rational.reduce_rational()\n",
    "   return reduced_self.numer == reduced_param.numer and\\\n",
    "      reduced_self.denom == reduced_param.denom\n",
    "```\n",
    "\n",
    "for the **reduce_rational** method, if the fraction is already in its reduced form, then the GCD is 1. It is still divided, even if it is 1, as that is simpler to do than to check for that special case. "
   ]
  },
  {
   "cell_type": "markdown",
   "metadata": {},
   "source": [
    "<a id=\"classstepfive\"></a>\n",
    "\n",
    "##### **`Step Five`**\n",
    "\n",
    "int + Rational still does not work, so there's more to do. **Introspection** allows examination of the type of parameter(s) passed into a method, but that doesn't help with an expression like **1 + one_half.** The problem is that because the first element of the binary operation is an int, there is no way to automatically route the addition operation to the `__add__` method of Rational."
   ]
  },
  {
   "cell_type": "markdown",
   "metadata": {},
   "source": [
    "Python provides a way around this problem. For each math-like method predefined by the system, a reversed method exists:\n",
    "\n",
    "* `__radd__`\n",
    "\n",
    "* `__rsub__`\n",
    "\n",
    "* `__rmul__`\n",
    "\n",
    "* `__rdiv__`\n",
    "\n",
    "* `__rand__`\n",
    "\n",
    "* `__ror__`\n",
    "\n",
    "The following explanation follows **1 + Rational(1,2)**:\n",
    "\n",
    "**1.** Python tries to find an appropriate `__add__` method for ints. However, no such method exists with a parameter of type Rational\n",
    "\n",
    "**2.** Given that error, Python looks for the existence of an `__radd__` method in the second operand (Rational). If it exists, then Python automatically reverses the expression and calls `__radd__`. In this case, that expression will be **Rational(1,2).radd__(1)**\n",
    "\n",
    "**3.** If neither work, Python raises an error\n",
    "\n",
    "In the case of **int + Rational**, the `__radd__` maps the Rational to self and the int to the parameter. For addition, because addition is commutative, the existing, non-reversed `__add__` is called with the now properly ordered expression. \n",
    "\n",
    "```python\n",
    "def __radd__(self, param):\n",
    "   # mapping is reversed\n",
    "   return self.__add__(param)\n",
    "```"
   ]
  },
  {
   "cell_type": "markdown",
   "metadata": {},
   "source": [
    "<a id=\"classinheritence\"></a>\n",
    "\n",
    "#### **`Inheritance`**\n",
    "\n",
    "Again, information is shared between instances and classes. \n",
    "\n",
    "* A single class can have many instances, where each instance is initialized by the class's constructor method, `__init__`.\n",
    "\n",
    "* When constructed, one of the instance's attributes is the `__class__` attribute, indicating the class the instance was created from. This establishes the **instance-of** relationship. Every instance remembers what class it is an instance of.\n",
    "\n",
    "* When referencing a value in an attribute (instance.attribute_name), Python first looks in the instance for the attribute, and, if not found there, it then looks in the class the instance was derived from. In this way, attributes stored in the class are available to every instance derived from that class.\n"
   ]
  },
  {
   "cell_type": "markdown",
   "metadata": {},
   "source": [
    "In every definition of a Python class, the final element is a parenthetical list of classes that are called the **\"parent object.\"** Every class maintains at least one parent class. The two classes are said to have a **\"paarent-child\"**, **\"superclass-subclass\"**, or **\"based-derived class\"** relationship depending on who is doing the describing; the relationship is meant to represent the specialization of an object, often called an ***is-a*** relationship. \n",
    "\n",
    "This relationship is \"one-way,\" much as the \"instance-of\" relationship is \"one-way.\" The instance remembers who its class is, but the class does not track its instances. A class remembers who its parent class is, but the parent class does not track its child classes. Each Python class indicates specifically in its class definition who its parent class is: this gets recorded in the `__bases__` attribute of each class.\n",
    "\n",
    "The parent class value in each class establishes an \"is-a\" relationship, and how taken together, the \"is-a\" relationships establish a hierarchy:\n",
    "\n",
    "```python\n",
    "class MyClass(object): # parent is object\n",
    "   pass\n",
    "\n",
    "class MyChildClass(MyClass): # parent is MyClass\n",
    "   pass\n",
    "\n",
    "my_child_instance = MyChildClass()\n",
    "my_class_instance = MyClass()\n",
    "\n",
    "print(MyChildClass.__bases__)\n",
    "→ (<class '__main__.MyClass'>,)\n",
    "\n",
    "print(MyClass.__bases__)\n",
    "→ (<class 'object'>,)\n",
    "\n",
    "print(object.__bases__)\n",
    "→  ()\n",
    "\n",
    "print(my_child_instance.__class__)\n",
    "→ <class '__main__.MyChildClass'>\n",
    "\n",
    "print(type(my_child_instance))\n",
    "→ <class '__main__.MyChildClass'>\n",
    "\n",
    "```"
   ]
  },
  {
   "cell_type": "markdown",
   "metadata": {},
   "source": [
    "The order of search is now:\n",
    "\n",
    "**1.** Look in the instance; if not found there, go on\n",
    "\n",
    "**2.** Look in the class of the instance (up the \"instance-of\" relation); if not there, go on.\n",
    "\n",
    "**3.** Look up the class parent link, the \"is-a\" relation, and look in the parent class. Continue looking up the \"is-a\" links until the attribute is found or there are no more \"is-a\" links to follow (meaning that the attribute was not found and **object** has been reached)."
   ]
  },
  {
   "cell_type": "markdown",
   "metadata": {},
   "source": [
    "<a id=\"usinginheritance\"></a>\n",
    "\n",
    "##### **`Using Inheritance`**\n",
    "\n",
    "The promise of inheritance as an aspect of OOP relates to the ability to share common code:\n",
    "\n",
    "* If a new class is created as part of an existing class hierarchy, then the new class can **reuse** existing code from the hierarchy, specializing only those aspects or attributes that are unique to the new class\n",
    "\n",
    "* By sharing code from the class hierarchy, the coding of classes can be somewhat standardized. Standard code can be established to accomplish common tasks and a framework to develop new tasks. This means that groups can work together by sharing as much as possible, preventing errors and incompatibilities in their code. \n",
    "   * This emphasizes **group development.** OOP works best in a group environment, helping coordination of group develppment of software."
   ]
  },
  {
   "cell_type": "markdown",
   "metadata": {},
   "source": [
    "A group environment is how modern software is developed. It is rare that a single programmer does an entire development cycle, as it requires too much work and time. Software engineering is concerned with developing tools to make development; group development makes this easier to accomplish via OOP.\n",
    "\n",
    "OOP is particularly useful in a group setting. Firstly, **encapsulation** allows a class designer to write code for another programmer to solve a problem. The details of the class are hidden from the programmer; only the interface is made available. If the class must be modified in some way, then the class designer can modify the class as long as they can maintain the interface, the methods made available to the programmer. **Inheritance** does the same by providing standard methods via a class hierarchy, the group can make decisions as to how their code should be developed and shared. "
   ]
  },
  {
   "cell_type": "markdown",
   "metadata": {},
   "source": [
    "<a id=\"programdevwithclasses\"></a>\n",
    "\n",
    "#### **`Program Development with Classes`**\n",
    "\n",
    "This section develops a program that uses classes to get a better understanding of using classes. This problem considers a simulation of a natural habitat: a predator-prey problem. The simulation shows the dynamic interaction of these two populations."
   ]
  },
  {
   "cell_type": "markdown",
   "metadata": {},
   "source": [
    "As with any simulation, the programmer chooses what is represented, as no reasonably sized computer program can encompass the complexity of a full habitat. Within the simulation, the user can adjust the identified parameters, such as birth and death rates of each population, and observe the impact on each cycle and population. "
   ]
  },
  {
   "cell_type": "markdown",
   "metadata": {},
   "source": [
    "<ins>Rules for the Simulation:</ins>\n",
    "\n",
    "* The habitat updates itself in units of time called ***clock ticks.*** During one tick of the habitat clock, every animal in the island gets an opportunity to do something\n",
    "\n",
    "* All animals are given the opportunity to move into an adjacent space, if an empty adjacent space can be found. One move per clock tick is allowed \n",
    "\n",
    "* Both the predators and prey can reproduce. Each amimal is assigned a fixed ***breed time.*** If the animal is still alive after breed-time ticks of the clock, it will reproduce. The animal does so by finding an unoccupies, adjacent space and fills that space with the new animal (its offspring). The animal's  breed time is then reset to zero. An animal can breed at most once in a clock tick\n",
    "\n",
    "* The predators must eat. They have a fixed ***starve time.*** If they cannot find a prey to eay before starve-time ticks of the clock, they will die.\n",
    "\n",
    "* When a predator eats, it moves into an adjacent space that is occupied by prey (its meal). The prey is removed and the predator's starve time is reset to zero. Eating counts as the predator's move during that clock tick/\n",
    "\n",
    "* At the end of every clock tick, each animal's local clocks is updated. All animals' breed times are decremented and all predators' starve times are decremented. "
   ]
  },
  {
   "cell_type": "markdown",
   "metadata": {},
   "source": [
    "<a id=\"simusingoop\"></a>\n",
    "\n",
    "##### **`Simulation using OOP`**\n",
    "\n",
    "Simulation is perfectly suited for OOP. In OOP, objects need to be identified and their interactions need to be defined to create a program. Simulations require these kind of identifications"
   ]
  },
  {
   "cell_type": "markdown",
   "metadata": {},
   "source": [
    "For this specific simulation, there needs to be an island, moose (prey), and wolves (predators). There also needs to be methods that govern how they interact with each other and the main program. Similarly, there needs to be an **Island Class**, **Prey Class**, and **Predator Class.** \n",
    "\n",
    "With a single Prey class and a single Predator class, many instances of these classes can be created, and the instances can interact."
   ]
  },
  {
   "cell_type": "markdown",
   "metadata": {},
   "source": [
    "<a id=\"animalislandclass\"></a>\n",
    "\n",
    "##### **`The Example Classes`**\n",
    "\n",
    "For each class, it is important to identify what will be represented in each class instance, and how these instances can be manipulated (what methods are needed)"
   ]
  },
  {
   "cell_type": "markdown",
   "metadata": {},
   "source": [
    "`Island Class`\n",
    "\n",
    "This example will design an **Island** instance as a square, an *n x n* grid. Every element in the grid could potentially have one of three values: contains nothing, contains a predator, or contains a prey. \n",
    "\n",
    "To begin with, the grid is initialized to be empty at every grid position. The value 0 represents an empty grid position. Every class needs a constructor `__init__`, and it is generally useful to have a `__str__` method so that an island instance can be easily displayed. When an instance is created, only the size needs to be specified (the length of a side because the island is square)."
   ]
  },
  {
   "cell_type": "code",
   "execution_count": null,
   "metadata": {},
   "outputs": [],
   "source": [
    "class Island():\n",
    "   def __init__(self, n):\n",
    "      self.grid_size = n\n",
    "      self.grid = []\n",
    "      for i in range(n):\n",
    "         row = [0]*n\n",
    "         self.grid.append(row)\n",
    "      \n",
    "   def __str__(self):\n",
    "      s = \"\"\n",
    "      for j in range(self.grid_size-1, -1, -1):\n",
    "         for i in range(self.grid_size):\n",
    "            if not self.grid[i][j]:\n",
    "               s+= \"{:<2s}\".format('.'+\" \")\n",
    "            else:\n",
    "               s+= \"{:<2s}\".format((str(self.grid[i][j])) + \" \")\n",
    "         s+=\"\\n\"\n",
    "      return s\n",
    "   \n",
    "royale = Island(10)\n",
    "print(royale)"
   ]
  },
  {
   "cell_type": "markdown",
   "metadata": {},
   "source": [
    "In the `__init__` constructor, the size of the instance is saved and the grid represents the instance. Those two items are sufficient to represent the present state of the **Island** instance - essentially, the location in the grid of all the predators and prey. From the example, the current state of the instance is **empty.**\n",
    "\n",
    "A grid of *n rows* and *n column* can be though of as a list of *n rows* - each of the length *n.* A row is created that is a list of *n items* of value 0 using the repeat `*` operator. Finally, *n rows* are added to the instance grid, making the ***n $*$ n grid***\n",
    "\n",
    "<br>\n",
    "\n",
    "The `__str__` method prints the contents of each grid element. To keep with standard Cartesian coordinateds, the method print is configured in such a way that (0,0) is in the lower-left corner. This means that *$x$* is increasing to the right and that *$y$* is increasing to the top; however, because printing occurs from the top down, the highest-numbered row must be printed first. "
   ]
  },
  {
   "cell_type": "markdown",
   "metadata": {},
   "source": [
    "`Predator and Prey, Kinds of Animals`\n",
    "\n",
    "Both predator and prey occupy locations on the **Island** instance, and they must be able to move and breed. Because they share these characteristics, it makes sense that they inherit those characteristics from a common parent, the **Animal Object**\n",
    "\n",
    "Each instance need to know where it is on the **Island** instance, but it is important to question where to keep that location information, whether with the **Animal instance**, with the **Island instance**, or with both. Each **Animal** instance needs to know where it is, its local information, but it also needs to be aware of what else is in its surroundings, the global information. Similarly, it is important to control how many animals can be at the same place at the same time\n",
    "* For those reasons, an **Animal** instance will have as *local* state its location on the island grid, its $x$ and $y$ coordinated. The **Island** instancs keeps its global state information on all the inhabitants by making in each grid location what is presently there, including nothing\n",
    "\n",
    "An **Animal Object** will need the following: its name (string), its location (x,y coordinates) on the island, and the Island instance (the island the animal is on).\n",
    "\n",
    "The `__init__` constructor will need to take in each of these values as parameters. The $x$ and $y$ values indicate where on the island the animalwill be placed. The **Animal** instance will also need to know the island it is located on, and the instance will need names (moose and wolf)."
   ]
  }
 ],
 "metadata": {
  "kernelspec": {
   "display_name": "Python 3",
   "language": "python",
   "name": "python3"
  },
  "language_info": {
   "codemirror_mode": {
    "name": "ipython",
    "version": 3
   },
   "file_extension": ".py",
   "mimetype": "text/x-python",
   "name": "python",
   "nbconvert_exporter": "python",
   "pygments_lexer": "ipython3",
   "version": "3.9.13"
  }
 },
 "nbformat": 4,
 "nbformat_minor": 2
}
